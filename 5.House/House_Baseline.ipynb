{
  "nbformat": 4,
  "nbformat_minor": 0,
  "metadata": {
    "colab": {
      "name": "House_Baseline.ipynb",
      "provenance": [],
      "collapsed_sections": [],
      "mount_file_id": "1KKKsnou1DtAwbiyTZrMLjjug5kbX4_ZX",
      "authorship_tag": "ABX9TyMSMoZW84VkXT6bXwuHBWat",
      "include_colab_link": true
    },
    "kernelspec": {
      "name": "python3",
      "display_name": "Python 3"
    }
  },
  "cells": [
    {
      "cell_type": "markdown",
      "metadata": {
        "id": "view-in-github",
        "colab_type": "text"
      },
      "source": [
        "<a href=\"https://colab.research.google.com/github/Lutris98/21_1Q/blob/master/5.House/House_Baseline.ipynb\" target=\"_parent\"><img src=\"https://colab.research.google.com/assets/colab-badge.svg\" alt=\"Open In Colab\"/></a>"
      ]
    },
    {
      "cell_type": "markdown",
      "metadata": {
        "id": "rbGPZm7heSLv"
      },
      "source": [
        "#1.EDA"
      ]
    },
    {
      "cell_type": "code",
      "metadata": {
        "id": "jVTXZ7VEuHLB"
      },
      "source": [
        "import numpy as np\n",
        "import pandas as pd\n",
        "import matplotlib.pyplot as plt\n",
        "import seaborn as sns\n",
        "from sklearn.model_selection import train_test_split, GridSearchCV\n",
        "from sklearn.ensemble import RandomForestRegressor,VotingRegressor\n",
        "from xgboost import XGBRegressor\n",
        "from lightgbm import LGBMRegressor\n",
        "from sklearn.linear_model import Ridge\n",
        "from sklearn.metrics import mean_squared_error, mean_absolute_error"
      ],
      "execution_count": 9,
      "outputs": []
    },
    {
      "cell_type": "code",
      "metadata": {
        "colab": {
          "base_uri": "https://localhost:8080/"
        },
        "id": "yw4fwIoLs4-i",
        "outputId": "b0946433-cf8c-4e3a-f4aa-26c976523c24"
      },
      "source": [
        "from google.colab import drive\n",
        "drive.mount('/content/gdrive')\n",
        "train_df=pd.read_csv('/content/gdrive/MyDrive/Dataset/house_train.csv')\n",
        "test_df=pd.read_csv('/content/gdrive/MyDrive/Dataset/house_test.csv')"
      ],
      "execution_count": 10,
      "outputs": [
        {
          "output_type": "stream",
          "text": [
            "Drive already mounted at /content/gdrive; to attempt to forcibly remount, call drive.mount(\"/content/gdrive\", force_remount=True).\n"
          ],
          "name": "stdout"
        }
      ]
    },
    {
      "cell_type": "code",
      "metadata": {
        "id": "3lZuOy_OvgJj"
      },
      "source": [
        ""
      ],
      "execution_count": null,
      "outputs": []
    },
    {
      "cell_type": "markdown",
      "metadata": {
        "id": "oPCDm7_NeSXG"
      },
      "source": [
        "##1)Basic statistics"
      ]
    },
    {
      "cell_type": "markdown",
      "metadata": {
        "id": "R6Lgu5IpeSZf"
      },
      "source": [
        "##2)Basic feature selection\r\n"
      ]
    },
    {
      "cell_type": "markdown",
      "metadata": {
        "id": "bsKhdQ5-eSd_"
      },
      "source": [
        "##3)Encoding"
      ]
    },
    {
      "cell_type": "markdown",
      "metadata": {
        "id": "6eIXTVPueShH"
      },
      "source": [
        "#2.Preprocessing(with Visualization)"
      ]
    },
    {
      "cell_type": "markdown",
      "metadata": {
        "id": "D9c_Y1nYeSkR"
      },
      "source": [
        "##1)Null filling"
      ]
    },
    {
      "cell_type": "markdown",
      "metadata": {
        "id": "FrClhaqzeSm2"
      },
      "source": [
        "##2)Scaling&Outlier removal"
      ]
    },
    {
      "cell_type": "markdown",
      "metadata": {
        "id": "OfolJQYaljZn"
      },
      "source": [
        "##3)feature selection"
      ]
    },
    {
      "cell_type": "markdown",
      "metadata": {
        "id": "QH2fSRiSeSpW"
      },
      "source": [
        "#3.Modeling"
      ]
    },
    {
      "cell_type": "markdown",
      "metadata": {
        "id": "Uir1DtRsvCiA"
      },
      "source": [
        "#1)Uploading"
      ]
    },
    {
      "cell_type": "markdown",
      "metadata": {
        "id": "IdK5veUvvFk9"
      },
      "source": [
        "#2)Feedback\r\n",
        "baseline : "
      ]
    },
    {
      "cell_type": "markdown",
      "metadata": {
        "id": "jsyBqzINvIid"
      },
      "source": [
        "#3)Afterwords\r\n",
        "regression problems are mostly time series analysis anyways"
      ]
    }
  ]
}