{
  "nbformat": 4,
  "nbformat_minor": 0,
  "metadata": {
    "colab": {
      "name": "Titanic_trial2.ipynb",
      "provenance": [],
      "collapsed_sections": [],
      "toc_visible": true,
      "authorship_tag": "ABX9TyPAg7MPGieI76TJosbxevT+",
      "include_colab_link": true
    },
    "kernelspec": {
      "name": "python3",
      "display_name": "Python 3"
    }
  },
  "cells": [
    {
      "cell_type": "markdown",
      "metadata": {
        "id": "view-in-github",
        "colab_type": "text"
      },
      "source": [
        "<a href=\"https://colab.research.google.com/github/Lutris98/21_1Q/blob/master/1.Titanic/Titanic_Prototype.ipynb\" target=\"_parent\"><img src=\"https://colab.research.google.com/assets/colab-badge.svg\" alt=\"Open In Colab\"/></a>"
      ]
    },
    {
      "cell_type": "markdown",
      "metadata": {
        "id": "AaDmu6d-9pwA"
      },
      "source": [
        "# 1.EDA"
      ]
    },
    {
      "cell_type": "code",
      "metadata": {
        "id": "uNOjOEZEge3O"
      },
      "source": [
        "import pandas as pd \r\n",
        "import matplotlib.pyplot as plt\r\n",
        "import seaborn as sns\r\n",
        "from sklearn.model_selection import train_test_split, cross_val_score, GridSearchCV #model_selection doesn't need mentioning, only the method does\r\n",
        "from sklearn.preprocessing import LabelEncoder, StandardScaler\r\n",
        "from sklearn.ensemble import RandomForestClassifier, VotingClassifier\r\n",
        "from xgboost import XGBClassifier\r\n",
        "from lightgbm import LGBMClassifier\r\n",
        "from sklearn.linear_model import LogisticRegression\r\n",
        "from sklearn.metrics import accuracy_score #given metric was accuracy\r\n"
      ],
      "execution_count": 155,
      "outputs": []
    },
    {
      "cell_type": "code",
      "metadata": {
        "colab": {
          "base_uri": "https://localhost:8080/"
        },
        "id": "H5WPdAAm0Qsy",
        "outputId": "1c74d074-4558-4c93-f722-ecb5875ccdaa"
      },
      "source": [
        "from google.colab import drive #Korean Army banned me from using os resources so I learned new ways\r\n",
        "drive.mount('/content/gdrive')\r\n",
        "titanic_df=pd.read_csv('/content/gdrive/MyDrive/Dataset/titanic_train.csv') "
      ],
      "execution_count": 156,
      "outputs": [
        {
          "output_type": "stream",
          "text": [
            "Drive already mounted at /content/gdrive; to attempt to forcibly remount, call drive.mount(\"/content/gdrive\", force_remount=True).\n"
          ],
          "name": "stdout"
        }
      ]
    },
    {
      "cell_type": "markdown",
      "metadata": {
        "id": "TGj0Qo6Jx1Mn"
      },
      "source": [
        "##1)Basic Statistics"
      ]
    },
    {
      "cell_type": "code",
      "metadata": {
        "colab": {
          "base_uri": "https://localhost:8080/",
          "height": 142
        },
        "id": "XNwPVclMMOJT",
        "outputId": "94879e90-78f3-4fcc-e6e5-7613ce47395b"
      },
      "source": [
        "titanic_df.head(3) "
      ],
      "execution_count": 157,
      "outputs": [
        {
          "output_type": "execute_result",
          "data": {
            "text/html": [
              "<div>\n",
              "<style scoped>\n",
              "    .dataframe tbody tr th:only-of-type {\n",
              "        vertical-align: middle;\n",
              "    }\n",
              "\n",
              "    .dataframe tbody tr th {\n",
              "        vertical-align: top;\n",
              "    }\n",
              "\n",
              "    .dataframe thead th {\n",
              "        text-align: right;\n",
              "    }\n",
              "</style>\n",
              "<table border=\"1\" class=\"dataframe\">\n",
              "  <thead>\n",
              "    <tr style=\"text-align: right;\">\n",
              "      <th></th>\n",
              "      <th>PassengerId</th>\n",
              "      <th>Survived</th>\n",
              "      <th>Pclass</th>\n",
              "      <th>Name</th>\n",
              "      <th>Sex</th>\n",
              "      <th>Age</th>\n",
              "      <th>SibSp</th>\n",
              "      <th>Parch</th>\n",
              "      <th>Ticket</th>\n",
              "      <th>Fare</th>\n",
              "      <th>Cabin</th>\n",
              "      <th>Embarked</th>\n",
              "    </tr>\n",
              "  </thead>\n",
              "  <tbody>\n",
              "    <tr>\n",
              "      <th>0</th>\n",
              "      <td>1</td>\n",
              "      <td>0</td>\n",
              "      <td>3</td>\n",
              "      <td>Braund, Mr. Owen Harris</td>\n",
              "      <td>male</td>\n",
              "      <td>22.0</td>\n",
              "      <td>1</td>\n",
              "      <td>0</td>\n",
              "      <td>A/5 21171</td>\n",
              "      <td>7.2500</td>\n",
              "      <td>NaN</td>\n",
              "      <td>S</td>\n",
              "    </tr>\n",
              "    <tr>\n",
              "      <th>1</th>\n",
              "      <td>2</td>\n",
              "      <td>1</td>\n",
              "      <td>1</td>\n",
              "      <td>Cumings, Mrs. John Bradley (Florence Briggs Th...</td>\n",
              "      <td>female</td>\n",
              "      <td>38.0</td>\n",
              "      <td>1</td>\n",
              "      <td>0</td>\n",
              "      <td>PC 17599</td>\n",
              "      <td>71.2833</td>\n",
              "      <td>C85</td>\n",
              "      <td>C</td>\n",
              "    </tr>\n",
              "    <tr>\n",
              "      <th>2</th>\n",
              "      <td>3</td>\n",
              "      <td>1</td>\n",
              "      <td>3</td>\n",
              "      <td>Heikkinen, Miss. Laina</td>\n",
              "      <td>female</td>\n",
              "      <td>26.0</td>\n",
              "      <td>0</td>\n",
              "      <td>0</td>\n",
              "      <td>STON/O2. 3101282</td>\n",
              "      <td>7.9250</td>\n",
              "      <td>NaN</td>\n",
              "      <td>S</td>\n",
              "    </tr>\n",
              "  </tbody>\n",
              "</table>\n",
              "</div>"
            ],
            "text/plain": [
              "   PassengerId  Survived  Pclass  ...     Fare Cabin  Embarked\n",
              "0            1         0       3  ...   7.2500   NaN         S\n",
              "1            2         1       1  ...  71.2833   C85         C\n",
              "2            3         1       3  ...   7.9250   NaN         S\n",
              "\n",
              "[3 rows x 12 columns]"
            ]
          },
          "metadata": {
            "tags": []
          },
          "execution_count": 157
        }
      ]
    },
    {
      "cell_type": "code",
      "metadata": {
        "colab": {
          "base_uri": "https://localhost:8080/"
        },
        "id": "SGCRXDRJ3kA9",
        "outputId": "b63311d0-d34e-4dc0-de17-f1d224703c51"
      },
      "source": [
        "titanic_df.info() #objects are strings"
      ],
      "execution_count": 158,
      "outputs": [
        {
          "output_type": "stream",
          "text": [
            "<class 'pandas.core.frame.DataFrame'>\n",
            "RangeIndex: 891 entries, 0 to 890\n",
            "Data columns (total 12 columns):\n",
            " #   Column       Non-Null Count  Dtype  \n",
            "---  ------       --------------  -----  \n",
            " 0   PassengerId  891 non-null    int64  \n",
            " 1   Survived     891 non-null    int64  \n",
            " 2   Pclass       891 non-null    int64  \n",
            " 3   Name         891 non-null    object \n",
            " 4   Sex          891 non-null    object \n",
            " 5   Age          714 non-null    float64\n",
            " 6   SibSp        891 non-null    int64  \n",
            " 7   Parch        891 non-null    int64  \n",
            " 8   Ticket       891 non-null    object \n",
            " 9   Fare         891 non-null    float64\n",
            " 10  Cabin        204 non-null    object \n",
            " 11  Embarked     889 non-null    object \n",
            "dtypes: float64(2), int64(5), object(5)\n",
            "memory usage: 83.7+ KB\n"
          ],
          "name": "stdout"
        }
      ]
    },
    {
      "cell_type": "code",
      "metadata": {
        "id": "SwrGPAnD4zXu"
      },
      "source": [
        "titanic_feature=titanic_df.drop(['Survived'], axis=1) #parameter axis is mandatory\r\n",
        "titanic_label=titanic_df['Survived']"
      ],
      "execution_count": 159,
      "outputs": []
    },
    {
      "cell_type": "markdown",
      "metadata": {
        "id": "pssm7r6kyDnO"
      },
      "source": [
        "##2)Visualization"
      ]
    },
    {
      "cell_type": "markdown",
      "metadata": {
        "id": "TGUl6OZO90ya"
      },
      "source": [
        "#2.Preprocessing"
      ]
    },
    {
      "cell_type": "markdown",
      "metadata": {
        "id": "J-UNhqZlycAw"
      },
      "source": [
        "##1)Dropping&Padding"
      ]
    },
    {
      "cell_type": "code",
      "metadata": {
        "colab": {
          "base_uri": "https://localhost:8080/"
        },
        "id": "0hZHp8aYBSdj",
        "outputId": "789e62d9-7662-4d55-ccf4-89b7586e4280"
      },
      "source": [
        "titanic_feature=titanic_feature.drop(['PassengerId', 'Name', 'Ticket'], axis=1) #drop method doesn't allow inplacing(Should check results along the way)\r\n",
        "titanic_feature['Age'].fillna(titanic_feature['Age'].mean(), inplace=True) #could be affecting, so average would minimize the loss(for further development, something could be inferred from sibsp&parch)\r\n",
        "titanic_feature['Cabin'].fillna('N', inplace=True) #inplacing so that additional object would be unnecesory\r\n",
        "titanic_feature['Embarked'].fillna('N',inplace=True) #Wonder features like this would be better off set random...\r\n",
        "print(titanic_feature.isnull().sum().sum()) #checking"
      ],
      "execution_count": 160,
      "outputs": [
        {
          "output_type": "stream",
          "text": [
            "0\n"
          ],
          "name": "stdout"
        }
      ]
    },
    {
      "cell_type": "markdown",
      "metadata": {
        "id": "GV61NjGqzgQq"
      },
      "source": [
        "##2)Encoding"
      ]
    },
    {
      "cell_type": "code",
      "metadata": {
        "colab": {
          "base_uri": "https://localhost:8080/"
        },
        "id": "ObS8b057FfAm",
        "outputId": "4d6281d6-3236-419f-d20d-f8f9ffc2cac6"
      },
      "source": [
        "print('Sex distribution:\\n',titanic_feature['Sex'].value_counts()) #focusing on columns\r\n",
        "print('Cabin distribution\\n',titanic_feature['Cabin'].value_counts())\r\n",
        "print('Embarked distribution:\\n',titanic_feature['Embarked'].value_counts())"
      ],
      "execution_count": 161,
      "outputs": [
        {
          "output_type": "stream",
          "text": [
            "Sex distribution:\n",
            " male      577\n",
            "female    314\n",
            "Name: Sex, dtype: int64\n",
            "Cabin distribution\n",
            " N              687\n",
            "C23 C25 C27      4\n",
            "B96 B98          4\n",
            "G6               4\n",
            "E101             3\n",
            "              ... \n",
            "T                1\n",
            "C148             1\n",
            "F38              1\n",
            "E36              1\n",
            "C111             1\n",
            "Name: Cabin, Length: 148, dtype: int64\n",
            "Embarked distribution:\n",
            " S    644\n",
            "C    168\n",
            "Q     77\n",
            "N      2\n",
            "Name: Embarked, dtype: int64\n"
          ],
          "name": "stdout"
        }
      ]
    },
    {
      "cell_type": "code",
      "metadata": {
        "id": "trpeRTyOG1nB"
      },
      "source": [
        "titanic_feature['Cabin']=titanic_df['Cabin'].str[:1] #Cabin needs insight that only the first character contains information #pd.str is applicable to series\r\n",
        "features=['Cabin','Sex','Embarked']\r\n",
        "for feature in features:\r\n",
        "  titanic_feature[feature]=LabelEncoder().fit_transform(titanic_feature[feature].astype(str)) #changing dtype of series"
      ],
      "execution_count": 162,
      "outputs": []
    },
    {
      "cell_type": "markdown",
      "metadata": {
        "id": "oJ3xBB-6znjB"
      },
      "source": [
        "##3)Scaling&Outliers"
      ]
    },
    {
      "cell_type": "code",
      "metadata": {
        "colab": {
          "base_uri": "https://localhost:8080/",
          "height": 297
        },
        "id": "l7K7ENhq1H_X",
        "outputId": "e7065d82-5013-4b2e-a4df-52c3d70e6d39"
      },
      "source": [
        "titanic_feature.describe()"
      ],
      "execution_count": 163,
      "outputs": [
        {
          "output_type": "execute_result",
          "data": {
            "text/html": [
              "<div>\n",
              "<style scoped>\n",
              "    .dataframe tbody tr th:only-of-type {\n",
              "        vertical-align: middle;\n",
              "    }\n",
              "\n",
              "    .dataframe tbody tr th {\n",
              "        vertical-align: top;\n",
              "    }\n",
              "\n",
              "    .dataframe thead th {\n",
              "        text-align: right;\n",
              "    }\n",
              "</style>\n",
              "<table border=\"1\" class=\"dataframe\">\n",
              "  <thead>\n",
              "    <tr style=\"text-align: right;\">\n",
              "      <th></th>\n",
              "      <th>Pclass</th>\n",
              "      <th>Sex</th>\n",
              "      <th>Age</th>\n",
              "      <th>SibSp</th>\n",
              "      <th>Parch</th>\n",
              "      <th>Fare</th>\n",
              "      <th>Cabin</th>\n",
              "      <th>Embarked</th>\n",
              "    </tr>\n",
              "  </thead>\n",
              "  <tbody>\n",
              "    <tr>\n",
              "      <th>count</th>\n",
              "      <td>891.000000</td>\n",
              "      <td>891.000000</td>\n",
              "      <td>891.000000</td>\n",
              "      <td>891.000000</td>\n",
              "      <td>891.000000</td>\n",
              "      <td>891.000000</td>\n",
              "      <td>891.000000</td>\n",
              "      <td>891.000000</td>\n",
              "    </tr>\n",
              "    <tr>\n",
              "      <th>mean</th>\n",
              "      <td>2.308642</td>\n",
              "      <td>0.647587</td>\n",
              "      <td>29.699118</td>\n",
              "      <td>0.523008</td>\n",
              "      <td>0.381594</td>\n",
              "      <td>32.204208</td>\n",
              "      <td>6.716049</td>\n",
              "      <td>2.343434</td>\n",
              "    </tr>\n",
              "    <tr>\n",
              "      <th>std</th>\n",
              "      <td>0.836071</td>\n",
              "      <td>0.477990</td>\n",
              "      <td>13.002015</td>\n",
              "      <td>1.102743</td>\n",
              "      <td>0.806057</td>\n",
              "      <td>49.693429</td>\n",
              "      <td>2.460739</td>\n",
              "      <td>1.167398</td>\n",
              "    </tr>\n",
              "    <tr>\n",
              "      <th>min</th>\n",
              "      <td>1.000000</td>\n",
              "      <td>0.000000</td>\n",
              "      <td>0.420000</td>\n",
              "      <td>0.000000</td>\n",
              "      <td>0.000000</td>\n",
              "      <td>0.000000</td>\n",
              "      <td>0.000000</td>\n",
              "      <td>0.000000</td>\n",
              "    </tr>\n",
              "    <tr>\n",
              "      <th>25%</th>\n",
              "      <td>2.000000</td>\n",
              "      <td>0.000000</td>\n",
              "      <td>22.000000</td>\n",
              "      <td>0.000000</td>\n",
              "      <td>0.000000</td>\n",
              "      <td>7.910400</td>\n",
              "      <td>8.000000</td>\n",
              "      <td>2.000000</td>\n",
              "    </tr>\n",
              "    <tr>\n",
              "      <th>50%</th>\n",
              "      <td>3.000000</td>\n",
              "      <td>1.000000</td>\n",
              "      <td>29.699118</td>\n",
              "      <td>0.000000</td>\n",
              "      <td>0.000000</td>\n",
              "      <td>14.454200</td>\n",
              "      <td>8.000000</td>\n",
              "      <td>3.000000</td>\n",
              "    </tr>\n",
              "    <tr>\n",
              "      <th>75%</th>\n",
              "      <td>3.000000</td>\n",
              "      <td>1.000000</td>\n",
              "      <td>35.000000</td>\n",
              "      <td>1.000000</td>\n",
              "      <td>0.000000</td>\n",
              "      <td>31.000000</td>\n",
              "      <td>8.000000</td>\n",
              "      <td>3.000000</td>\n",
              "    </tr>\n",
              "    <tr>\n",
              "      <th>max</th>\n",
              "      <td>3.000000</td>\n",
              "      <td>1.000000</td>\n",
              "      <td>80.000000</td>\n",
              "      <td>8.000000</td>\n",
              "      <td>6.000000</td>\n",
              "      <td>512.329200</td>\n",
              "      <td>8.000000</td>\n",
              "      <td>3.000000</td>\n",
              "    </tr>\n",
              "  </tbody>\n",
              "</table>\n",
              "</div>"
            ],
            "text/plain": [
              "           Pclass         Sex         Age  ...        Fare       Cabin    Embarked\n",
              "count  891.000000  891.000000  891.000000  ...  891.000000  891.000000  891.000000\n",
              "mean     2.308642    0.647587   29.699118  ...   32.204208    6.716049    2.343434\n",
              "std      0.836071    0.477990   13.002015  ...   49.693429    2.460739    1.167398\n",
              "min      1.000000    0.000000    0.420000  ...    0.000000    0.000000    0.000000\n",
              "25%      2.000000    0.000000   22.000000  ...    7.910400    8.000000    2.000000\n",
              "50%      3.000000    1.000000   29.699118  ...   14.454200    8.000000    3.000000\n",
              "75%      3.000000    1.000000   35.000000  ...   31.000000    8.000000    3.000000\n",
              "max      3.000000    1.000000   80.000000  ...  512.329200    8.000000    3.000000\n",
              "\n",
              "[8 rows x 8 columns]"
            ]
          },
          "metadata": {
            "tags": []
          },
          "execution_count": 163
        }
      ]
    },
    {
      "cell_type": "code",
      "metadata": {
        "colab": {
          "base_uri": "https://localhost:8080/",
          "height": 297
        },
        "id": "90E1LZCWzz4S",
        "outputId": "8bbe72dc-2544-41aa-96dc-544e115f462e"
      },
      "source": [
        "for feature in titanic_feature.columns: \r\n",
        "  titanic_feature[feature]=StandardScaler().fit_transform(titanic_feature[feature].values.reshape(-1,1)) #not a regression problem, so distribution might not be the problem #Scalers need ndarray\r\n",
        "titanic_feature.describe()"
      ],
      "execution_count": 164,
      "outputs": [
        {
          "output_type": "execute_result",
          "data": {
            "text/html": [
              "<div>\n",
              "<style scoped>\n",
              "    .dataframe tbody tr th:only-of-type {\n",
              "        vertical-align: middle;\n",
              "    }\n",
              "\n",
              "    .dataframe tbody tr th {\n",
              "        vertical-align: top;\n",
              "    }\n",
              "\n",
              "    .dataframe thead th {\n",
              "        text-align: right;\n",
              "    }\n",
              "</style>\n",
              "<table border=\"1\" class=\"dataframe\">\n",
              "  <thead>\n",
              "    <tr style=\"text-align: right;\">\n",
              "      <th></th>\n",
              "      <th>Pclass</th>\n",
              "      <th>Sex</th>\n",
              "      <th>Age</th>\n",
              "      <th>SibSp</th>\n",
              "      <th>Parch</th>\n",
              "      <th>Fare</th>\n",
              "      <th>Cabin</th>\n",
              "      <th>Embarked</th>\n",
              "    </tr>\n",
              "  </thead>\n",
              "  <tbody>\n",
              "    <tr>\n",
              "      <th>count</th>\n",
              "      <td>8.910000e+02</td>\n",
              "      <td>8.910000e+02</td>\n",
              "      <td>8.910000e+02</td>\n",
              "      <td>8.910000e+02</td>\n",
              "      <td>8.910000e+02</td>\n",
              "      <td>8.910000e+02</td>\n",
              "      <td>8.910000e+02</td>\n",
              "      <td>8.910000e+02</td>\n",
              "    </tr>\n",
              "    <tr>\n",
              "      <th>mean</th>\n",
              "      <td>-2.031048e-16</td>\n",
              "      <td>-4.059603e-16</td>\n",
              "      <td>2.562796e-16</td>\n",
              "      <td>3.456519e-16</td>\n",
              "      <td>6.716164e-17</td>\n",
              "      <td>-4.373606e-17</td>\n",
              "      <td>3.031619e-16</td>\n",
              "      <td>2.666529e-17</td>\n",
              "    </tr>\n",
              "    <tr>\n",
              "      <th>std</th>\n",
              "      <td>1.000562e+00</td>\n",
              "      <td>1.000562e+00</td>\n",
              "      <td>1.000562e+00</td>\n",
              "      <td>1.000562e+00</td>\n",
              "      <td>1.000562e+00</td>\n",
              "      <td>1.000562e+00</td>\n",
              "      <td>1.000562e+00</td>\n",
              "      <td>1.000562e+00</td>\n",
              "    </tr>\n",
              "    <tr>\n",
              "      <th>min</th>\n",
              "      <td>-1.566107e+00</td>\n",
              "      <td>-1.355574e+00</td>\n",
              "      <td>-2.253155e+00</td>\n",
              "      <td>-4.745452e-01</td>\n",
              "      <td>-4.736736e-01</td>\n",
              "      <td>-6.484217e-01</td>\n",
              "      <td>-2.730814e+00</td>\n",
              "      <td>-2.008526e+00</td>\n",
              "    </tr>\n",
              "    <tr>\n",
              "      <th>25%</th>\n",
              "      <td>-3.693648e-01</td>\n",
              "      <td>-1.355574e+00</td>\n",
              "      <td>-5.924806e-01</td>\n",
              "      <td>-4.745452e-01</td>\n",
              "      <td>-4.736736e-01</td>\n",
              "      <td>-4.891482e-01</td>\n",
              "      <td>5.220674e-01</td>\n",
              "      <td>-2.943530e-01</td>\n",
              "    </tr>\n",
              "    <tr>\n",
              "      <th>50%</th>\n",
              "      <td>8.273772e-01</td>\n",
              "      <td>7.376951e-01</td>\n",
              "      <td>0.000000e+00</td>\n",
              "      <td>-4.745452e-01</td>\n",
              "      <td>-4.736736e-01</td>\n",
              "      <td>-3.573909e-01</td>\n",
              "      <td>5.220674e-01</td>\n",
              "      <td>5.627337e-01</td>\n",
              "    </tr>\n",
              "    <tr>\n",
              "      <th>75%</th>\n",
              "      <td>8.273772e-01</td>\n",
              "      <td>7.376951e-01</td>\n",
              "      <td>4.079260e-01</td>\n",
              "      <td>4.327934e-01</td>\n",
              "      <td>-4.736736e-01</td>\n",
              "      <td>-2.424635e-02</td>\n",
              "      <td>5.220674e-01</td>\n",
              "      <td>5.627337e-01</td>\n",
              "    </tr>\n",
              "    <tr>\n",
              "      <th>max</th>\n",
              "      <td>8.273772e-01</td>\n",
              "      <td>7.376951e-01</td>\n",
              "      <td>3.870872e+00</td>\n",
              "      <td>6.784163e+00</td>\n",
              "      <td>6.974147e+00</td>\n",
              "      <td>9.667167e+00</td>\n",
              "      <td>5.220674e-01</td>\n",
              "      <td>5.627337e-01</td>\n",
              "    </tr>\n",
              "  </tbody>\n",
              "</table>\n",
              "</div>"
            ],
            "text/plain": [
              "             Pclass           Sex  ...         Cabin      Embarked\n",
              "count  8.910000e+02  8.910000e+02  ...  8.910000e+02  8.910000e+02\n",
              "mean  -2.031048e-16 -4.059603e-16  ...  3.031619e-16  2.666529e-17\n",
              "std    1.000562e+00  1.000562e+00  ...  1.000562e+00  1.000562e+00\n",
              "min   -1.566107e+00 -1.355574e+00  ... -2.730814e+00 -2.008526e+00\n",
              "25%   -3.693648e-01 -1.355574e+00  ...  5.220674e-01 -2.943530e-01\n",
              "50%    8.273772e-01  7.376951e-01  ...  5.220674e-01  5.627337e-01\n",
              "75%    8.273772e-01  7.376951e-01  ...  5.220674e-01  5.627337e-01\n",
              "max    8.273772e-01  7.376951e-01  ...  5.220674e-01  5.627337e-01\n",
              "\n",
              "[8 rows x 8 columns]"
            ]
          },
          "metadata": {
            "tags": []
          },
          "execution_count": 164
        }
      ]
    },
    {
      "cell_type": "markdown",
      "metadata": {
        "id": "vPEjfjGrKtOr"
      },
      "source": [
        "#3.CV & Tuning"
      ]
    },
    {
      "cell_type": "code",
      "metadata": {
        "id": "XWHUJvRiK1ji"
      },
      "source": [
        "rf_clf=RandomForestClassifier(random_state=0) #Cross validation need models \r\n",
        "xgb_clf=XGBClassifier(random_state=0)\r\n",
        "lgbm_clf=LGBMClassifier(random_state=0)\r\n",
        "lr_clf=LogisticRegression(random_state=0, max_iter=5000)\r\n",
        "X_train, X_test, y_train, y_test=train_test_split(titanic_feature, titanic_label, test_size=0.2,random_state=0)"
      ],
      "execution_count": 165,
      "outputs": []
    },
    {
      "cell_type": "code",
      "metadata": {
        "id": "KkrHw-VNbTv8",
        "colab": {
          "base_uri": "https://localhost:8080/"
        },
        "outputId": "2fbd6143-4536-4ae6-9b70-d8ae6c6c511a"
      },
      "source": [
        "rf_params={'n_estimators':[200,300],\r\n",
        "           'max_depth':[6,8,10,12], #similar to decisiontree\r\n",
        "           'min_samples_leaf':[3,5,7],\r\n",
        "           'min_samples_split':[10,15,20]}\r\n",
        "rf_gridcv=GridSearchCV(rf_clf, param_grid=rf_params, cv=5, n_jobs=-1) #using all CPU cores\r\n",
        "rf_gridcv.fit(X_train, y_train)\r\n",
        "print('best parameters:\\n',rf_gridcv.best_params_)"
      ],
      "execution_count": 166,
      "outputs": [
        {
          "output_type": "stream",
          "text": [
            "best parameters:\n",
            " {'max_depth': 10, 'min_samples_leaf': 5, 'min_samples_split': 15, 'n_estimators': 300}\n"
          ],
          "name": "stdout"
        }
      ]
    },
    {
      "cell_type": "code",
      "metadata": {
        "id": "hJtKJuQ-e0Ap",
        "colab": {
          "base_uri": "https://localhost:8080/"
        },
        "outputId": "05c6d157-0f75-4dac-9bc4-bc0a87f4818c"
      },
      "source": [
        "lgbm_params={'n_estimators':[200,300],\r\n",
        "             'num_leaves':[32,64],\r\n",
        "             'min_child_samples':[60,100],\r\n",
        "             'subsample':[0.8,1],\r\n",
        "             'max_depth':[10]}\r\n",
        "lgbm_gridcv=GridSearchCV(lgbm_clf, param_grid=lgbm_params, cv=5, n_jobs=-1) \r\n",
        "lgbm_gridcv.fit(X_train, y_train)\r\n",
        "print('best parameters:\\n',lgbm_gridcv.best_params_)"
      ],
      "execution_count": 167,
      "outputs": [
        {
          "output_type": "stream",
          "text": [
            "best parameters:\n",
            " {'max_depth': 10, 'min_child_samples': 60, 'n_estimators': 200, 'num_leaves': 32, 'subsample': 0.8}\n"
          ],
          "name": "stdout"
        }
      ]
    },
    {
      "cell_type": "code",
      "metadata": {
        "colab": {
          "base_uri": "https://localhost:8080/"
        },
        "id": "0LMoIOOjO49y",
        "outputId": "6939756d-3ba7-4f02-81e0-33d7710d176d"
      },
      "source": [
        "lr_params={'C':[0.1,1,10]}\r\n",
        "lr_gridcv=GridSearchCV(lr_clf, param_grid=lr_params, cv=5, n_jobs=-1) \r\n",
        "lr_gridcv.fit(X_train, y_train)\r\n",
        "print('best parameters:\\n',lr_gridcv.best_params_)"
      ],
      "execution_count": 168,
      "outputs": [
        {
          "output_type": "stream",
          "text": [
            "best parameters:\n",
            " {'C': 0.1}\n"
          ],
          "name": "stdout"
        }
      ]
    },
    {
      "cell_type": "markdown",
      "metadata": {
        "id": "1unUXEw_NMcH"
      },
      "source": [
        "#4.Modeling"
      ]
    },
    {
      "cell_type": "code",
      "metadata": {
        "id": "Cjxu0w-0NQI-",
        "colab": {
          "base_uri": "https://localhost:8080/"
        },
        "outputId": "4568a017-15d3-4a87-c4a0-776e9696698c"
      },
      "source": [
        "rf_clf=RandomForestClassifier(n_estimators=200, max_depth=10, min_samples_leaf=3, min_samples_split=10, random_state=0) #Cross validation need models \r\n",
        "xgb_clf=XGBClassifier(n_estimators=200, max_depth=10,learning_rate=0.1)\r\n",
        "lgbm_clf=LGBMClassifier(n_estimators=300, num_leaves=32, min_child_samples=100, subsample=0.8, max_depth=10, random_state=0)\r\n",
        "lr_clf=LogisticRegression(C=0.1, solver='liblinear') #convergence achieved only when solver is changed from default\r\n",
        "vo_clf=VotingClassifier(estimators=[('RandomForest',rf_clf),('XGBoost',xgb_clf),('LightGBM',lgbm_clf),('LogisticRegression',lr_clf)], voting='soft')\r\n",
        "vo_clf.fit(X_train, y_train)\r\n",
        "pred1=rf_clf.fit(X_train, y_train).predict(X_test)\r\n",
        "pred2=xgb_clf.fit(X_train, y_train).predict(X_test)\r\n",
        "pred3=lgbm_clf.fit(X_train, y_train).predict(X_test)\r\n",
        "pred4=lr_clf.fit(X_train, y_train).predict(X_test)\r\n",
        "pred5=vo_clf.predict(X_test)\r\n",
        "print('Accuracy1:{0:.4f} Accuracy2:{1:.4f} Accuracy3:{2:4f} Accuracy4:{3:4f}'.format(accuracy_score(y_test,pred1), accuracy_score(y_test,pred2),accuracy_score(y_test,pred3),accuracy_score(y_test,pred4)))\r\n",
        "print('Final accuracy:{0:.4f}'.format(accuracy_score(y_test,pred5))) #from python3.6 should use fstring formatting  #:separates index and the number"
      ],
      "execution_count": 169,
      "outputs": [
        {
          "output_type": "stream",
          "text": [
            "Accuracy1:0.8380 Accuracy2:0.8547 Accuracy3:0.837989 Accuracy4:0.815642\n",
            "Final accuracy:0.8492\n"
          ],
          "name": "stdout"
        }
      ]
    },
    {
      "cell_type": "markdown",
      "metadata": {
        "id": "zOXTJAG5nVdH"
      },
      "source": [
        "# 1) Uploading"
      ]
    },
    {
      "cell_type": "code",
      "metadata": {
        "colab": {
          "base_uri": "https://localhost:8080/"
        },
        "id": "gvKx24sQnlXR",
        "outputId": "2416205e-9d74-425b-d062-ae08fe630d66"
      },
      "source": [
        "from google.colab import drive \r\n",
        "drive.mount('/content/gdrive')\r\n",
        "test_df=pd.read_csv('/content/gdrive/MyDrive/Dataset/titanic_test.csv') \r\n",
        "test_df.info()"
      ],
      "execution_count": 170,
      "outputs": [
        {
          "output_type": "stream",
          "text": [
            "Drive already mounted at /content/gdrive; to attempt to forcibly remount, call drive.mount(\"/content/gdrive\", force_remount=True).\n",
            "<class 'pandas.core.frame.DataFrame'>\n",
            "RangeIndex: 418 entries, 0 to 417\n",
            "Data columns (total 11 columns):\n",
            " #   Column       Non-Null Count  Dtype  \n",
            "---  ------       --------------  -----  \n",
            " 0   PassengerId  418 non-null    int64  \n",
            " 1   Pclass       418 non-null    int64  \n",
            " 2   Name         418 non-null    object \n",
            " 3   Sex          418 non-null    object \n",
            " 4   Age          332 non-null    float64\n",
            " 5   SibSp        418 non-null    int64  \n",
            " 6   Parch        418 non-null    int64  \n",
            " 7   Ticket       418 non-null    object \n",
            " 8   Fare         417 non-null    float64\n",
            " 9   Cabin        91 non-null     object \n",
            " 10  Embarked     418 non-null    object \n",
            "dtypes: float64(2), int64(4), object(5)\n",
            "memory usage: 36.0+ KB\n"
          ],
          "name": "stdout"
        }
      ]
    },
    {
      "cell_type": "code",
      "metadata": {
        "id": "Xs_hGd2xoL22"
      },
      "source": [
        "Pid=test_df['PassengerId']\r\n",
        "test_df=test_df.drop(['PassengerId','Name', 'Ticket'], axis=1) #uploading needs the same preprocessing I did on training set(but no need to split feature&label) #Better off written in functions\r\n",
        "test_df['Age'].fillna(test_df['Age'].mean(), inplace=True) \r\n",
        "test_df['Fare'].fillna(test_df['Fare'].mean(), inplace=True) \r\n",
        "test_df['Cabin'].fillna('N', inplace=True) \r\n",
        "test_df['Cabin']=test_df['Cabin'].str[:1] \r\n",
        "features=['Cabin','Sex','Embarked']\r\n",
        "for f1 in features:\r\n",
        "  test_df[f1]=LabelEncoder().fit_transform(test_df[f1].astype(str))\r\n",
        "for f2 in test_df.columns: \r\n",
        "  test_df[f2]=StandardScaler().fit_transform(test_df[f2].values.reshape(-1,1)) #not a regression problem, so distribution might not be the problem #Scalers need ndarray\r\n",
        "realpred=vo_clf.predict(test_df) #output of classifier is ndarray object\r\n",
        "realpred=pd.DataFrame(realpred, columns=['Survived']) #never forget[]\r\n",
        "Submit=pd.DataFrame({'PassengerId':Pid,'Survived':realpred['Survived']}) #Data set by giving each column name and data\r\n",
        "Submit.head(3)\r\n",
        "Submit.to_csv('/content/gdrive/MyDrive/Dataset/Lutris_titanic.csv', index = False) #The client doesn't want indice on submission"
      ],
      "execution_count": 171,
      "outputs": []
    },
    {
      "cell_type": "markdown",
      "metadata": {
        "id": "aXVyEpanGSr5"
      },
      "source": [
        "# 2) Feedback<br>\r\n"
      ]
    }
  ]
}