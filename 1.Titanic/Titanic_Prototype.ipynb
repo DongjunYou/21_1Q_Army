{
  "nbformat": 4,
  "nbformat_minor": 0,
  "metadata": {
    "colab": {
      "name": "Titanic_Prototype.ipynb",
      "provenance": [],
      "collapsed_sections": [],
      "toc_visible": true,
      "authorship_tag": "ABX9TyODZfHk0SbXqABy3kyF8+6b",
      "include_colab_link": true
    },
    "kernelspec": {
      "name": "python3",
      "display_name": "Python 3"
    }
  },
  "cells": [
    {
      "cell_type": "markdown",
      "metadata": {
        "id": "view-in-github",
        "colab_type": "text"
      },
      "source": [
        "<a href=\"https://colab.research.google.com/github/Lutris98/21_1Q/blob/master/1.Titanic/Titanic_Prototype.ipynb\" target=\"_parent\"><img src=\"https://colab.research.google.com/assets/colab-badge.svg\" alt=\"Open In Colab\"/></a>"
      ]
    },
    {
      "cell_type": "markdown",
      "metadata": {
        "id": "AaDmu6d-9pwA"
      },
      "source": [
        "# 1.EDA"
      ]
    },
    {
      "cell_type": "code",
      "metadata": {
        "id": "uNOjOEZEge3O"
      },
      "source": [
        "import pandas as pd \r\n",
        "import matplotlib.pyplot as plt\r\n",
        "import seaborn as sns\r\n",
        "from sklearn.preprocessing import LabelEncoder, StandardScaler\r\n",
        "from sklearn.model_selection import train_test_split, cross_val_score, GridSearchCV #model_selection doesn't need mentioning, only the method does\r\n",
        "from sklearn.ensemble import RandomForestClassifier, VotingClassifier\r\n",
        "from xgboost import XGBClassifier\r\n",
        "from lightgbm import LGBMClassifier\r\n",
        "from sklearn.metrics import accuracy_score #given metric was accuracy"
      ],
      "execution_count": null,
      "outputs": []
    },
    {
      "cell_type": "code",
      "metadata": {
        "colab": {
          "base_uri": "https://localhost:8080/"
        },
        "id": "H5WPdAAm0Qsy",
        "outputId": "d4ffcd54-cfc1-4e1d-e909-612e026400e9"
      },
      "source": [
        "from google.colab import drive #Korean Army banned me from using os resources so I learned new ways\r\n",
        "drive.mount('/content/gdrive')\r\n",
        "titanic_df=pd.read_csv('/content/gdrive/MyDrive/Dataset/titanic_train.csv')\r\n",
        "test_df=pd.read_csv('/content/gdrive/MyDrive/Dataset/titanic_test.csv') "
      ],
      "execution_count": null,
      "outputs": [
        {
          "output_type": "stream",
          "text": [
            "Drive already mounted at /content/gdrive; to attempt to forcibly remount, call drive.mount(\"/content/gdrive\", force_remount=True).\n"
          ],
          "name": "stdout"
        }
      ]
    },
    {
      "cell_type": "code",
      "metadata": {
        "id": "fyB_xIaVNV97"
      },
      "source": [
        "test_df['Survived']=2\r\n",
        "df=pd.concat([titanic_df,test_df],axis=0) #concatenating method in Pandas #Preprocessing needs test data(Never modeling) #Null values are okay until padding"
      ],
      "execution_count": null,
      "outputs": []
    },
    {
      "cell_type": "markdown",
      "metadata": {
        "id": "TGj0Qo6Jx1Mn"
      },
      "source": [
        "##1)Basic Statistics"
      ]
    },
    {
      "cell_type": "code",
      "metadata": {
        "colab": {
          "base_uri": "https://localhost:8080/",
          "height": 142
        },
        "id": "XNwPVclMMOJT",
        "outputId": "b7890a26-5ffb-46d3-cbd2-788019021a77"
      },
      "source": [
        "df.head(3) "
      ],
      "execution_count": null,
      "outputs": [
        {
          "output_type": "execute_result",
          "data": {
            "text/html": [
              "<div>\n",
              "<style scoped>\n",
              "    .dataframe tbody tr th:only-of-type {\n",
              "        vertical-align: middle;\n",
              "    }\n",
              "\n",
              "    .dataframe tbody tr th {\n",
              "        vertical-align: top;\n",
              "    }\n",
              "\n",
              "    .dataframe thead th {\n",
              "        text-align: right;\n",
              "    }\n",
              "</style>\n",
              "<table border=\"1\" class=\"dataframe\">\n",
              "  <thead>\n",
              "    <tr style=\"text-align: right;\">\n",
              "      <th></th>\n",
              "      <th>PassengerId</th>\n",
              "      <th>Survived</th>\n",
              "      <th>Pclass</th>\n",
              "      <th>Name</th>\n",
              "      <th>Sex</th>\n",
              "      <th>Age</th>\n",
              "      <th>SibSp</th>\n",
              "      <th>Parch</th>\n",
              "      <th>Ticket</th>\n",
              "      <th>Fare</th>\n",
              "      <th>Cabin</th>\n",
              "      <th>Embarked</th>\n",
              "    </tr>\n",
              "  </thead>\n",
              "  <tbody>\n",
              "    <tr>\n",
              "      <th>0</th>\n",
              "      <td>1</td>\n",
              "      <td>0</td>\n",
              "      <td>3</td>\n",
              "      <td>Braund, Mr. Owen Harris</td>\n",
              "      <td>male</td>\n",
              "      <td>22.0</td>\n",
              "      <td>1</td>\n",
              "      <td>0</td>\n",
              "      <td>A/5 21171</td>\n",
              "      <td>7.2500</td>\n",
              "      <td>NaN</td>\n",
              "      <td>S</td>\n",
              "    </tr>\n",
              "    <tr>\n",
              "      <th>1</th>\n",
              "      <td>2</td>\n",
              "      <td>1</td>\n",
              "      <td>1</td>\n",
              "      <td>Cumings, Mrs. John Bradley (Florence Briggs Th...</td>\n",
              "      <td>female</td>\n",
              "      <td>38.0</td>\n",
              "      <td>1</td>\n",
              "      <td>0</td>\n",
              "      <td>PC 17599</td>\n",
              "      <td>71.2833</td>\n",
              "      <td>C85</td>\n",
              "      <td>C</td>\n",
              "    </tr>\n",
              "    <tr>\n",
              "      <th>2</th>\n",
              "      <td>3</td>\n",
              "      <td>1</td>\n",
              "      <td>3</td>\n",
              "      <td>Heikkinen, Miss. Laina</td>\n",
              "      <td>female</td>\n",
              "      <td>26.0</td>\n",
              "      <td>0</td>\n",
              "      <td>0</td>\n",
              "      <td>STON/O2. 3101282</td>\n",
              "      <td>7.9250</td>\n",
              "      <td>NaN</td>\n",
              "      <td>S</td>\n",
              "    </tr>\n",
              "  </tbody>\n",
              "</table>\n",
              "</div>"
            ],
            "text/plain": [
              "   PassengerId  Survived  Pclass  ...     Fare Cabin  Embarked\n",
              "0            1         0       3  ...   7.2500   NaN         S\n",
              "1            2         1       1  ...  71.2833   C85         C\n",
              "2            3         1       3  ...   7.9250   NaN         S\n",
              "\n",
              "[3 rows x 12 columns]"
            ]
          },
          "metadata": {
            "tags": []
          },
          "execution_count": 35
        }
      ]
    },
    {
      "cell_type": "code",
      "metadata": {
        "colab": {
          "base_uri": "https://localhost:8080/"
        },
        "id": "SGCRXDRJ3kA9",
        "outputId": "fdfce305-eb6c-4e2c-b4dc-3aad31e5659d"
      },
      "source": [
        "df.info() #objects are strings"
      ],
      "execution_count": null,
      "outputs": [
        {
          "output_type": "stream",
          "text": [
            "<class 'pandas.core.frame.DataFrame'>\n",
            "Int64Index: 1309 entries, 0 to 417\n",
            "Data columns (total 12 columns):\n",
            " #   Column       Non-Null Count  Dtype  \n",
            "---  ------       --------------  -----  \n",
            " 0   PassengerId  1309 non-null   int64  \n",
            " 1   Survived     1309 non-null   int64  \n",
            " 2   Pclass       1309 non-null   int64  \n",
            " 3   Name         1309 non-null   object \n",
            " 4   Sex          1309 non-null   object \n",
            " 5   Age          1046 non-null   float64\n",
            " 6   SibSp        1309 non-null   int64  \n",
            " 7   Parch        1309 non-null   int64  \n",
            " 8   Ticket       1309 non-null   object \n",
            " 9   Fare         1308 non-null   float64\n",
            " 10  Cabin        295 non-null    object \n",
            " 11  Embarked     1307 non-null   object \n",
            "dtypes: float64(2), int64(5), object(5)\n",
            "memory usage: 132.9+ KB\n"
          ],
          "name": "stdout"
        }
      ]
    },
    {
      "cell_type": "code",
      "metadata": {
        "colab": {
          "base_uri": "https://localhost:8080/",
          "height": 297
        },
        "id": "NqaxZuBZMxZ7",
        "outputId": "9607aba1-09f4-4c32-96a7-1ec1218f60fc"
      },
      "source": [
        "df.describe()"
      ],
      "execution_count": null,
      "outputs": [
        {
          "output_type": "execute_result",
          "data": {
            "text/html": [
              "<div>\n",
              "<style scoped>\n",
              "    .dataframe tbody tr th:only-of-type {\n",
              "        vertical-align: middle;\n",
              "    }\n",
              "\n",
              "    .dataframe tbody tr th {\n",
              "        vertical-align: top;\n",
              "    }\n",
              "\n",
              "    .dataframe thead th {\n",
              "        text-align: right;\n",
              "    }\n",
              "</style>\n",
              "<table border=\"1\" class=\"dataframe\">\n",
              "  <thead>\n",
              "    <tr style=\"text-align: right;\">\n",
              "      <th></th>\n",
              "      <th>PassengerId</th>\n",
              "      <th>Survived</th>\n",
              "      <th>Pclass</th>\n",
              "      <th>Age</th>\n",
              "      <th>SibSp</th>\n",
              "      <th>Parch</th>\n",
              "      <th>Fare</th>\n",
              "    </tr>\n",
              "  </thead>\n",
              "  <tbody>\n",
              "    <tr>\n",
              "      <th>count</th>\n",
              "      <td>1309.000000</td>\n",
              "      <td>1309.000000</td>\n",
              "      <td>1309.000000</td>\n",
              "      <td>1046.000000</td>\n",
              "      <td>1309.000000</td>\n",
              "      <td>1309.000000</td>\n",
              "      <td>1308.000000</td>\n",
              "    </tr>\n",
              "    <tr>\n",
              "      <th>mean</th>\n",
              "      <td>655.000000</td>\n",
              "      <td>0.899924</td>\n",
              "      <td>2.294882</td>\n",
              "      <td>29.881138</td>\n",
              "      <td>0.498854</td>\n",
              "      <td>0.385027</td>\n",
              "      <td>33.295479</td>\n",
              "    </tr>\n",
              "    <tr>\n",
              "      <th>std</th>\n",
              "      <td>378.020061</td>\n",
              "      <td>0.853975</td>\n",
              "      <td>0.837836</td>\n",
              "      <td>14.413493</td>\n",
              "      <td>1.041658</td>\n",
              "      <td>0.865560</td>\n",
              "      <td>51.758668</td>\n",
              "    </tr>\n",
              "    <tr>\n",
              "      <th>min</th>\n",
              "      <td>1.000000</td>\n",
              "      <td>0.000000</td>\n",
              "      <td>1.000000</td>\n",
              "      <td>0.170000</td>\n",
              "      <td>0.000000</td>\n",
              "      <td>0.000000</td>\n",
              "      <td>0.000000</td>\n",
              "    </tr>\n",
              "    <tr>\n",
              "      <th>25%</th>\n",
              "      <td>328.000000</td>\n",
              "      <td>0.000000</td>\n",
              "      <td>2.000000</td>\n",
              "      <td>21.000000</td>\n",
              "      <td>0.000000</td>\n",
              "      <td>0.000000</td>\n",
              "      <td>7.895800</td>\n",
              "    </tr>\n",
              "    <tr>\n",
              "      <th>50%</th>\n",
              "      <td>655.000000</td>\n",
              "      <td>1.000000</td>\n",
              "      <td>3.000000</td>\n",
              "      <td>28.000000</td>\n",
              "      <td>0.000000</td>\n",
              "      <td>0.000000</td>\n",
              "      <td>14.454200</td>\n",
              "    </tr>\n",
              "    <tr>\n",
              "      <th>75%</th>\n",
              "      <td>982.000000</td>\n",
              "      <td>2.000000</td>\n",
              "      <td>3.000000</td>\n",
              "      <td>39.000000</td>\n",
              "      <td>1.000000</td>\n",
              "      <td>0.000000</td>\n",
              "      <td>31.275000</td>\n",
              "    </tr>\n",
              "    <tr>\n",
              "      <th>max</th>\n",
              "      <td>1309.000000</td>\n",
              "      <td>2.000000</td>\n",
              "      <td>3.000000</td>\n",
              "      <td>80.000000</td>\n",
              "      <td>8.000000</td>\n",
              "      <td>9.000000</td>\n",
              "      <td>512.329200</td>\n",
              "    </tr>\n",
              "  </tbody>\n",
              "</table>\n",
              "</div>"
            ],
            "text/plain": [
              "       PassengerId     Survived  ...        Parch         Fare\n",
              "count  1309.000000  1309.000000  ...  1309.000000  1308.000000\n",
              "mean    655.000000     0.899924  ...     0.385027    33.295479\n",
              "std     378.020061     0.853975  ...     0.865560    51.758668\n",
              "min       1.000000     0.000000  ...     0.000000     0.000000\n",
              "25%     328.000000     0.000000  ...     0.000000     7.895800\n",
              "50%     655.000000     1.000000  ...     0.000000    14.454200\n",
              "75%     982.000000     2.000000  ...     0.000000    31.275000\n",
              "max    1309.000000     2.000000  ...     9.000000   512.329200\n",
              "\n",
              "[8 rows x 7 columns]"
            ]
          },
          "metadata": {
            "tags": []
          },
          "execution_count": 37
        }
      ]
    },
    {
      "cell_type": "code",
      "metadata": {
        "id": "3JNUaXb2uXFs"
      },
      "source": [
        "df['Fare'].fillna(df['Fare'].mean(), inplace=True)"
      ],
      "execution_count": null,
      "outputs": []
    },
    {
      "cell_type": "markdown",
      "metadata": {
        "id": "J-UNhqZlycAw"
      },
      "source": [
        "##2)Basic feature selection "
      ]
    },
    {
      "cell_type": "code",
      "metadata": {
        "id": "0hZHp8aYBSdj",
        "colab": {
          "base_uri": "https://localhost:8080/"
        },
        "outputId": "72976ae5-8796-4bdd-ad21-2dcaa4c83c99"
      },
      "source": [
        "df['Family']=df['SibSp']+df['Parch'] #Each feature doesn't mean much on its own\r\n",
        "df['Name']=df['Name'].str.extract('([A-Za-z]+)\\.') #easiest Regex([] contains letters, +groups the previous part, ()contains part to be remembered, \\ignores that . mean any letters)\r\n",
        "df=df.drop(['SibSp','Parch','Ticket'], axis=1) #drop method doesn't allow inplacing(Should check results along the way)\r\n",
        "df['Name'].value_counts(sort=True) #Even the most worthless data needs a peak"
      ],
      "execution_count": null,
      "outputs": [
        {
          "output_type": "execute_result",
          "data": {
            "text/plain": [
              "Mr          757\n",
              "Miss        260\n",
              "Mrs         197\n",
              "Master       61\n",
              "Dr            8\n",
              "Rev           8\n",
              "Col           4\n",
              "Ms            2\n",
              "Mlle          2\n",
              "Major         2\n",
              "Dona          1\n",
              "Don           1\n",
              "Capt          1\n",
              "Lady          1\n",
              "Sir           1\n",
              "Jonkheer      1\n",
              "Mme           1\n",
              "Countess      1\n",
              "Name: Name, dtype: int64"
            ]
          },
          "metadata": {
            "tags": []
          },
          "execution_count": 39
        }
      ]
    },
    {
      "cell_type": "code",
      "metadata": {
        "colab": {
          "base_uri": "https://localhost:8080/"
        },
        "id": "ePlyYN9qfDcF",
        "outputId": "36231ff3-e4da-48fc-d2bc-141c5ec7406b"
      },
      "source": [
        "df['Name'].replace(['Rev','Dr','Col','Major','Sir','Don','Mlle','Jonkheer','Mme','Ms','Countess','Capt','Lady','Dona'],['Mr','Mr','Mr','Mr','Mr','Mr','Mr','Mr','Mr','Miss','Miss','Miss','Miss','Miss',],inplace=True) #last3 of Mr is just guessing\r\n",
        "df['Name'].value_counts(sort=True)"
      ],
      "execution_count": null,
      "outputs": [
        {
          "output_type": "execute_result",
          "data": {
            "text/plain": [
              "Mr        785\n",
              "Miss      266\n",
              "Mrs       197\n",
              "Master     61\n",
              "Name: Name, dtype: int64"
            ]
          },
          "metadata": {
            "tags": []
          },
          "execution_count": 40
        }
      ]
    },
    {
      "cell_type": "markdown",
      "metadata": {
        "id": "GV61NjGqzgQq"
      },
      "source": [
        "##3)Encoding"
      ]
    },
    {
      "cell_type": "code",
      "metadata": {
        "colab": {
          "base_uri": "https://localhost:8080/"
        },
        "id": "ObS8b057FfAm",
        "outputId": "b2d9bbe4-36f0-4fce-c8f8-5f537d8b7c34"
      },
      "source": [
        "for feature in ['Sex', 'Cabin', 'Embarked']:\r\n",
        "  print(df[feature].value_counts(sort=True)) #focusing on columns"
      ],
      "execution_count": null,
      "outputs": [
        {
          "output_type": "stream",
          "text": [
            "male      843\n",
            "female    466\n",
            "Name: Sex, dtype: int64\n",
            "C23 C25 C27        6\n",
            "B57 B59 B63 B66    5\n",
            "G6                 5\n",
            "C22 C26            4\n",
            "F33                4\n",
            "                  ..\n",
            "B37                1\n",
            "D9                 1\n",
            "D56                1\n",
            "E58                1\n",
            "D6                 1\n",
            "Name: Cabin, Length: 186, dtype: int64\n",
            "S    914\n",
            "C    270\n",
            "Q    123\n",
            "Name: Embarked, dtype: int64\n"
          ],
          "name": "stdout"
        }
      ]
    },
    {
      "cell_type": "code",
      "metadata": {
        "id": "6P73Y4TCWx8F"
      },
      "source": [
        "df['Cabin']=df['Cabin'].str[:1] #Cabin needs insight that only the first character contains information #pd.str is applicable to series\r\n",
        "features=['Cabin','Sex','Embarked']\r\n",
        "for feature in features:\r\n",
        "  df[feature]=LabelEncoder().fit_transform(df[feature].astype(str)) #changing dtype of series"
      ],
      "execution_count": null,
      "outputs": []
    },
    {
      "cell_type": "code",
      "metadata": {
        "colab": {
          "base_uri": "https://localhost:8080/",
          "height": 142
        },
        "id": "jebjyXN9Bh7v",
        "outputId": "0f6e5425-7eae-4ee5-9156-d1d6dc3e083c"
      },
      "source": [
        "df.head(3)"
      ],
      "execution_count": null,
      "outputs": [
        {
          "output_type": "execute_result",
          "data": {
            "text/html": [
              "<div>\n",
              "<style scoped>\n",
              "    .dataframe tbody tr th:only-of-type {\n",
              "        vertical-align: middle;\n",
              "    }\n",
              "\n",
              "    .dataframe tbody tr th {\n",
              "        vertical-align: top;\n",
              "    }\n",
              "\n",
              "    .dataframe thead th {\n",
              "        text-align: right;\n",
              "    }\n",
              "</style>\n",
              "<table border=\"1\" class=\"dataframe\">\n",
              "  <thead>\n",
              "    <tr style=\"text-align: right;\">\n",
              "      <th></th>\n",
              "      <th>PassengerId</th>\n",
              "      <th>Survived</th>\n",
              "      <th>Pclass</th>\n",
              "      <th>Name</th>\n",
              "      <th>Sex</th>\n",
              "      <th>Age</th>\n",
              "      <th>Fare</th>\n",
              "      <th>Cabin</th>\n",
              "      <th>Embarked</th>\n",
              "      <th>Family</th>\n",
              "    </tr>\n",
              "  </thead>\n",
              "  <tbody>\n",
              "    <tr>\n",
              "      <th>0</th>\n",
              "      <td>1</td>\n",
              "      <td>0</td>\n",
              "      <td>3</td>\n",
              "      <td>Mr</td>\n",
              "      <td>1</td>\n",
              "      <td>22.0</td>\n",
              "      <td>7.2500</td>\n",
              "      <td>8</td>\n",
              "      <td>2</td>\n",
              "      <td>1</td>\n",
              "    </tr>\n",
              "    <tr>\n",
              "      <th>1</th>\n",
              "      <td>2</td>\n",
              "      <td>1</td>\n",
              "      <td>1</td>\n",
              "      <td>Mrs</td>\n",
              "      <td>0</td>\n",
              "      <td>38.0</td>\n",
              "      <td>71.2833</td>\n",
              "      <td>2</td>\n",
              "      <td>0</td>\n",
              "      <td>1</td>\n",
              "    </tr>\n",
              "    <tr>\n",
              "      <th>2</th>\n",
              "      <td>3</td>\n",
              "      <td>1</td>\n",
              "      <td>3</td>\n",
              "      <td>Miss</td>\n",
              "      <td>0</td>\n",
              "      <td>26.0</td>\n",
              "      <td>7.9250</td>\n",
              "      <td>8</td>\n",
              "      <td>2</td>\n",
              "      <td>0</td>\n",
              "    </tr>\n",
              "  </tbody>\n",
              "</table>\n",
              "</div>"
            ],
            "text/plain": [
              "   PassengerId  Survived  Pclass  Name  ...     Fare  Cabin  Embarked  Family\n",
              "0            1         0       3    Mr  ...   7.2500      8         2       1\n",
              "1            2         1       1   Mrs  ...  71.2833      2         0       1\n",
              "2            3         1       3  Miss  ...   7.9250      8         2       0\n",
              "\n",
              "[3 rows x 10 columns]"
            ]
          },
          "metadata": {
            "tags": []
          },
          "execution_count": 43
        }
      ]
    },
    {
      "cell_type": "markdown",
      "metadata": {
        "id": "TGUl6OZO90ya"
      },
      "source": [
        "#2.Preprocessing(with Visualization)"
      ]
    },
    {
      "cell_type": "markdown",
      "metadata": {
        "id": "Kq34a-WsPbJG"
      },
      "source": [
        "##1)Imputation"
      ]
    },
    {
      "cell_type": "code",
      "metadata": {
        "id": "e41joqIQMTbm"
      },
      "source": [
        "def count_plot(dataframe, feature, hue=None): #distribution of feature itself #Non-necessary values need initialization to none\r\n",
        "  f,ax=plt.subplots(figsize=(10,5))\r\n",
        "  sns.countplot(data=dataframe, x=feature, hue=hue) #continuous features need displot\r\n",
        "  plt.show()\r\n",
        "def bar_plot(dataframe, feature1, feature2, hue=None): #distribution of feature with another\r\n",
        "  f,ax=plt.subplots(figsize=(10,5))\r\n",
        "  sns.barplot(data=dataframe, x=feature1, y=feature2, hue=hue)\r\n",
        "  plt.show()"
      ],
      "execution_count": null,
      "outputs": []
    },
    {
      "cell_type": "code",
      "metadata": {
        "id": "E3GWIK-BTl6b",
        "colab": {
          "base_uri": "https://localhost:8080/"
        },
        "outputId": "187a00d4-80f2-43b7-9ce9-be31b8ac563a"
      },
      "source": [
        "df.loc[(df.Age.isnull())&(df.Name=='Mr'),'Age']=40 #Another way to load series object #inside []are all true\r\n",
        "df.loc[(df.Age.isnull())&(df.Name=='Mrs'),'Age']=40\r\n",
        "df.loc[(df.Age.isnull())&(df.Name=='Miss'),'Age']=20\r\n",
        "df.loc[(df.Age.isnull())&(df.Name=='Master'),'Age']=5\r\n",
        "df.isna().sum()"
      ],
      "execution_count": null,
      "outputs": [
        {
          "output_type": "execute_result",
          "data": {
            "text/plain": [
              "PassengerId    0\n",
              "Survived       0\n",
              "Pclass         0\n",
              "Name           0\n",
              "Sex            0\n",
              "Age            0\n",
              "Fare           0\n",
              "Cabin          0\n",
              "Embarked       0\n",
              "Family         0\n",
              "dtype: int64"
            ]
          },
          "metadata": {
            "tags": []
          },
          "execution_count": 45
        }
      ]
    },
    {
      "cell_type": "code",
      "metadata": {
        "id": "bLf1_EeiKbGh"
      },
      "source": [
        "df['Age_band']=0 #for float data in classification\r\n",
        "df.loc[df.Age<=15, 'Age_band']=1\r\n",
        "df.loc[(df.Age>15)&(df.Age<=30), 'Age_band']=2\r\n",
        "df.loc[(df.Age>30)&(df.Age<=45), 'Age_band']=3\r\n",
        "df.loc[(df.Age>45)&(df.Age<=60), 'Age_band']=4\r\n",
        "df.loc[(df.Age>60)&(df.Age<=75), 'Age_band']=5\r\n",
        "df.loc[(df.Age>75)&(df.Age<=90), 'Age_band']=6"
      ],
      "execution_count": null,
      "outputs": []
    },
    {
      "cell_type": "code",
      "metadata": {
        "id": "fzL1_22QMM3c"
      },
      "source": [
        "df['Fare_band']=0 #by describe method\r\n",
        "df.loc[df.Fare<=7, 'Fare_band']=1\r\n",
        "df.loc[(df.Fare>14)&(df.Fare<=28), 'Fare_band']=2\r\n",
        "df.loc[(df.Fare>28)&(df.Fare<=35), 'Fare_band']=3\r\n",
        "df.loc[(df.Fare>35), 'Fare_band']=4"
      ],
      "execution_count": null,
      "outputs": []
    },
    {
      "cell_type": "code",
      "metadata": {
        "colab": {
          "base_uri": "https://localhost:8080/",
          "height": 1000
        },
        "id": "1gWphn1PBoFe",
        "outputId": "8c86aaf7-6860-485c-f766-aad0a4fb225d"
      },
      "source": [
        "df_pre=df.drop(['Name','Age','Fare','PassengerId'], axis=1, inplace=False)\r\n",
        "features=df_pre.columns.values #columns is dataframe, so make it into ndarray #1.Feature distribution/train&test similarity\r\n",
        "df_pre['Test']=0\r\n",
        "df_pre.loc[(df_pre.Survived==2),'Test']=1\r\n",
        "for feature in features:\r\n",
        "    count_plot(df_pre, feature) #hue='Test' for train&test similarity\r\n",
        "df_pre.drop('Test',axis=1,inplace=True)"
      ],
      "execution_count": null,
      "outputs": [
        {
          "output_type": "display_data",
          "data": {
            "image/png": "[encoded data removed]",
            "text/plain": [
              "<Figure size 720x360 with 1 Axes>"
            ]
          },
          "metadata": {
            "tags": [],
            "needs_background": "light"
          }
        },
        {
          "output_type": "display_data",
          "data": {
            "image/png": "[encoded data removed]",
            "text/plain": [
              "<Figure size 720x360 with 1 Axes>"
            ]
          },
          "metadata": {
            "tags": [],
            "needs_background": "light"
          }
        },
        {
          "output_type": "display_data",
          "data": {
            "image/png": "[encoded data removed]",
            "text/plain": [
              "<Figure size 720x360 with 1 Axes>"
            ]
          },
          "metadata": {
            "tags": [],
            "needs_background": "light"
          }
        },
        {
          "output_type": "display_data",
          "data": {
            "image/png": "[encoded data removed]",
            "text/plain": [
              "<Figure size 720x360 with 1 Axes>"
            ]
          },
          "metadata": {
            "tags": [],
            "needs_background": "light"
          }
        },
        {
          "output_type": "display_data",
          "data": {
            "image/png": "[encoded data removed]",
            "text/plain": [
              "<Figure size 720x360 with 1 Axes>"
            ]
          },
          "metadata": {
            "tags": [],
            "needs_background": "light"
          }
        },
        {
          "output_type": "display_data",
          "data": {
            "image/png": "[encoded data removed]",
            "text/plain": [
              "<Figure size 720x360 with 1 Axes>"
            ]
          },
          "metadata": {
            "tags": [],
            "needs_background": "light"
          }
        },
        {
          "output_type": "display_data",
          "data": {
            "image/png": "[encoded data removed]",
            "text/plain": [
              "<Figure size 720x360 with 1 Axes>"
            ]
          },
          "metadata": {
            "tags": [],
            "needs_background": "light"
          }
        },
        {
          "output_type": "display_data",
          "data": {
            "image/png": "[encoded data removed]",
            "text/plain": [
              "<Figure size 720x360 with 1 Axes>"
            ]
          },
          "metadata": {
            "tags": [],
            "needs_background": "light"
          }
        }
      ]
    },
    {
      "cell_type": "code",
      "metadata": {
        "id": "jFCf6aPAQD24",
        "colab": {
          "base_uri": "https://localhost:8080/",
          "height": 614
        },
        "outputId": "1b5eb43b-288f-4b28-8908-01d48703f253"
      },
      "source": [
        "f=plt.figure(figsize=(10,10))\r\n",
        "sns.heatmap(df_pre.corr(), annot=True, cmap='Blues') #annotation is a must #2.Correlation"
      ],
      "execution_count": null,
      "outputs": [
        {
          "output_type": "execute_result",
          "data": {
            "text/plain": [
              "<matplotlib.axes._subplots.AxesSubplot at 0x7ff6fe5d7b38>"
            ]
          },
          "metadata": {
            "tags": []
          },
          "execution_count": 49
        },
        {
          "output_type": "display_data",
          "data": {
            "image/png": "[encoded data removed]",
            "text/plain": [
              "<Figure size 720x720 with 2 Axes>"
            ]
          },
          "metadata": {
            "tags": [],
            "needs_background": "light"
          }
        }
      ]
    },
    {
      "cell_type": "code",
      "metadata": {
        "id": "RPi5JBbOl9-b",
        "colab": {
          "base_uri": "https://localhost:8080/",
          "height": 1000
        },
        "outputId": "dbf525f0-2679-4a1b-e3cc-34d1abdeca10"
      },
      "source": [
        "for feature in features: #3.Impact on target\r\n",
        "  bar_plot(df_pre,feature1=feature, feature2='Survived') "
      ],
      "execution_count": null,
      "outputs": [
        {
          "output_type": "display_data",
          "data": {
            "image/png": "[encoded data removed]",
            "text/plain": [
              "<Figure size 720x360 with 1 Axes>"
            ]
          },
          "metadata": {
            "tags": [],
            "needs_background": "light"
          }
        },
        {
          "output_type": "display_data",
          "data": {
            "image/png": "[encoded data removed]",
            "text/plain": [
              "<Figure size 720x360 with 1 Axes>"
            ]
          },
          "metadata": {
            "tags": [],
            "needs_background": "light"
          }
        },
        {
          "output_type": "display_data",
          "data": {
            "image/png": "[encoded data removed]",
            "text/plain": [
              "<Figure size 720x360 with 1 Axes>"
            ]
          },
          "metadata": {
            "tags": [],
            "needs_background": "light"
          }
        },
        {
          "output_type": "display_data",
          "data": {
            "image/png": "[encoded data removed]",
            "text/plain": [
              "<Figure size 720x360 with 1 Axes>"
            ]
          },
          "metadata": {
            "tags": [],
            "needs_background": "light"
          }
        },
        {
          "output_type": "display_data",
          "data": {
            "image/png": "[encoded data removed]",
            "text/plain": [
              "<Figure size 720x360 with 1 Axes>"
            ]
          },
          "metadata": {
            "tags": [],
            "needs_background": "light"
          }
        },
        {
          "output_type": "display_data",
          "data": {
            "image/png": "[encoded data removed]",
            "text/plain": [
              "<Figure size 720x360 with 1 Axes>"
            ]
          },
          "metadata": {
            "tags": [],
            "needs_background": "light"
          }
        },
        {
          "output_type": "display_data",
          "data": {
            "image/png": "[encoded data removed]",
            "text/plain": [
              "<Figure size 720x360 with 1 Axes>"
            ]
          },
          "metadata": {
            "tags": [],
            "needs_background": "light"
          }
        },
        {
          "output_type": "display_data",
          "data": {
            "image/png": "[encoded data removed]",
            "text/plain": [
              "<Figure size 720x360 with 1 Axes>"
            ]
          },
          "metadata": {
            "tags": [],
            "needs_background": "light"
          }
        }
      ]
    },
    {
      "cell_type": "code",
      "metadata": {
        "id": "APPUgQjLYc6C",
        "colab": {
          "base_uri": "https://localhost:8080/",
          "height": 334
        },
        "outputId": "577c8013-96c8-4d76-88ab-3aa46278af8f"
      },
      "source": [
        "bar_plot(df,feature1='Cabin', feature2='Survived') "
      ],
      "execution_count": null,
      "outputs": [
        {
          "output_type": "display_data",
          "data": {
            "image/png": "[encoded data removed]",
            "text/plain": [
              "<Figure size 720x360 with 1 Axes>"
            ]
          },
          "metadata": {
            "tags": [],
            "needs_background": "light"
          }
        }
      ]
    },
    {
      "cell_type": "code",
      "metadata": {
        "id": "ta_1qKTXfomZ",
        "colab": {
          "base_uri": "https://localhost:8080/",
          "height": 334
        },
        "outputId": "cf7ee6cb-ce55-4664-86c6-eac2ed1e358c"
      },
      "source": [
        "df['SafeCabin']=0\r\n",
        "df.loc[(df.Cabin<=5),'SafeCabin']=1\r\n",
        "bar_plot(df,feature1='SafeCabin', feature2='Survived') "
      ],
      "execution_count": null,
      "outputs": [
        {
          "output_type": "display_data",
          "data": {
            "image/png": "[encoded data removed]",
            "text/plain": [
              "<Figure size 720x360 with 1 Axes>"
            ]
          },
          "metadata": {
            "tags": [],
            "needs_background": "light"
          }
        }
      ]
    },
    {
      "cell_type": "code",
      "metadata": {
        "id": "OJBgD9KfWQeH",
        "colab": {
          "base_uri": "https://localhost:8080/",
          "height": 334
        },
        "outputId": "59266240-a3be-4073-9032-de5b6be46162"
      },
      "source": [
        "df['SmallFamily']=0\r\n",
        "df.loc[(df.Family<=3),'SmallFamily']=1\r\n",
        "bar_plot(df,feature1='SmallFamily', feature2='Survived') "
      ],
      "execution_count": null,
      "outputs": [
        {
          "output_type": "display_data",
          "data": {
            "image/png": "[encoded data removed]",
            "text/plain": [
              "<Figure size 720x360 with 1 Axes>"
            ]
          },
          "metadata": {
            "tags": [],
            "needs_background": "light"
          }
        }
      ]
    },
    {
      "cell_type": "markdown",
      "metadata": {
        "id": "oJ3xBB-6znjB"
      },
      "source": [
        "##2)Scaling&Outliers"
      ]
    },
    {
      "cell_type": "markdown",
      "metadata": {
        "id": "vPEjfjGrKtOr"
      },
      "source": [
        "#3.CV&Tuning"
      ]
    },
    {
      "cell_type": "code",
      "metadata": {
        "id": "ci8j1cS9ZDTT"
      },
      "source": [
        "df.drop(['Name','Age','Fare','Family','Cabin'],axis=1,inplace=True)"
      ],
      "execution_count": null,
      "outputs": []
    },
    {
      "cell_type": "code",
      "metadata": {
        "id": "SwrGPAnD4zXu",
        "colab": {
          "base_uri": "https://localhost:8080/",
          "height": 142
        },
        "outputId": "c69c1d62-2a0e-4992-8f42-d3d84e8550e4"
      },
      "source": [
        "test_df=df.loc[df['Survived']==2].drop('Survived',axis=1) #Needs division again\r\n",
        "titanic_df=df.loc[df['Survived']!=2]\r\n",
        "titanic_feature=titanic_df.drop(['Survived','PassengerId'], axis=1) #parameter axis is mandatory\r\n",
        "titanic_label=titanic_df['Survived']\r\n",
        "titanic_feature.head(3)"
      ],
      "execution_count": null,
      "outputs": [
        {
          "output_type": "execute_result",
          "data": {
            "text/html": [
              "<div>\n",
              "<style scoped>\n",
              "    .dataframe tbody tr th:only-of-type {\n",
              "        vertical-align: middle;\n",
              "    }\n",
              "\n",
              "    .dataframe tbody tr th {\n",
              "        vertical-align: top;\n",
              "    }\n",
              "\n",
              "    .dataframe thead th {\n",
              "        text-align: right;\n",
              "    }\n",
              "</style>\n",
              "<table border=\"1\" class=\"dataframe\">\n",
              "  <thead>\n",
              "    <tr style=\"text-align: right;\">\n",
              "      <th></th>\n",
              "      <th>Pclass</th>\n",
              "      <th>Sex</th>\n",
              "      <th>Embarked</th>\n",
              "      <th>Age_band</th>\n",
              "      <th>Fare_band</th>\n",
              "      <th>SafeCabin</th>\n",
              "      <th>SmallFamily</th>\n",
              "    </tr>\n",
              "  </thead>\n",
              "  <tbody>\n",
              "    <tr>\n",
              "      <th>0</th>\n",
              "      <td>3</td>\n",
              "      <td>1</td>\n",
              "      <td>2</td>\n",
              "      <td>2</td>\n",
              "      <td>0</td>\n",
              "      <td>0</td>\n",
              "      <td>1</td>\n",
              "    </tr>\n",
              "    <tr>\n",
              "      <th>1</th>\n",
              "      <td>1</td>\n",
              "      <td>0</td>\n",
              "      <td>0</td>\n",
              "      <td>3</td>\n",
              "      <td>4</td>\n",
              "      <td>1</td>\n",
              "      <td>1</td>\n",
              "    </tr>\n",
              "    <tr>\n",
              "      <th>2</th>\n",
              "      <td>3</td>\n",
              "      <td>0</td>\n",
              "      <td>2</td>\n",
              "      <td>2</td>\n",
              "      <td>0</td>\n",
              "      <td>0</td>\n",
              "      <td>1</td>\n",
              "    </tr>\n",
              "  </tbody>\n",
              "</table>\n",
              "</div>"
            ],
            "text/plain": [
              "   Pclass  Sex  Embarked  Age_band  Fare_band  SafeCabin  SmallFamily\n",
              "0       3    1         2         2          0          0            1\n",
              "1       1    0         0         3          4          1            1\n",
              "2       3    0         2         2          0          0            1"
            ]
          },
          "metadata": {
            "tags": []
          },
          "execution_count": 55
        }
      ]
    },
    {
      "cell_type": "code",
      "metadata": {
        "id": "XWHUJvRiK1ji"
      },
      "source": [
        "rf_clf=RandomForestClassifier(random_state=0) #Cross validation need models \r\n",
        "xgb_clf=XGBClassifier(random_state=0)\r\n",
        "lgbm_clf=LGBMClassifier(random_state=0)\r\n",
        "X_train, X_test, y_train, y_test=train_test_split(titanic_feature, titanic_label, test_size=0.2,random_state=0)"
      ],
      "execution_count": null,
      "outputs": []
    },
    {
      "cell_type": "code",
      "metadata": {
        "id": "KkrHw-VNbTv8",
        "colab": {
          "base_uri": "https://localhost:8080/"
        },
        "outputId": "7b45a638-ffa0-463e-f667-8f0719262385"
      },
      "source": [
        "rf_params={'n_estimators':[50,100,150],\r\n",
        "           'max_depth':[3,5,7], #similar to decisiontree\r\n",
        "           'min_samples_leaf':[3,5,7],\r\n",
        "           'min_samples_split':[5,7,9]}\r\n",
        "rf_gridcv=GridSearchCV(rf_clf, param_grid=rf_params, cv=5, n_jobs=-1) #using all CPU cores\r\n",
        "rf_gridcv.fit(X_train, y_train)\r\n",
        "print('best parameters:\\n',rf_gridcv.best_params_)"
      ],
      "execution_count": null,
      "outputs": [
        {
          "output_type": "stream",
          "text": [
            "best parameters:\n",
            " {'max_depth': 5, 'min_samples_leaf': 3, 'min_samples_split': 9, 'n_estimators': 50}\n"
          ],
          "name": "stdout"
        }
      ]
    },
    {
      "cell_type": "code",
      "metadata": {
        "id": "ZbfR2Fq9KFi3",
        "colab": {
          "base_uri": "https://localhost:8080/"
        },
        "outputId": "d2fb2da8-e18b-4150-e43c-de266897b2d2"
      },
      "source": [
        "xgb_params={'learning_rate' : [0.02], \r\n",
        "            'n_estimators':[200,300,400],\r\n",
        "            'max_depth':[3,5,7],\r\n",
        "            'colsample_bytree':[0.7,0.8],\r\n",
        "            'subsample':[0.9]}\r\n",
        "xgb_gridcv=GridSearchCV(xgb_clf, param_grid=xgb_params, cv=5, n_jobs=-1) \r\n",
        "xgb_gridcv.fit(X_train, y_train)\r\n",
        "print('best parameters:\\n',xgb_gridcv.best_params_)"
      ],
      "execution_count": null,
      "outputs": [
        {
          "output_type": "stream",
          "text": [
            "best parameters:\n",
            " {'colsample_bytree': 0.7, 'learning_rate': 0.02, 'max_depth': 3, 'n_estimators': 200, 'subsample': 0.9}\n"
          ],
          "name": "stdout"
        }
      ]
    },
    {
      "cell_type": "code",
      "metadata": {
        "id": "hJtKJuQ-e0Ap",
        "colab": {
          "base_uri": "https://localhost:8080/"
        },
        "outputId": "8528173c-93e2-4481-9e98-688c28b548dc"
      },
      "source": [
        "lgbm_params={'learning_rate' : [0.02], \r\n",
        "            'n_estimators':[200,300,400],\r\n",
        "            'max_depth':[8,10,12],\r\n",
        "            'num_leaves':[50],\r\n",
        "            'colsample_bytree':[0.7,0.8],\r\n",
        "            'subsample':[0.9]}\r\n",
        "lgbm_gridcv=GridSearchCV(lgbm_clf, param_grid=lgbm_params, cv=5, n_jobs=-1) \r\n",
        "lgbm_gridcv.fit(X_train, y_train)\r\n",
        "print('best parameters:\\n',lgbm_gridcv.best_params_)"
      ],
      "execution_count": null,
      "outputs": [
        {
          "output_type": "stream",
          "text": [
            "best parameters:\n",
            " {'colsample_bytree': 0.7, 'learning_rate': 0.02, 'max_depth': 8, 'n_estimators': 400, 'num_leaves': 50, 'subsample': 0.9}\n"
          ],
          "name": "stdout"
        }
      ]
    },
    {
      "cell_type": "markdown",
      "metadata": {
        "id": "1unUXEw_NMcH"
      },
      "source": [
        "#4.Modeling"
      ]
    },
    {
      "cell_type": "code",
      "metadata": {
        "id": "Cjxu0w-0NQI-",
        "colab": {
          "base_uri": "https://localhost:8080/"
        },
        "outputId": "844c05dc-a4b8-4330-92d6-cddde6c2ba4d"
      },
      "source": [
        "rf_clf=rf_gridcv.best_estimator_\r\n",
        "xgb_clf=xgb_gridcv.best_estimator_\r\n",
        "lgbm_clf=lgbm_gridcv.best_estimator_\r\n",
        "vo_clf=VotingClassifier(estimators=[('RandomForest',rf_clf),('XGBoost',xgb_clf),('LightGBM',lgbm_clf)], voting='soft')\r\n",
        "pred1=rf_clf.fit(X_train, y_train).predict(X_test)\r\n",
        "pred2=xgb_clf.fit(X_train, y_train).predict(X_test)\r\n",
        "pred3=lgbm_clf.fit(X_train, y_train).predict(X_test)\r\n",
        "pred4=vo_clf.fit(X_train, y_train).predict(X_test)\r\n",
        "print('Accuracy1:{0:.4f} Accuracy2:{1:.4f} Accuracy3:{2:4f}'.format(accuracy_score(y_test,pred1), accuracy_score(y_test,pred2),accuracy_score(y_test,pred3)))\r\n",
        "print('Final accuracy:{0:.4f}'.format(accuracy_score(y_test,pred4))) #from python3.6 should use fstring formatting  #:separates index and the number"
      ],
      "execution_count": null,
      "outputs": [
        {
          "output_type": "stream",
          "text": [
            "Accuracy1:0.8101 Accuracy2:0.8101 Accuracy3:0.815642\n",
            "Final accuracy:0.8101\n"
          ],
          "name": "stdout"
        }
      ]
    },
    {
      "cell_type": "markdown",
      "metadata": {
        "id": "zOXTJAG5nVdH"
      },
      "source": [
        "# 1)Uploading"
      ]
    },
    {
      "cell_type": "code",
      "metadata": {
        "id": "Xs_hGd2xoL22",
        "colab": {
          "base_uri": "https://localhost:8080/",
          "height": 142
        },
        "outputId": "aa4cecde-c541-416e-f187-c7a8227d1618"
      },
      "source": [
        "Pid=test_df['PassengerId']\r\n",
        "test_df.drop('PassengerId',axis=1,inplace=True)\r\n",
        "test_df.head(3)"
      ],
      "execution_count": null,
      "outputs": [
        {
          "output_type": "execute_result",
          "data": {
            "text/html": [
              "<div>\n",
              "<style scoped>\n",
              "    .dataframe tbody tr th:only-of-type {\n",
              "        vertical-align: middle;\n",
              "    }\n",
              "\n",
              "    .dataframe tbody tr th {\n",
              "        vertical-align: top;\n",
              "    }\n",
              "\n",
              "    .dataframe thead th {\n",
              "        text-align: right;\n",
              "    }\n",
              "</style>\n",
              "<table border=\"1\" class=\"dataframe\">\n",
              "  <thead>\n",
              "    <tr style=\"text-align: right;\">\n",
              "      <th></th>\n",
              "      <th>Pclass</th>\n",
              "      <th>Sex</th>\n",
              "      <th>Embarked</th>\n",
              "      <th>Age_band</th>\n",
              "      <th>Fare_band</th>\n",
              "      <th>SafeCabin</th>\n",
              "      <th>SmallFamily</th>\n",
              "    </tr>\n",
              "  </thead>\n",
              "  <tbody>\n",
              "    <tr>\n",
              "      <th>0</th>\n",
              "      <td>3</td>\n",
              "      <td>1</td>\n",
              "      <td>1</td>\n",
              "      <td>3</td>\n",
              "      <td>0</td>\n",
              "      <td>0</td>\n",
              "      <td>1</td>\n",
              "    </tr>\n",
              "    <tr>\n",
              "      <th>1</th>\n",
              "      <td>3</td>\n",
              "      <td>0</td>\n",
              "      <td>2</td>\n",
              "      <td>4</td>\n",
              "      <td>1</td>\n",
              "      <td>0</td>\n",
              "      <td>1</td>\n",
              "    </tr>\n",
              "    <tr>\n",
              "      <th>2</th>\n",
              "      <td>2</td>\n",
              "      <td>1</td>\n",
              "      <td>1</td>\n",
              "      <td>5</td>\n",
              "      <td>0</td>\n",
              "      <td>0</td>\n",
              "      <td>1</td>\n",
              "    </tr>\n",
              "  </tbody>\n",
              "</table>\n",
              "</div>"
            ],
            "text/plain": [
              "   Pclass  Sex  Embarked  Age_band  Fare_band  SafeCabin  SmallFamily\n",
              "0       3    1         1         3          0          0            1\n",
              "1       3    0         2         4          1          0            1\n",
              "2       2    1         1         5          0          0            1"
            ]
          },
          "metadata": {
            "tags": []
          },
          "execution_count": 61
        }
      ]
    },
    {
      "cell_type": "code",
      "metadata": {
        "id": "Y9XOpoIDYBLH"
      },
      "source": [
        "realpred=vo_clf.predict(test_df) #output of classifier is ndarray object\r\n",
        "realpred=pd.DataFrame(realpred, columns=['Survived']) #never forget[]\r\n",
        "submit_df=pd.DataFrame({'PassengerId':Pid,'Survived':realpred['Survived']}) #Data set by giving each column name and data\r\n",
        "submit_df.head(3)\r\n",
        "submit_df.to_csv('/content/gdrive/MyDrive/Dataset/Lutris_titanic.csv', index = False) #The client doesn't want indice on submission"
      ],
      "execution_count": null,
      "outputs": []
    },
    {
      "cell_type": "markdown",
      "metadata": {
        "id": "aXVyEpanGSr5"
      },
      "source": [
        "# 2)Feedback<br>\r\n",
        "Do not be satisfied with the comfort higher APIs give. Only the ones that understand the lower ver have the right to enjoy."
      ]
    },
    {
      "cell_type": "markdown",
      "metadata": {
        "id": "hZnsYtXhPP6G"
      },
      "source": [
        "#3)Afterwords\r\n",
        "I thought about this notebook for a week but made it to top33%.<br>\r\n",
        "My first competition left me a bit of a warning that things aren't gonna be as rosy as I might dream.<br>\r\n",
        "After pouring much thought into it, i skimmed through famous notebooks, but it brought me more despair as I found out that there much simpler notebooks sometimes get much higher scores(that I can't see why), and some I can't understand at my level.<br>\r\n",
        "But again, this is a warning. I'm gonna need all the skills I regarded unnecessary, and gonna need read alot. \r\n",
        "There is a bright side. I did learn a lot from this prediction. How I should concatenate train&test data, how important Visualization and Padding can be and so forth.<br>\r\n"
      ]
    }
  ]
}