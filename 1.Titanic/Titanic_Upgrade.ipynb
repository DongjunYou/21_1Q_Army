{
  "nbformat": 4,
  "nbformat_minor": 0,
  "metadata": {
    "colab": {
      "name": "Titanic_Upgrade.ipynb",
      "provenance": [],
      "collapsed_sections": [],
      "toc_visible": true,
      "authorship_tag": "ABX9TyOrB5MwpLiWGHE2glOb2I3+",
      "include_colab_link": true
    },
    "kernelspec": {
      "name": "python3",
      "display_name": "Python 3"
    }
  },
  "cells": [
    {
      "cell_type": "markdown",
      "metadata": {
        "id": "view-in-github",
        "colab_type": "text"
      },
      "source": [
        "<a href=\"https://colab.research.google.com/github/Lutris98/21_1Q/blob/master/1.Titanic/Titanic_Upgrade.ipynb\" target=\"_parent\"><img src=\"https://colab.research.google.com/assets/colab-badge.svg\" alt=\"Open In Colab\"/></a>"
      ]
    },
    {
      "cell_type": "markdown",
      "metadata": {
        "id": "M6CQxzKQxpEq"
      },
      "source": [
        "#1.EDA"
      ]
    },
    {
      "cell_type": "code",
      "metadata": {
        "id": "ETc8RkHAyyre"
      },
      "source": [
        "import pandas as pd \r\n",
        "import matplotlib.pyplot as plt\r\n",
        "import seaborn as sns\r\n",
        "from sklearn.model_selection import train_test_split, cross_val_score, GridSearchCV \r\n",
        "from sklearn.metrics import accuracy_score "
      ],
      "execution_count": 1266,
      "outputs": []
    },
    {
      "cell_type": "code",
      "metadata": {
        "colab": {
          "base_uri": "https://localhost:8080/"
        },
        "id": "EIb00VsMzpOb",
        "outputId": "81b0eccf-afda-4780-a786-1c0121d1bfb1"
      },
      "source": [
        "from google.colab import drive \r\n",
        "drive.mount('/content/gdrive')\r\n",
        "train_df=pd.read_csv('/content/gdrive/MyDrive/Dataset/titanic_train.csv')\r\n",
        "test_df=pd.read_csv('/content/gdrive/MyDrive/Dataset/titanic_test.csv')\r\n",
        "df=pd.concat([train_df,test_df],axis=0) #test data needs imputation"
      ],
      "execution_count": 1267,
      "outputs": [
        {
          "output_type": "stream",
          "text": [
            "Drive already mounted at /content/gdrive; to attempt to forcibly remount, call drive.mount(\"/content/gdrive\", force_remount=True).\n"
          ],
          "name": "stdout"
        }
      ]
    },
    {
      "cell_type": "markdown",
      "metadata": {
        "id": "xDpUuaG7xsbP"
      },
      "source": [
        "##1) Basic statistics"
      ]
    },
    {
      "cell_type": "code",
      "metadata": {
        "colab": {
          "base_uri": "https://localhost:8080/"
        },
        "id": "ttpBpCrJzrph",
        "outputId": "0fcd7e95-1cc3-4261-e655-3a40c7c8672e"
      },
      "source": [
        "df.info()"
      ],
      "execution_count": 1268,
      "outputs": [
        {
          "output_type": "stream",
          "text": [
            "<class 'pandas.core.frame.DataFrame'>\n",
            "Int64Index: 1309 entries, 0 to 417\n",
            "Data columns (total 12 columns):\n",
            " #   Column       Non-Null Count  Dtype  \n",
            "---  ------       --------------  -----  \n",
            " 0   PassengerId  1309 non-null   int64  \n",
            " 1   Survived     891 non-null    float64\n",
            " 2   Pclass       1309 non-null   int64  \n",
            " 3   Name         1309 non-null   object \n",
            " 4   Sex          1309 non-null   object \n",
            " 5   Age          1046 non-null   float64\n",
            " 6   SibSp        1309 non-null   int64  \n",
            " 7   Parch        1309 non-null   int64  \n",
            " 8   Ticket       1309 non-null   object \n",
            " 9   Fare         1308 non-null   float64\n",
            " 10  Cabin        295 non-null    object \n",
            " 11  Embarked     1307 non-null   object \n",
            "dtypes: float64(3), int64(4), object(5)\n",
            "memory usage: 132.9+ KB\n"
          ],
          "name": "stdout"
        }
      ]
    },
    {
      "cell_type": "markdown",
      "metadata": {
        "id": "Ygftg4PLx2Of"
      },
      "source": [
        "##2)Basic feature engineering"
      ]
    },
    {
      "cell_type": "code",
      "metadata": {
        "colab": {
          "base_uri": "https://localhost:8080/"
        },
        "id": "V0wGgy_c3M2M",
        "outputId": "5d4682ae-d8ec-4a48-df7e-1fdb6b2bb2c9"
      },
      "source": [
        "df['Name']=df['Name'].str.extract('([A-Za-z]+)\\.')\r\n",
        "df['Name'].replace(['Rev','Dr','Col','Major','Sir','Don','Mlle','Jonkheer','Mme','Ms','Countess','Capt','Lady','Dona'],['Mr','Mr','Mr','Mr','Mr','Mr','Mr','Mr','Mr','Miss','Miss','Miss','Miss','Miss',],inplace=True) \r\n",
        "df['Name'].unique() #simpler than value_counts"
      ],
      "execution_count": 1269,
      "outputs": [
        {
          "output_type": "execute_result",
          "data": {
            "text/plain": [
              "array(['Mr', 'Mrs', 'Miss', 'Master'], dtype=object)"
            ]
          },
          "metadata": {
            "tags": []
          },
          "execution_count": 1269
        }
      ]
    },
    {
      "cell_type": "code",
      "metadata": {
        "id": "Zyws_LvqGm0C"
      },
      "source": [
        "df['Family']=df['SibSp']+df['Parch']\r\n",
        "df.drop(['SibSp','Parch'],axis=1,inplace=True)"
      ],
      "execution_count": 1270,
      "outputs": []
    },
    {
      "cell_type": "code",
      "metadata": {
        "colab": {
          "base_uri": "https://localhost:8080/"
        },
        "id": "ghAzhgAV6eGJ",
        "outputId": "6b7c2509-edda-406b-ff19-bb6c29aa2336"
      },
      "source": [
        "df['Ticket'].unique()"
      ],
      "execution_count": 1271,
      "outputs": [
        {
          "output_type": "execute_result",
          "data": {
            "text/plain": [
              "array(['A/5 21171', 'PC 17599', 'STON/O2. 3101282', '113803', '373450',\n",
              "       '330877', '17463', '349909', '347742', '237736', 'PP 9549',\n",
              "       '113783', 'A/5. 2151', '347082', '350406', '248706', '382652',\n",
              "       '244373', '345763', '2649', '239865', '248698', '330923', '113788',\n",
              "       '347077', '2631', '19950', '330959', '349216', 'PC 17601',\n",
              "       'PC 17569', '335677', 'C.A. 24579', 'PC 17604', '113789', '2677',\n",
              "       'A./5. 2152', '345764', '2651', '7546', '11668', '349253',\n",
              "       'SC/Paris 2123', '330958', 'S.C./A.4. 23567', '370371', '14311',\n",
              "       '2662', '349237', '3101295', 'A/4. 39886', 'PC 17572', '2926',\n",
              "       '113509', '19947', 'C.A. 31026', '2697', 'C.A. 34651', 'CA 2144',\n",
              "       '2669', '113572', '36973', '347088', 'PC 17605', '2661',\n",
              "       'C.A. 29395', 'S.P. 3464', '3101281', '315151', 'C.A. 33111',\n",
              "       'S.O.C. 14879', '2680', '1601', '348123', '349208', '374746',\n",
              "       '248738', '364516', '345767', '345779', '330932', '113059',\n",
              "       'SO/C 14885', '3101278', 'W./C. 6608', 'SOTON/OQ 392086', '343275',\n",
              "       '343276', '347466', 'W.E.P. 5734', 'C.A. 2315', '364500', '374910',\n",
              "       'PC 17754', 'PC 17759', '231919', '244367', '349245', '349215',\n",
              "       '35281', '7540', '3101276', '349207', '343120', '312991', '349249',\n",
              "       '371110', '110465', '2665', '324669', '4136', '2627',\n",
              "       'STON/O 2. 3101294', '370369', 'PC 17558', 'A4. 54510', '27267',\n",
              "       '370372', 'C 17369', '2668', '347061', '349241',\n",
              "       'SOTON/O.Q. 3101307', 'A/5. 3337', '228414', 'C.A. 29178',\n",
              "       'SC/PARIS 2133', '11752', '7534', 'PC 17593', '2678', '347081',\n",
              "       'STON/O2. 3101279', '365222', '231945', 'C.A. 33112', '350043',\n",
              "       '230080', '244310', 'S.O.P. 1166', '113776', 'A.5. 11206',\n",
              "       'A/5. 851', 'Fa 265302', 'PC 17597', '35851', 'SOTON/OQ 392090',\n",
              "       '315037', 'CA. 2343', '371362', 'C.A. 33595', '347068', '315093',\n",
              "       '363291', '113505', 'PC 17318', '111240', 'STON/O 2. 3101280',\n",
              "       '17764', '350404', '4133', 'PC 17595', '250653', 'LINE',\n",
              "       'SC/PARIS 2131', '230136', '315153', '113767', '370365', '111428',\n",
              "       '364849', '349247', '234604', '28424', '350046', 'PC 17610',\n",
              "       '368703', '4579', '370370', '248747', '345770', '3101264', '2628',\n",
              "       'A/5 3540', '347054', '2699', '367231', '112277',\n",
              "       'SOTON/O.Q. 3101311', 'F.C.C. 13528', 'A/5 21174', '250646',\n",
              "       '367229', '35273', 'STON/O2. 3101283', '243847', '11813',\n",
              "       'W/C 14208', 'SOTON/OQ 392089', '220367', '21440', '349234',\n",
              "       '19943', 'PP 4348', 'SW/PP 751', 'A/5 21173', '236171', '347067',\n",
              "       '237442', 'C.A. 29566', 'W./C. 6609', '26707', 'C.A. 31921',\n",
              "       '28665', 'SCO/W 1585', '367230', 'W./C. 14263',\n",
              "       'STON/O 2. 3101275', '2694', '19928', '347071', '250649', '11751',\n",
              "       '244252', '362316', '113514', 'A/5. 3336', '370129', '2650',\n",
              "       'PC 17585', '110152', 'PC 17755', '230433', '384461', '110413',\n",
              "       '112059', '382649', 'C.A. 17248', '347083', 'PC 17582', 'PC 17760',\n",
              "       '113798', '250644', 'PC 17596', '370375', '13502', '347073',\n",
              "       '239853', 'C.A. 2673', '336439', '347464', '345778', 'A/5. 10482',\n",
              "       '113056', '349239', '345774', '349206', '237798', '370373',\n",
              "       '19877', '11967', 'SC/Paris 2163', '349236', '349233', 'PC 17612',\n",
              "       '2693', '113781', '19988', '9234', '367226', '226593', 'A/5 2466',\n",
              "       '17421', 'PC 17758', 'P/PP 3381', 'PC 17485', '11767', 'PC 17608',\n",
              "       '250651', '349243', 'F.C.C. 13529', '347470', '29011', '36928',\n",
              "       '16966', 'A/5 21172', '349219', '234818', '345364', '28551',\n",
              "       '111361', '113043', 'PC 17611', '349225', '7598', '113784',\n",
              "       '248740', '244361', '229236', '248733', '31418', '386525',\n",
              "       'C.A. 37671', '315088', '7267', '113510', '2695', '2647', '345783',\n",
              "       '237671', '330931', '330980', 'SC/PARIS 2167', '2691',\n",
              "       'SOTON/O.Q. 3101310', 'C 7076', '110813', '2626', '14313',\n",
              "       'PC 17477', '11765', '3101267', '323951', 'C 7077', '113503',\n",
              "       '2648', '347069', 'PC 17757', '2653', 'STON/O 2. 3101293',\n",
              "       '349227', '27849', '367655', 'SC 1748', '113760', '350034',\n",
              "       '3101277', '350052', '350407', '28403', '244278', '240929',\n",
              "       'STON/O 2. 3101289', '341826', '4137', '315096', '28664', '347064',\n",
              "       '29106', '312992', '349222', '394140', 'STON/O 2. 3101269',\n",
              "       '343095', '28220', '250652', '28228', '345773', '349254',\n",
              "       'A/5. 13032', '315082', '347080', 'A/4. 34244', '2003', '250655',\n",
              "       '364851', 'SOTON/O.Q. 392078', '110564', '376564', 'SC/AH 3085',\n",
              "       'STON/O 2. 3101274', '13507', 'C.A. 18723', '345769', '347076',\n",
              "       '230434', '65306', '33638', '113794', '2666', '113786', '65303',\n",
              "       '113051', '17453', 'A/5 2817', '349240', '13509', '17464',\n",
              "       'F.C.C. 13531', '371060', '19952', '364506', '111320', '234360',\n",
              "       'A/S 2816', 'SOTON/O.Q. 3101306', '113792', '36209', '323592',\n",
              "       '315089', 'SC/AH Basle 541', '7553', '31027', '3460', '350060',\n",
              "       '3101298', '239854', 'A/5 3594', '4134', '11771', 'A.5. 18509',\n",
              "       '65304', 'SOTON/OQ 3101317', '113787', 'PC 17609', 'A/4 45380',\n",
              "       '36947', 'C.A. 6212', '350035', '315086', '364846', '330909',\n",
              "       '4135', '26360', '111427', 'C 4001', '382651', 'SOTON/OQ 3101316',\n",
              "       'PC 17473', 'PC 17603', '349209', '36967', 'C.A. 34260', '226875',\n",
              "       '349242', '12749', '349252', '2624', '2700', '367232',\n",
              "       'W./C. 14258', 'PC 17483', '3101296', '29104', '2641', '2690',\n",
              "       '315084', '113050', 'PC 17761', '364498', '13568', 'WE/P 5735',\n",
              "       '2908', '693', 'SC/PARIS 2146', '244358', '330979', '2620',\n",
              "       '347085', '113807', '11755', '345572', '372622', '349251',\n",
              "       '218629', 'SOTON/OQ 392082', 'SOTON/O.Q. 392087', 'A/4 48871',\n",
              "       '349205', '2686', '350417', 'S.W./PP 752', '11769', 'PC 17474',\n",
              "       '14312', 'A/4. 20589', '358585', '243880', '2689',\n",
              "       'STON/O 2. 3101286', '237789', '13049', '3411', '237565', '13567',\n",
              "       '14973', 'A./5. 3235', 'STON/O 2. 3101273', 'A/5 3902', '364848',\n",
              "       'SC/AH 29037', '248727', '2664', '349214', '113796', '364511',\n",
              "       '111426', '349910', '349246', '113804', 'SOTON/O.Q. 3101305',\n",
              "       '370377', '364512', '220845', '31028', '2659', '11753', '350029',\n",
              "       '54636', '36963', '219533', '349224', '334912', '27042', '347743',\n",
              "       '13214', '112052', '237668', 'STON/O 2. 3101292', '350050',\n",
              "       '349231', '13213', 'S.O./P.P. 751', 'CA. 2314', '349221', '8475',\n",
              "       '330919', '365226', '349223', '29751', '2623', '5727', '349210',\n",
              "       'STON/O 2. 3101285', '234686', '312993', 'A/5 3536', '19996',\n",
              "       '29750', 'F.C. 12750', 'C.A. 24580', '244270', '239856', '349912',\n",
              "       '342826', '4138', '330935', '6563', '349228', '350036', '24160',\n",
              "       '17474', '349256', '2672', '113800', '248731', '363592', '35852',\n",
              "       '348121', 'PC 17475', '36864', '350025', '223596', 'PC 17476',\n",
              "       'PC 17482', '113028', '7545', '250647', '348124', '34218', '36568',\n",
              "       '347062', '350048', '12233', '250643', '113806', '315094', '36866',\n",
              "       '236853', 'STON/O2. 3101271', '239855', '28425', '233639',\n",
              "       '349201', '349218', '16988', '376566', 'STON/O 2. 3101288',\n",
              "       '250648', '113773', '335097', '29103', '392096', '345780',\n",
              "       '349204', '350042', '29108', '363294', 'SOTON/O2 3101272', '2663',\n",
              "       '347074', '112379', '364850', '8471', '345781', '350047',\n",
              "       'S.O./P.P. 3', '2674', '29105', '347078', '383121', '36865',\n",
              "       '2687', '113501', 'W./C. 6607', 'SOTON/O.Q. 3101312', '374887',\n",
              "       '3101265', '12460', 'PC 17600', '349203', '28213', '17465',\n",
              "       '349244', '2685', '2625', '347089', '347063', '112050', '347087',\n",
              "       '248723', '3474', '28206', '364499', '112058', 'STON/O2. 3101290',\n",
              "       'S.C./PARIS 2079', 'C 7075', '315098', '19972', '368323', '367228',\n",
              "       '2671', '347468', '2223', 'PC 17756', '315097', '392092', '11774',\n",
              "       'SOTON/O2 3101287', '2683', '315090', 'C.A. 5547', '349213',\n",
              "       '347060', 'PC 17592', '392091', '113055', '2629', '350026',\n",
              "       '28134', '17466', '233866', '236852', 'SC/PARIS 2149', 'PC 17590',\n",
              "       '345777', '349248', '695', '345765', '2667', '349212', '349217',\n",
              "       '349257', '7552', 'C.A./SOTON 34068', 'SOTON/OQ 392076', '211536',\n",
              "       '112053', '111369', '370376', '330911', '363272', '240276',\n",
              "       '315154', '7538', '330972', '2657', '349220', '694', '21228',\n",
              "       '24065', '233734', '2692', 'STON/O2. 3101270', '2696', 'C 17368',\n",
              "       'PC 17598', '2698', '113054', 'C.A. 31029', '13236', '2682',\n",
              "       '342712', '315087', '345768', '113778', 'SOTON/O.Q. 3101263',\n",
              "       '237249', 'STON/O 2. 3101291', 'PC 17594', '370374', '13695',\n",
              "       'SC/PARIS 2168', 'SC/A.3 2861', '349230', '348122', '349232',\n",
              "       '237216', '347090', '334914', 'F.C.C. 13534', '330963', '2543',\n",
              "       '382653', '349211', '3101297', 'PC 17562', '359306', '11770',\n",
              "       '248744', '368702', '19924', '349238', '240261', '2660', '330844',\n",
              "       'A/4 31416', '364856', '347072', '345498', '376563', '13905',\n",
              "       '350033', 'STON/O 2. 3101268', '347471', 'A./5. 3338', '11778',\n",
              "       '365235', '347070', '330920', '383162', '3410', '248734', '237734',\n",
              "       '330968', 'PC 17531', '329944', '2681', '13050', '367227',\n",
              "       '392095', '368783', '350045', '211535', '342441',\n",
              "       'STON/OQ. 369943', '113780', '2621', '349226', '350409', '2656',\n",
              "       '248659', 'SOTON/OQ 392083', '17475', 'SC/A4 23568', '113791',\n",
              "       '349255', '3701', '350405', 'S.O./P.P. 752', '347469', '110489',\n",
              "       'SOTON/O.Q. 3101315', '335432', '220844', '343271', '237393',\n",
              "       'PC 17591', '17770', '7548', 'S.O./P.P. 251', '2670', '2673',\n",
              "       '233478', '7935', '239059', 'S.O./P.P. 2', 'A/4 48873', '28221',\n",
              "       '111163', '235509', '347465', '347066', 'C.A. 31030', '65305',\n",
              "       'C.A. 34050', 'F.C. 12998', '9232', '28034', 'PC 17613', '349250',\n",
              "       'SOTON/O.Q. 3101308', '347091', '113038', '330924', '32302',\n",
              "       'SC/PARIS 2148', '342684', 'W./C. 14266', '350053', 'PC 17606',\n",
              "       '350054', '370368', '242963', '113795', '3101266', '330971',\n",
              "       '350416', '2679', '250650', '112377', '3470', 'SOTON/O2 3101284',\n",
              "       '13508', '7266', '345775', 'C.A. 42795', 'AQ/4 3130', '363611',\n",
              "       '28404', '345501', '350410', 'C.A. 34644', '349235', '112051',\n",
              "       'C.A. 49867', 'A. 2. 39186', '315095', '368573', '2676',\n",
              "       'SC 14888', 'CA 31352', 'W./C. 14260', '315085', '364859',\n",
              "       'A/5 21175', 'SOTON/O.Q. 3101314', '2655', 'A/5 1478', 'PC 17607',\n",
              "       '382650', '2652', '345771', '349202', '113801', '347467', '347079',\n",
              "       '237735', '315092', '383123', '112901', '315091', '2658',\n",
              "       'LP 1588', '368364', 'AQ/3. 30631', '28004', '350408', '347075',\n",
              "       '2654', '244368', '113790', 'SOTON/O.Q. 3101309', '236854',\n",
              "       'PC 17580', '2684', '349229', '110469', '244360', '2675', '2622',\n",
              "       'C.A. 15185', '350403', '348125', '237670', '2688', '248726',\n",
              "       'F.C.C. 13540', '113044', '1222', '368402', '315083', '112378',\n",
              "       'SC/PARIS 2147', '28133', '248746', '315152', '29107', '680',\n",
              "       '366713', '330910', 'SC/PARIS 2159', '349911', '244346', '364858',\n",
              "       'C.A. 30769', '371109', '347065', '21332', '17765',\n",
              "       'SC/PARIS 2166', '28666', '334915', '365237', '347086',\n",
              "       'A.5. 3236', 'SOTON/O.Q. 3101262', '359309'], dtype=object)"
            ]
          },
          "metadata": {
            "tags": []
          },
          "execution_count": 1271
        }
      ]
    },
    {
      "cell_type": "code",
      "metadata": {
        "id": "TV0g8KYq6krt"
      },
      "source": [
        "df['Ticket']=df['Ticket'].str.extract('(\\d+)')"
      ],
      "execution_count": 1272,
      "outputs": []
    },
    {
      "cell_type": "code",
      "metadata": {
        "colab": {
          "base_uri": "https://localhost:8080/"
        },
        "id": "A6mQPtxW--zF",
        "outputId": "b1f916bf-7e0f-49b8-986b-52771239adb6"
      },
      "source": [
        "df['Cabin'].unique()"
      ],
      "execution_count": 1273,
      "outputs": [
        {
          "output_type": "execute_result",
          "data": {
            "text/plain": [
              "array([nan, 'C85', 'C123', 'E46', 'G6', 'C103', 'D56', 'A6',\n",
              "       'C23 C25 C27', 'B78', 'D33', 'B30', 'C52', 'B28', 'C83', 'F33',\n",
              "       'F G73', 'E31', 'A5', 'D10 D12', 'D26', 'C110', 'B58 B60', 'E101',\n",
              "       'F E69', 'D47', 'B86', 'F2', 'C2', 'E33', 'B19', 'A7', 'C49', 'F4',\n",
              "       'A32', 'B4', 'B80', 'A31', 'D36', 'D15', 'C93', 'C78', 'D35',\n",
              "       'C87', 'B77', 'E67', 'B94', 'C125', 'C99', 'C118', 'D7', 'A19',\n",
              "       'B49', 'D', 'C22 C26', 'C106', 'C65', 'E36', 'C54',\n",
              "       'B57 B59 B63 B66', 'C7', 'E34', 'C32', 'B18', 'C124', 'C91', 'E40',\n",
              "       'T', 'C128', 'D37', 'B35', 'E50', 'C82', 'B96 B98', 'E10', 'E44',\n",
              "       'A34', 'C104', 'C111', 'C92', 'E38', 'D21', 'E12', 'E63', 'A14',\n",
              "       'B37', 'C30', 'D20', 'B79', 'E25', 'D46', 'B73', 'C95', 'B38',\n",
              "       'B39', 'B22', 'C86', 'C70', 'A16', 'C101', 'C68', 'A10', 'E68',\n",
              "       'B41', 'A20', 'D19', 'D50', 'D9', 'A23', 'B50', 'A26', 'D48',\n",
              "       'E58', 'C126', 'B71', 'B51 B53 B55', 'D49', 'B5', 'B20', 'F G63',\n",
              "       'C62 C64', 'E24', 'C90', 'C45', 'E8', 'B101', 'D45', 'C46', 'D30',\n",
              "       'E121', 'D11', 'E77', 'F38', 'B3', 'D6', 'B82 B84', 'D17', 'A36',\n",
              "       'B102', 'B69', 'E49', 'C47', 'D28', 'E17', 'A24', 'C50', 'B42',\n",
              "       'C148', 'B45', 'B36', 'A21', 'D34', 'A9', 'C31', 'B61', 'C53',\n",
              "       'D43', 'C130', 'C132', 'C55 C57', 'C116', 'F', 'A29', 'C6', 'C28',\n",
              "       'C51', 'C97', 'D22', 'B10', 'E45', 'E52', 'A11', 'B11', 'C80',\n",
              "       'C89', 'F E46', 'B26', 'F E57', 'A18', 'E60', 'E39 E41',\n",
              "       'B52 B54 B56', 'C39', 'B24', 'D40', 'D38', 'C105'], dtype=object)"
            ]
          },
          "metadata": {
            "tags": []
          },
          "execution_count": 1273
        }
      ]
    },
    {
      "cell_type": "code",
      "metadata": {
        "id": "1cuILVc_C8yM",
        "colab": {
          "base_uri": "https://localhost:8080/"
        },
        "outputId": "16f5b2ad-6a2a-4310-e117-45b10770f441"
      },
      "source": [
        "df['Cabin_num'] = df['Cabin'].str.extract('(\\d+)') #remember few regex in mixed variables\r\n",
        "df['Cabin_num'] = df['Cabin_num'].astype('float')\r\n",
        "df['Cabin_cat'] = df['Cabin'].str[0] \r\n",
        "df.drop('Cabin',axis=1,inplace=True)\r\n",
        "df['Cabin_num'].unique()"
      ],
      "execution_count": 1274,
      "outputs": [
        {
          "output_type": "execute_result",
          "data": {
            "text/plain": [
              "array([ nan,  85., 123.,  46.,   6., 103.,  56.,  23.,  78.,  33.,  30.,\n",
              "        52.,  28.,  83.,  73.,  31.,   5.,  10.,  26., 110.,  58., 101.,\n",
              "        69.,  47.,  86.,   2.,  19.,   7.,  49.,   4.,  32.,  80.,  36.,\n",
              "        15.,  93.,  35.,  87.,  77.,  67.,  94., 125.,  99., 118.,  22.,\n",
              "       106.,  65.,  54.,  57.,  34.,  18., 124.,  91.,  40., 128.,  37.,\n",
              "        50.,  82.,  96.,  44., 104., 111.,  92.,  38.,  21.,  12.,  63.,\n",
              "        14.,  20.,  79.,  25.,  95.,  39.,  70.,  16.,  68.,  41.,   9.,\n",
              "        48., 126.,  71.,  51.,  62.,  24.,  90.,  45.,   8., 121.,  11.,\n",
              "         3.,  17., 102.,  42., 148.,  61.,  53.,  43., 130., 132.,  55.,\n",
              "       116.,  29.,  97.,  89.,  60., 105.])"
            ]
          },
          "metadata": {
            "tags": []
          },
          "execution_count": 1274
        }
      ]
    },
    {
      "cell_type": "markdown",
      "metadata": {
        "id": "ki8z2gYHx-Zz"
      },
      "source": [
        "#2.Preprocessing"
      ]
    },
    {
      "cell_type": "code",
      "metadata": {
        "id": "TKjsOANK17da",
        "colab": {
          "base_uri": "https://localhost:8080/"
        },
        "outputId": "81e7ae19-cb1a-4b6e-f563-efb52d088942"
      },
      "source": [
        "discrete=[var for var in df.columns if df[var].dtype!='object' and var!='Survived' and df[var].nunique()<10] #categorical \r\n",
        "continuous=[var for var in df.columns if df[var].dtype!='object' and var!='Survived' and var not in discrete]\r\n",
        "continuous.remove('PassengerId') #target\r\n",
        "categorical=[var for var in df.columns if df[var].dtype=='object']\r\n",
        "print(f'discrete:{discrete}\\ncontinuous:{continuous}\\ncategorical:{categorical}')"
      ],
      "execution_count": 1275,
      "outputs": [
        {
          "output_type": "stream",
          "text": [
            "discrete:['Pclass', 'Family']\n",
            "continuous:['Age', 'Fare', 'Cabin_num']\n",
            "categorical:['Name', 'Sex', 'Ticket', 'Embarked', 'Cabin_cat']\n"
          ],
          "name": "stdout"
        }
      ]
    },
    {
      "cell_type": "markdown",
      "metadata": {
        "id": "-iCuJbYI4TdH"
      },
      "source": [
        "##1) Imputation"
      ]
    },
    {
      "cell_type": "code",
      "metadata": {
        "colab": {
          "base_uri": "https://localhost:8080/"
        },
        "id": "fMCr9lCV4FSq",
        "outputId": "244ff164-6a2e-456c-db5c-4e0e91b60886"
      },
      "source": [
        "df.isnull().sum() "
      ],
      "execution_count": 1276,
      "outputs": [
        {
          "output_type": "execute_result",
          "data": {
            "text/plain": [
              "PassengerId       0\n",
              "Survived        418\n",
              "Pclass            0\n",
              "Name              0\n",
              "Sex               0\n",
              "Age             263\n",
              "Ticket            4\n",
              "Fare              1\n",
              "Embarked          2\n",
              "Family            0\n",
              "Cabin_num      1020\n",
              "Cabin_cat      1014\n",
              "dtype: int64"
            ]
          },
          "metadata": {
            "tags": []
          },
          "execution_count": 1276
        }
      ]
    },
    {
      "cell_type": "code",
      "metadata": {
        "colab": {
          "base_uri": "https://localhost:8080/"
        },
        "id": "ie7aTHyt5MoS",
        "outputId": "cfb3317f-9cc0-4451-e63e-4dda4dd00eda"
      },
      "source": [
        "from sklearn.impute import SimpleImputer\r\n",
        "imputer=SimpleImputer(strategy='most_frequent')\r\n",
        "random=['Fare','Embarked','Ticket']\r\n",
        "df[random]=imputer.fit_transform(df[random])\r\n",
        "pd.DataFrame(df[random],columns=random)\r\n",
        "df.isnull().sum()"
      ],
      "execution_count": 1277,
      "outputs": [
        {
          "output_type": "execute_result",
          "data": {
            "text/plain": [
              "PassengerId       0\n",
              "Survived        418\n",
              "Pclass            0\n",
              "Name              0\n",
              "Sex               0\n",
              "Age             263\n",
              "Ticket            0\n",
              "Fare              0\n",
              "Embarked          0\n",
              "Family            0\n",
              "Cabin_num      1020\n",
              "Cabin_cat      1014\n",
              "dtype: int64"
            ]
          },
          "metadata": {
            "tags": []
          },
          "execution_count": 1277
        }
      ]
    },
    {
      "cell_type": "code",
      "metadata": {
        "id": "2i8h-zrFDuFH"
      },
      "source": [
        "df.loc[df['Cabin_cat'].isnull(),'Cabin_cat']='M'"
      ],
      "execution_count": 1278,
      "outputs": []
    },
    {
      "cell_type": "code",
      "metadata": {
        "colab": {
          "base_uri": "https://localhost:8080/"
        },
        "id": "1EuP0RCVEHGh",
        "outputId": "bed39349-3451-43e6-b434-77d0ad628b36"
      },
      "source": [
        "df.groupby('Pclass')['Cabin_num'].median()"
      ],
      "execution_count": 1279,
      "outputs": [
        {
          "output_type": "execute_result",
          "data": {
            "text/plain": [
              "Pclass\n",
              "1    45.0\n",
              "2    33.0\n",
              "3    51.5\n",
              "Name: Cabin_num, dtype: float64"
            ]
          },
          "metadata": {
            "tags": []
          },
          "execution_count": 1279
        }
      ]
    },
    {
      "cell_type": "code",
      "metadata": {
        "id": "fnN7KyK3EhmY"
      },
      "source": [
        "df.loc[df['Pclass']==1,'Cabin_num']=45.0\r\n",
        "df.loc[df['Pclass']==2,'Cabin_num']=33.0\r\n",
        "df.loc[df['Pclass']==3,'Cabin_num']=51.5"
      ],
      "execution_count": 1280,
      "outputs": []
    },
    {
      "cell_type": "code",
      "metadata": {
        "colab": {
          "base_uri": "https://localhost:8080/"
        },
        "id": "i93wwRpxCrA_",
        "outputId": "150c088d-9893-45ef-d837-c365f514eb43"
      },
      "source": [
        "df.groupby('Name')['Age'].median()"
      ],
      "execution_count": 1281,
      "outputs": [
        {
          "output_type": "execute_result",
          "data": {
            "text/plain": [
              "Name\n",
              "Master     4.0\n",
              "Miss      22.0\n",
              "Mr        30.0\n",
              "Mrs       35.5\n",
              "Name: Age, dtype: float64"
            ]
          },
          "metadata": {
            "tags": []
          },
          "execution_count": 1281
        }
      ]
    },
    {
      "cell_type": "code",
      "metadata": {
        "id": "zAun4UhaEGob"
      },
      "source": [
        "df.loc[df['Name']=='Master','Age']=4.0\r\n",
        "df.loc[df['Name']=='Miss','Age']=22.0\r\n",
        "df.loc[df['Name']=='Mr','Age']=30.0\r\n",
        "df.loc[df['Name']=='Mrs','Age']=35.5"
      ],
      "execution_count": 1282,
      "outputs": []
    },
    {
      "cell_type": "code",
      "metadata": {
        "colab": {
          "base_uri": "https://localhost:8080/"
        },
        "id": "t5uT4YpZFv-T",
        "outputId": "7ca92489-a8a7-44d7-830d-679a0623ae45"
      },
      "source": [
        "df.isnull().sum()"
      ],
      "execution_count": 1283,
      "outputs": [
        {
          "output_type": "execute_result",
          "data": {
            "text/plain": [
              "PassengerId      0\n",
              "Survived       418\n",
              "Pclass           0\n",
              "Name             0\n",
              "Sex              0\n",
              "Age              0\n",
              "Ticket           0\n",
              "Fare             0\n",
              "Embarked         0\n",
              "Family           0\n",
              "Cabin_num        0\n",
              "Cabin_cat        0\n",
              "dtype: int64"
            ]
          },
          "metadata": {
            "tags": []
          },
          "execution_count": 1283
        }
      ]
    },
    {
      "cell_type": "markdown",
      "metadata": {
        "id": "sdimAvsk0w53"
      },
      "source": [
        "##2)Encoding"
      ]
    },
    {
      "cell_type": "code",
      "metadata": {
        "colab": {
          "base_uri": "https://localhost:8080/"
        },
        "id": "gzNkTVUV_95-",
        "outputId": "28057eb9-e7ff-4314-d0b9-8510ca08d58e"
      },
      "source": [
        "df['Ticket'].astype(str)"
      ],
      "execution_count": 1284,
      "outputs": [
        {
          "output_type": "execute_result",
          "data": {
            "text/plain": [
              "0            5\n",
              "1        17599\n",
              "2            2\n",
              "3       113803\n",
              "4       373450\n",
              "        ...   \n",
              "413          5\n",
              "414      17758\n",
              "415    3101262\n",
              "416     359309\n",
              "417       2668\n",
              "Name: Ticket, Length: 1309, dtype: object"
            ]
          },
          "metadata": {
            "tags": []
          },
          "execution_count": 1284
        }
      ]
    },
    {
      "cell_type": "code",
      "metadata": {
        "id": "PxeMxUg1F3i1"
      },
      "source": [
        "categorical.remove('Ticket')"
      ],
      "execution_count": 1285,
      "outputs": []
    },
    {
      "cell_type": "code",
      "metadata": {
        "colab": {
          "base_uri": "https://localhost:8080/"
        },
        "id": "1v9AqUQ6GRnC",
        "outputId": "207dd337-aec8-4626-bd60-d9d9d2ab28ff"
      },
      "source": [
        "for var in categorical:\r\n",
        "  print(df[var].unique())"
      ],
      "execution_count": 1286,
      "outputs": [
        {
          "output_type": "stream",
          "text": [
            "['Mr' 'Mrs' 'Miss' 'Master']\n",
            "['male' 'female']\n",
            "['S' 'C' 'Q']\n",
            "['M' 'C' 'E' 'G' 'D' 'A' 'B' 'F' 'T']\n"
          ],
          "name": "stdout"
        }
      ]
    },
    {
      "cell_type": "code",
      "metadata": {
        "colab": {
          "base_uri": "https://localhost:8080/"
        },
        "id": "o4SQd3LsGp9v",
        "outputId": "b501e48e-e286-4d33-a3bc-98dc95f1afb6"
      },
      "source": [
        "from sklearn.preprocessing import LabelEncoder\r\n",
        "for var in ['Embarked','Cabin_cat']:\r\n",
        "  nd=LabelEncoder().fit_transform(df[var])\r\n",
        "  df[var]=pd.Series(nd)\r\n",
        "  print(df[var].unique())"
      ],
      "execution_count": 1287,
      "outputs": [
        {
          "output_type": "stream",
          "text": [
            "[2 0 1]\n",
            "[7 2 4 6 3 0 1 5 8]\n"
          ],
          "name": "stdout"
        }
      ]
    },
    {
      "cell_type": "code",
      "metadata": {
        "id": "2jtDArxVHcLl"
      },
      "source": [
        "dummy_df=pd.DataFrame()\r\n",
        "for var in ['Name','Sex']:\r\n",
        "  newdummy_df=pd.get_dummies(df[var])\r\n",
        "  dummy_df=pd.concat([dummy_df,newdummy_df])"
      ],
      "execution_count": 1288,
      "outputs": []
    },
    {
      "cell_type": "code",
      "metadata": {
        "id": "NB1Cy0OGHnfF"
      },
      "source": [
        "df=pd.concat([df,dummy_df])"
      ],
      "execution_count": 1289,
      "outputs": []
    },
    {
      "cell_type": "markdown",
      "metadata": {
        "id": "HGa_uFFo4sVJ"
      },
      "source": [
        "##3) Discretization"
      ]
    },
    {
      "cell_type": "code",
      "metadata": {
        "colab": {
          "base_uri": "https://localhost:8080/"
        },
        "id": "lHgtfaQnLvo3",
        "outputId": "c8dacad3-de0f-47ef-da3c-0559bfa29723"
      },
      "source": [
        "for var in df.columns:\r\n",
        "  print(var,df[var].nunique())"
      ],
      "execution_count": 1290,
      "outputs": [
        {
          "output_type": "stream",
          "text": [
            "PassengerId 1309\n",
            "Survived 2\n",
            "Pclass 3\n",
            "Name 4\n",
            "Sex 2\n",
            "Age 4\n",
            "Ticket 864\n",
            "Fare 281\n",
            "Embarked 3\n",
            "Family 9\n",
            "Cabin_num 3\n",
            "Cabin_cat 9\n",
            "Master 2\n",
            "Miss 2\n",
            "Mr 2\n",
            "Mrs 2\n",
            "female 2\n",
            "male 2\n"
          ],
          "name": "stdout"
        }
      ]
    },
    {
      "cell_type": "code",
      "metadata": {
        "colab": {
          "base_uri": "https://localhost:8080/",
          "height": 358
        },
        "id": "4JfAezWtMmip",
        "outputId": "c4461366-77e3-4308-93b8-ab1d52194e2a"
      },
      "source": [
        "cardinal=['Ticket','Fare']\r\n",
        "for var in cardinal:\r\n",
        "  sns.histplot(data=df[var],x=var)"
      ],
      "execution_count": 1291,
      "outputs": [
        {
          "output_type": "error",
          "ename": "ValueError",
          "evalue": "ignored",
          "traceback": [
            "\u001b[0;31m---------------------------------------------------------------------------\u001b[0m",
            "\u001b[0;31mValueError\u001b[0m                                Traceback (most recent call last)",
            "\u001b[0;32m<ipython-input-1291-7fa08f1693c1>\u001b[0m in \u001b[0;36m<module>\u001b[0;34m()\u001b[0m\n\u001b[1;32m      1\u001b[0m \u001b[0mcardinal\u001b[0m\u001b[0;34m=\u001b[0m\u001b[0;34m[\u001b[0m\u001b[0;34m'Ticket'\u001b[0m\u001b[0;34m,\u001b[0m\u001b[0;34m'Fare'\u001b[0m\u001b[0;34m]\u001b[0m\u001b[0;34m\u001b[0m\u001b[0;34m\u001b[0m\u001b[0m\n\u001b[1;32m      2\u001b[0m \u001b[0;32mfor\u001b[0m \u001b[0mvar\u001b[0m \u001b[0;32min\u001b[0m \u001b[0mcardinal\u001b[0m\u001b[0;34m:\u001b[0m\u001b[0;34m\u001b[0m\u001b[0;34m\u001b[0m\u001b[0m\n\u001b[0;32m----> 3\u001b[0;31m   \u001b[0msns\u001b[0m\u001b[0;34m.\u001b[0m\u001b[0mhistplot\u001b[0m\u001b[0;34m(\u001b[0m\u001b[0mdata\u001b[0m\u001b[0;34m=\u001b[0m\u001b[0mdf\u001b[0m\u001b[0;34m[\u001b[0m\u001b[0mvar\u001b[0m\u001b[0;34m]\u001b[0m\u001b[0;34m,\u001b[0m\u001b[0mx\u001b[0m\u001b[0;34m=\u001b[0m\u001b[0mvar\u001b[0m\u001b[0;34m)\u001b[0m\u001b[0;34m\u001b[0m\u001b[0;34m\u001b[0m\u001b[0m\n\u001b[0m",
            "\u001b[0;32m/usr/local/lib/python3.7/dist-packages/seaborn/distributions.py\u001b[0m in \u001b[0;36mhistplot\u001b[0;34m(data, x, y, hue, weights, stat, bins, binwidth, binrange, discrete, cumulative, common_bins, common_norm, multiple, element, fill, shrink, kde, kde_kws, line_kws, thresh, pthresh, pmax, cbar, cbar_ax, cbar_kws, palette, hue_order, hue_norm, color, log_scale, legend, ax, **kwargs)\u001b[0m\n\u001b[1;32m   1391\u001b[0m     p = _DistributionPlotter(\n\u001b[1;32m   1392\u001b[0m         \u001b[0mdata\u001b[0m\u001b[0;34m=\u001b[0m\u001b[0mdata\u001b[0m\u001b[0;34m,\u001b[0m\u001b[0;34m\u001b[0m\u001b[0;34m\u001b[0m\u001b[0m\n\u001b[0;32m-> 1393\u001b[0;31m         \u001b[0mvariables\u001b[0m\u001b[0;34m=\u001b[0m\u001b[0m_DistributionPlotter\u001b[0m\u001b[0;34m.\u001b[0m\u001b[0mget_semantics\u001b[0m\u001b[0;34m(\u001b[0m\u001b[0mlocals\u001b[0m\u001b[0;34m(\u001b[0m\u001b[0;34m)\u001b[0m\u001b[0;34m)\u001b[0m\u001b[0;34m\u001b[0m\u001b[0;34m\u001b[0m\u001b[0m\n\u001b[0m\u001b[1;32m   1394\u001b[0m     )\n\u001b[1;32m   1395\u001b[0m \u001b[0;34m\u001b[0m\u001b[0m\n",
            "\u001b[0;32m/usr/local/lib/python3.7/dist-packages/seaborn/distributions.py\u001b[0m in \u001b[0;36m__init__\u001b[0;34m(self, data, variables)\u001b[0m\n\u001b[1;32m    107\u001b[0m     ):\n\u001b[1;32m    108\u001b[0m \u001b[0;34m\u001b[0m\u001b[0m\n\u001b[0;32m--> 109\u001b[0;31m         \u001b[0msuper\u001b[0m\u001b[0;34m(\u001b[0m\u001b[0;34m)\u001b[0m\u001b[0;34m.\u001b[0m\u001b[0m__init__\u001b[0m\u001b[0;34m(\u001b[0m\u001b[0mdata\u001b[0m\u001b[0;34m=\u001b[0m\u001b[0mdata\u001b[0m\u001b[0;34m,\u001b[0m \u001b[0mvariables\u001b[0m\u001b[0;34m=\u001b[0m\u001b[0mvariables\u001b[0m\u001b[0;34m)\u001b[0m\u001b[0;34m\u001b[0m\u001b[0;34m\u001b[0m\u001b[0m\n\u001b[0m\u001b[1;32m    110\u001b[0m \u001b[0;34m\u001b[0m\u001b[0m\n\u001b[1;32m    111\u001b[0m     \u001b[0;34m@\u001b[0m\u001b[0mproperty\u001b[0m\u001b[0;34m\u001b[0m\u001b[0;34m\u001b[0m\u001b[0m\n",
            "\u001b[0;32m/usr/local/lib/python3.7/dist-packages/seaborn/_core.py\u001b[0m in \u001b[0;36m__init__\u001b[0;34m(self, data, variables)\u001b[0m\n\u001b[1;32m    602\u001b[0m     \u001b[0;32mdef\u001b[0m \u001b[0m__init__\u001b[0m\u001b[0;34m(\u001b[0m\u001b[0mself\u001b[0m\u001b[0;34m,\u001b[0m \u001b[0mdata\u001b[0m\u001b[0;34m=\u001b[0m\u001b[0;32mNone\u001b[0m\u001b[0;34m,\u001b[0m \u001b[0mvariables\u001b[0m\u001b[0;34m=\u001b[0m\u001b[0;34m{\u001b[0m\u001b[0;34m}\u001b[0m\u001b[0;34m)\u001b[0m\u001b[0;34m:\u001b[0m\u001b[0;34m\u001b[0m\u001b[0;34m\u001b[0m\u001b[0m\n\u001b[1;32m    603\u001b[0m \u001b[0;34m\u001b[0m\u001b[0m\n\u001b[0;32m--> 604\u001b[0;31m         \u001b[0mself\u001b[0m\u001b[0;34m.\u001b[0m\u001b[0massign_variables\u001b[0m\u001b[0;34m(\u001b[0m\u001b[0mdata\u001b[0m\u001b[0;34m,\u001b[0m \u001b[0mvariables\u001b[0m\u001b[0;34m)\u001b[0m\u001b[0;34m\u001b[0m\u001b[0;34m\u001b[0m\u001b[0m\n\u001b[0m\u001b[1;32m    605\u001b[0m \u001b[0;34m\u001b[0m\u001b[0m\n\u001b[1;32m    606\u001b[0m         \u001b[0;32mfor\u001b[0m \u001b[0mvar\u001b[0m\u001b[0;34m,\u001b[0m \u001b[0mcls\u001b[0m \u001b[0;32min\u001b[0m \u001b[0mself\u001b[0m\u001b[0;34m.\u001b[0m\u001b[0m_semantic_mappings\u001b[0m\u001b[0;34m.\u001b[0m\u001b[0mitems\u001b[0m\u001b[0;34m(\u001b[0m\u001b[0;34m)\u001b[0m\u001b[0;34m:\u001b[0m\u001b[0;34m\u001b[0m\u001b[0;34m\u001b[0m\u001b[0m\n",
            "\u001b[0;32m/usr/local/lib/python3.7/dist-packages/seaborn/_core.py\u001b[0m in \u001b[0;36massign_variables\u001b[0;34m(self, data, variables)\u001b[0m\n\u001b[1;32m    666\u001b[0m             \u001b[0mself\u001b[0m\u001b[0;34m.\u001b[0m\u001b[0minput_format\u001b[0m \u001b[0;34m=\u001b[0m \u001b[0;34m\"long\"\u001b[0m\u001b[0;34m\u001b[0m\u001b[0;34m\u001b[0m\u001b[0m\n\u001b[1;32m    667\u001b[0m             plot_data, variables = self._assign_variables_longform(\n\u001b[0;32m--> 668\u001b[0;31m                 \u001b[0mdata\u001b[0m\u001b[0;34m,\u001b[0m \u001b[0;34m**\u001b[0m\u001b[0mvariables\u001b[0m\u001b[0;34m,\u001b[0m\u001b[0;34m\u001b[0m\u001b[0;34m\u001b[0m\u001b[0m\n\u001b[0m\u001b[1;32m    669\u001b[0m             )\n\u001b[1;32m    670\u001b[0m \u001b[0;34m\u001b[0m\u001b[0m\n",
            "\u001b[0;32m/usr/local/lib/python3.7/dist-packages/seaborn/_core.py\u001b[0m in \u001b[0;36m_assign_variables_longform\u001b[0;34m(self, data, **kwargs)\u001b[0m\n\u001b[1;32m    900\u001b[0m \u001b[0;34m\u001b[0m\u001b[0m\n\u001b[1;32m    901\u001b[0m                 \u001b[0merr\u001b[0m \u001b[0;34m=\u001b[0m \u001b[0;34mf\"Could not interpret value `{val}` for parameter `{key}`\"\u001b[0m\u001b[0;34m\u001b[0m\u001b[0;34m\u001b[0m\u001b[0m\n\u001b[0;32m--> 902\u001b[0;31m                 \u001b[0;32mraise\u001b[0m \u001b[0mValueError\u001b[0m\u001b[0;34m(\u001b[0m\u001b[0merr\u001b[0m\u001b[0;34m)\u001b[0m\u001b[0;34m\u001b[0m\u001b[0;34m\u001b[0m\u001b[0m\n\u001b[0m\u001b[1;32m    903\u001b[0m \u001b[0;34m\u001b[0m\u001b[0m\n\u001b[1;32m    904\u001b[0m             \u001b[0;32melse\u001b[0m\u001b[0;34m:\u001b[0m\u001b[0;34m\u001b[0m\u001b[0;34m\u001b[0m\u001b[0m\n",
            "\u001b[0;31mValueError\u001b[0m: Could not interpret value `Ticket` for parameter `x`"
          ]
        }
      ]
    },
    {
      "cell_type": "markdown",
      "metadata": {
        "id": "ltre7Z1bKO75"
      },
      "source": [
        "#3.Modeling"
      ]
    },
    {
      "cell_type": "code",
      "metadata": {
        "id": "8nq1mZRlKNfC"
      },
      "source": [
        "test_df=df.loc[df['Survived']==2].drop('Survived',axis=1) \r\n",
        "titanic_df=df.loc[df['Survived']!=2]\r\n",
        "titanic_feature=titanic_df.drop(['Survived','PassengerId'], axis=1) \r\n",
        "titanic_label=titanic_df['Survived']\r\n",
        "titanic_feature.head(3)"
      ],
      "execution_count": null,
      "outputs": []
    },
    {
      "cell_type": "code",
      "metadata": {
        "id": "ZksoFCuMJczU"
      },
      "source": [
        "from sklearn.ensemble import RandomForestClassifier\r\n",
        "from xgboost import XGBClassifier\r\n",
        "rf_clf=RandomForestClassifier(random_state=0) \r\n",
        "xgb_clf=XGBClassifier(random_state=0)\r\n",
        "X_train, X_test, y_train, y_test=train_test_split(titanic_feature, titanic_label, test_size=0.2,random_state=0)"
      ],
      "execution_count": null,
      "outputs": []
    },
    {
      "cell_type": "code",
      "metadata": {
        "id": "sYdB7hNuJc3N"
      },
      "source": [
        "rf_params={'n_estimators':[50,100,150],\r\n",
        "           'max_depth':[3,5,7], \r\n",
        "           'min_samples_leaf':[3,5,7],\r\n",
        "           'min_samples_split':[5,7,9]}\r\n",
        "rf_gridcv=GridSearchCV(rf_clf, param_grid=rf_params, cv=5, n_jobs=-1) \r\n",
        "rf_gridcv.fit(X_train, y_train)\r\n",
        "print('best parameters:\\n',rf_gridcv.best_params_)\r\n",
        "rf_clf=rf_gridcv.best_estimator_"
      ],
      "execution_count": null,
      "outputs": []
    },
    {
      "cell_type": "code",
      "metadata": {
        "id": "_M-kXIx6Jc5t"
      },
      "source": [
        "xgb_params={'learning_rate' : [0.02], \r\n",
        "            'n_estimators':[200,300,400],\r\n",
        "            'max_depth':[3,5,7],\r\n",
        "            'colsample_bytree':[0.7,0.8],\r\n",
        "            'subsample':[0.9]}\r\n",
        "xgb_gridcv=GridSearchCV(xgb_clf, param_grid=xgb_params, cv=5, n_jobs=-1) \r\n",
        "xgb_gridcv.fit(X_train, y_train)\r\n",
        "print('best parameters:\\n',xgb_gridcv.best_params_)\r\n",
        "xgb_clf=xgb_gridcv.best_estimator_"
      ],
      "execution_count": null,
      "outputs": []
    },
    {
      "cell_type": "code",
      "metadata": {
        "id": "4sNZdn_PJq_s"
      },
      "source": [
        "vo_clf=VotingClassifier(estimators=[('RandomForest',rf_clf),('XGBoost',xgb_clf), voting='soft')\r\n",
        "pred1=rf_clf.fit(X_train, y_train).predict(X_test)\r\n",
        "pred2=xgb_clf.fit(X_train, y_train).predict(X_test)\r\n",
        "pred3=vo_clf.fit(X_train, y_train).predict(X_test)\r\n",
        "print('Accuracy1:{0:.4f} / Accuracy2:{1:.4f}'.format(accuracy_score(y_test,pred1),accuracy_score(y_test,pred2)))\r\n",
        "print('Final accuracy:{0:.4f}'.format(accuracy_score(y_test,pred3))) "
      ],
      "execution_count": null,
      "outputs": []
    },
    {
      "cell_type": "code",
      "metadata": {
        "id": "ablLLM8ZJ610"
      },
      "source": [
        "Pid=test_df['PassengerId']\r\n",
        "test_df.drop('PassengerId',axis=1,inplace=True)\r\n",
        "test_df.head(3)"
      ],
      "execution_count": null,
      "outputs": []
    },
    {
      "cell_type": "code",
      "metadata": {
        "id": "8eWYXjANJ8g4"
      },
      "source": [
        "realpred=vo_clf.predict(test_df)\r\n",
        "realpred=pd.DataFrame(realpred, columns=['Survived']) \r\n",
        "submit_df=pd.DataFrame({'PassengerId':Pid,'Survived':realpred['Survived']}) \r\n",
        "submit_df.head(3)\r\n",
        "submit_df.to_csv('/content/gdrive/MyDrive/Dataset/Lutris_titanic.csv', index = False)"
      ],
      "execution_count": null,
      "outputs": []
    }
  ]
}