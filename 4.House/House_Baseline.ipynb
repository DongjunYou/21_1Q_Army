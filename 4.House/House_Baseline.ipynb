{
  "nbformat": 4,
  "nbformat_minor": 0,
  "metadata": {
    "colab": {
      "name": "House_Baseline.ipynb",
      "provenance": [],
      "collapsed_sections": [],
      "toc_visible": true,
      "mount_file_id": "1KKKsnou1DtAwbiyTZrMLjjug5kbX4_ZX",
      "authorship_tag": "ABX9TyOSIUofuAKwGkybuuPP3osI",
      "include_colab_link": true
    },
    "kernelspec": {
      "name": "python3",
      "display_name": "Python 3"
    }
  },
  "cells": [
    {
      "cell_type": "markdown",
      "metadata": {
        "id": "view-in-github",
        "colab_type": "text"
      },
      "source": [
        "<a href=\"https://colab.research.google.com/github/Lutris98/21_1Q/blob/master/4.House/House_Baseline.ipynb\" target=\"_parent\"><img src=\"https://colab.research.google.com/assets/colab-badge.svg\" alt=\"Open In Colab\"/></a>"
      ]
    },
    {
      "cell_type": "markdown",
      "metadata": {
        "id": "rbGPZm7heSLv"
      },
      "source": [
        "#1.EDA"
      ]
    },
    {
      "cell_type": "code",
      "metadata": {
        "id": "jVTXZ7VEuHLB"
      },
      "source": [
        "import numpy as np\n",
        "import pandas as pd\n",
        "import matplotlib.pyplot as plt\n",
        "import seaborn as sns\n",
        "from sklearn.impute import SimpleImputer\n",
        "from sklearn.preprocessing import LabelEncoder\n",
        "from sklearn.model_selection import train_test_split, GridSearchCV\n",
        "from sklearn.ensemble import RandomForestRegressor,VotingRegressor\n",
        "from xgboost import XGBRegressor\n",
        "from lightgbm import LGBMRegressor\n",
        "from sklearn.linear_model import LinearRegression,Ridge,Lasso\n",
        "from sklearn.metrics import mean_squared_error, mean_absolute_error"
      ],
      "execution_count": 266,
      "outputs": []
    },
    {
      "cell_type": "code",
      "metadata": {
        "colab": {
          "base_uri": "https://localhost:8080/"
        },
        "id": "yw4fwIoLs4-i",
        "outputId": "64aad8d3-edbb-432f-a1ed-bda4d6ea7ffb"
      },
      "source": [
        "from google.colab import drive\n",
        "drive.mount('/content/gdrive')\n",
        "train_df=pd.read_csv('/content/gdrive/MyDrive/Dataset/house_train.csv')\n",
        "test_df=pd.read_csv('/content/gdrive/MyDrive/Dataset/house_test.csv')"
      ],
      "execution_count": 267,
      "outputs": [
        {
          "output_type": "stream",
          "text": [
            "Drive already mounted at /content/gdrive; to attempt to forcibly remount, call drive.mount(\"/content/gdrive\", force_remount=True).\n"
          ],
          "name": "stdout"
        }
      ]
    },
    {
      "cell_type": "code",
      "metadata": {
        "id": "3lZuOy_OvgJj"
      },
      "source": [
        "df=pd.concat([train_df,test_df],axis=0,ignore_index=True)"
      ],
      "execution_count": 268,
      "outputs": []
    },
    {
      "cell_type": "markdown",
      "metadata": {
        "id": "oPCDm7_NeSXG"
      },
      "source": [
        "##1) Basic statistics"
      ]
    },
    {
      "cell_type": "code",
      "metadata": {
        "colab": {
          "base_uri": "https://localhost:8080/",
          "height": 253
        },
        "id": "4323GOoOM7ML",
        "outputId": "302866fb-b876-47f6-f14a-82aac2afa7d3"
      },
      "source": [
        "df.head()"
      ],
      "execution_count": 269,
      "outputs": [
        {
          "output_type": "execute_result",
          "data": {
            "text/html": [
              "<div>\n",
              "<style scoped>\n",
              "    .dataframe tbody tr th:only-of-type {\n",
              "        vertical-align: middle;\n",
              "    }\n",
              "\n",
              "    .dataframe tbody tr th {\n",
              "        vertical-align: top;\n",
              "    }\n",
              "\n",
              "    .dataframe thead th {\n",
              "        text-align: right;\n",
              "    }\n",
              "</style>\n",
              "<table border=\"1\" class=\"dataframe\">\n",
              "  <thead>\n",
              "    <tr style=\"text-align: right;\">\n",
              "      <th></th>\n",
              "      <th>Id</th>\n",
              "      <th>MSSubClass</th>\n",
              "      <th>MSZoning</th>\n",
              "      <th>LotFrontage</th>\n",
              "      <th>LotArea</th>\n",
              "      <th>Street</th>\n",
              "      <th>Alley</th>\n",
              "      <th>LotShape</th>\n",
              "      <th>LandContour</th>\n",
              "      <th>Utilities</th>\n",
              "      <th>LotConfig</th>\n",
              "      <th>LandSlope</th>\n",
              "      <th>Neighborhood</th>\n",
              "      <th>Condition1</th>\n",
              "      <th>Condition2</th>\n",
              "      <th>BldgType</th>\n",
              "      <th>HouseStyle</th>\n",
              "      <th>OverallQual</th>\n",
              "      <th>OverallCond</th>\n",
              "      <th>YearBuilt</th>\n",
              "      <th>YearRemodAdd</th>\n",
              "      <th>RoofStyle</th>\n",
              "      <th>RoofMatl</th>\n",
              "      <th>Exterior1st</th>\n",
              "      <th>Exterior2nd</th>\n",
              "      <th>MasVnrType</th>\n",
              "      <th>MasVnrArea</th>\n",
              "      <th>ExterQual</th>\n",
              "      <th>ExterCond</th>\n",
              "      <th>Foundation</th>\n",
              "      <th>BsmtQual</th>\n",
              "      <th>BsmtCond</th>\n",
              "      <th>BsmtExposure</th>\n",
              "      <th>BsmtFinType1</th>\n",
              "      <th>BsmtFinSF1</th>\n",
              "      <th>BsmtFinType2</th>\n",
              "      <th>BsmtFinSF2</th>\n",
              "      <th>BsmtUnfSF</th>\n",
              "      <th>TotalBsmtSF</th>\n",
              "      <th>Heating</th>\n",
              "      <th>...</th>\n",
              "      <th>CentralAir</th>\n",
              "      <th>Electrical</th>\n",
              "      <th>1stFlrSF</th>\n",
              "      <th>2ndFlrSF</th>\n",
              "      <th>LowQualFinSF</th>\n",
              "      <th>GrLivArea</th>\n",
              "      <th>BsmtFullBath</th>\n",
              "      <th>BsmtHalfBath</th>\n",
              "      <th>FullBath</th>\n",
              "      <th>HalfBath</th>\n",
              "      <th>BedroomAbvGr</th>\n",
              "      <th>KitchenAbvGr</th>\n",
              "      <th>KitchenQual</th>\n",
              "      <th>TotRmsAbvGrd</th>\n",
              "      <th>Functional</th>\n",
              "      <th>Fireplaces</th>\n",
              "      <th>FireplaceQu</th>\n",
              "      <th>GarageType</th>\n",
              "      <th>GarageYrBlt</th>\n",
              "      <th>GarageFinish</th>\n",
              "      <th>GarageCars</th>\n",
              "      <th>GarageArea</th>\n",
              "      <th>GarageQual</th>\n",
              "      <th>GarageCond</th>\n",
              "      <th>PavedDrive</th>\n",
              "      <th>WoodDeckSF</th>\n",
              "      <th>OpenPorchSF</th>\n",
              "      <th>EnclosedPorch</th>\n",
              "      <th>3SsnPorch</th>\n",
              "      <th>ScreenPorch</th>\n",
              "      <th>PoolArea</th>\n",
              "      <th>PoolQC</th>\n",
              "      <th>Fence</th>\n",
              "      <th>MiscFeature</th>\n",
              "      <th>MiscVal</th>\n",
              "      <th>MoSold</th>\n",
              "      <th>YrSold</th>\n",
              "      <th>SaleType</th>\n",
              "      <th>SaleCondition</th>\n",
              "      <th>SalePrice</th>\n",
              "    </tr>\n",
              "  </thead>\n",
              "  <tbody>\n",
              "    <tr>\n",
              "      <th>0</th>\n",
              "      <td>1</td>\n",
              "      <td>60</td>\n",
              "      <td>RL</td>\n",
              "      <td>65.0</td>\n",
              "      <td>8450</td>\n",
              "      <td>Pave</td>\n",
              "      <td>NaN</td>\n",
              "      <td>Reg</td>\n",
              "      <td>Lvl</td>\n",
              "      <td>AllPub</td>\n",
              "      <td>Inside</td>\n",
              "      <td>Gtl</td>\n",
              "      <td>CollgCr</td>\n",
              "      <td>Norm</td>\n",
              "      <td>Norm</td>\n",
              "      <td>1Fam</td>\n",
              "      <td>2Story</td>\n",
              "      <td>7</td>\n",
              "      <td>5</td>\n",
              "      <td>2003</td>\n",
              "      <td>2003</td>\n",
              "      <td>Gable</td>\n",
              "      <td>CompShg</td>\n",
              "      <td>VinylSd</td>\n",
              "      <td>VinylSd</td>\n",
              "      <td>BrkFace</td>\n",
              "      <td>196.0</td>\n",
              "      <td>Gd</td>\n",
              "      <td>TA</td>\n",
              "      <td>PConc</td>\n",
              "      <td>Gd</td>\n",
              "      <td>TA</td>\n",
              "      <td>No</td>\n",
              "      <td>GLQ</td>\n",
              "      <td>706.0</td>\n",
              "      <td>Unf</td>\n",
              "      <td>0.0</td>\n",
              "      <td>150.0</td>\n",
              "      <td>856.0</td>\n",
              "      <td>GasA</td>\n",
              "      <td>...</td>\n",
              "      <td>Y</td>\n",
              "      <td>SBrkr</td>\n",
              "      <td>856</td>\n",
              "      <td>854</td>\n",
              "      <td>0</td>\n",
              "      <td>1710</td>\n",
              "      <td>1.0</td>\n",
              "      <td>0.0</td>\n",
              "      <td>2</td>\n",
              "      <td>1</td>\n",
              "      <td>3</td>\n",
              "      <td>1</td>\n",
              "      <td>Gd</td>\n",
              "      <td>8</td>\n",
              "      <td>Typ</td>\n",
              "      <td>0</td>\n",
              "      <td>NaN</td>\n",
              "      <td>Attchd</td>\n",
              "      <td>2003.0</td>\n",
              "      <td>RFn</td>\n",
              "      <td>2.0</td>\n",
              "      <td>548.0</td>\n",
              "      <td>TA</td>\n",
              "      <td>TA</td>\n",
              "      <td>Y</td>\n",
              "      <td>0</td>\n",
              "      <td>61</td>\n",
              "      <td>0</td>\n",
              "      <td>0</td>\n",
              "      <td>0</td>\n",
              "      <td>0</td>\n",
              "      <td>NaN</td>\n",
              "      <td>NaN</td>\n",
              "      <td>NaN</td>\n",
              "      <td>0</td>\n",
              "      <td>2</td>\n",
              "      <td>2008</td>\n",
              "      <td>WD</td>\n",
              "      <td>Normal</td>\n",
              "      <td>208500.0</td>\n",
              "    </tr>\n",
              "    <tr>\n",
              "      <th>1</th>\n",
              "      <td>2</td>\n",
              "      <td>20</td>\n",
              "      <td>RL</td>\n",
              "      <td>80.0</td>\n",
              "      <td>9600</td>\n",
              "      <td>Pave</td>\n",
              "      <td>NaN</td>\n",
              "      <td>Reg</td>\n",
              "      <td>Lvl</td>\n",
              "      <td>AllPub</td>\n",
              "      <td>FR2</td>\n",
              "      <td>Gtl</td>\n",
              "      <td>Veenker</td>\n",
              "      <td>Feedr</td>\n",
              "      <td>Norm</td>\n",
              "      <td>1Fam</td>\n",
              "      <td>1Story</td>\n",
              "      <td>6</td>\n",
              "      <td>8</td>\n",
              "      <td>1976</td>\n",
              "      <td>1976</td>\n",
              "      <td>Gable</td>\n",
              "      <td>CompShg</td>\n",
              "      <td>MetalSd</td>\n",
              "      <td>MetalSd</td>\n",
              "      <td>None</td>\n",
              "      <td>0.0</td>\n",
              "      <td>TA</td>\n",
              "      <td>TA</td>\n",
              "      <td>CBlock</td>\n",
              "      <td>Gd</td>\n",
              "      <td>TA</td>\n",
              "      <td>Gd</td>\n",
              "      <td>ALQ</td>\n",
              "      <td>978.0</td>\n",
              "      <td>Unf</td>\n",
              "      <td>0.0</td>\n",
              "      <td>284.0</td>\n",
              "      <td>1262.0</td>\n",
              "      <td>GasA</td>\n",
              "      <td>...</td>\n",
              "      <td>Y</td>\n",
              "      <td>SBrkr</td>\n",
              "      <td>1262</td>\n",
              "      <td>0</td>\n",
              "      <td>0</td>\n",
              "      <td>1262</td>\n",
              "      <td>0.0</td>\n",
              "      <td>1.0</td>\n",
              "      <td>2</td>\n",
              "      <td>0</td>\n",
              "      <td>3</td>\n",
              "      <td>1</td>\n",
              "      <td>TA</td>\n",
              "      <td>6</td>\n",
              "      <td>Typ</td>\n",
              "      <td>1</td>\n",
              "      <td>TA</td>\n",
              "      <td>Attchd</td>\n",
              "      <td>1976.0</td>\n",
              "      <td>RFn</td>\n",
              "      <td>2.0</td>\n",
              "      <td>460.0</td>\n",
              "      <td>TA</td>\n",
              "      <td>TA</td>\n",
              "      <td>Y</td>\n",
              "      <td>298</td>\n",
              "      <td>0</td>\n",
              "      <td>0</td>\n",
              "      <td>0</td>\n",
              "      <td>0</td>\n",
              "      <td>0</td>\n",
              "      <td>NaN</td>\n",
              "      <td>NaN</td>\n",
              "      <td>NaN</td>\n",
              "      <td>0</td>\n",
              "      <td>5</td>\n",
              "      <td>2007</td>\n",
              "      <td>WD</td>\n",
              "      <td>Normal</td>\n",
              "      <td>181500.0</td>\n",
              "    </tr>\n",
              "    <tr>\n",
              "      <th>2</th>\n",
              "      <td>3</td>\n",
              "      <td>60</td>\n",
              "      <td>RL</td>\n",
              "      <td>68.0</td>\n",
              "      <td>11250</td>\n",
              "      <td>Pave</td>\n",
              "      <td>NaN</td>\n",
              "      <td>IR1</td>\n",
              "      <td>Lvl</td>\n",
              "      <td>AllPub</td>\n",
              "      <td>Inside</td>\n",
              "      <td>Gtl</td>\n",
              "      <td>CollgCr</td>\n",
              "      <td>Norm</td>\n",
              "      <td>Norm</td>\n",
              "      <td>1Fam</td>\n",
              "      <td>2Story</td>\n",
              "      <td>7</td>\n",
              "      <td>5</td>\n",
              "      <td>2001</td>\n",
              "      <td>2002</td>\n",
              "      <td>Gable</td>\n",
              "      <td>CompShg</td>\n",
              "      <td>VinylSd</td>\n",
              "      <td>VinylSd</td>\n",
              "      <td>BrkFace</td>\n",
              "      <td>162.0</td>\n",
              "      <td>Gd</td>\n",
              "      <td>TA</td>\n",
              "      <td>PConc</td>\n",
              "      <td>Gd</td>\n",
              "      <td>TA</td>\n",
              "      <td>Mn</td>\n",
              "      <td>GLQ</td>\n",
              "      <td>486.0</td>\n",
              "      <td>Unf</td>\n",
              "      <td>0.0</td>\n",
              "      <td>434.0</td>\n",
              "      <td>920.0</td>\n",
              "      <td>GasA</td>\n",
              "      <td>...</td>\n",
              "      <td>Y</td>\n",
              "      <td>SBrkr</td>\n",
              "      <td>920</td>\n",
              "      <td>866</td>\n",
              "      <td>0</td>\n",
              "      <td>1786</td>\n",
              "      <td>1.0</td>\n",
              "      <td>0.0</td>\n",
              "      <td>2</td>\n",
              "      <td>1</td>\n",
              "      <td>3</td>\n",
              "      <td>1</td>\n",
              "      <td>Gd</td>\n",
              "      <td>6</td>\n",
              "      <td>Typ</td>\n",
              "      <td>1</td>\n",
              "      <td>TA</td>\n",
              "      <td>Attchd</td>\n",
              "      <td>2001.0</td>\n",
              "      <td>RFn</td>\n",
              "      <td>2.0</td>\n",
              "      <td>608.0</td>\n",
              "      <td>TA</td>\n",
              "      <td>TA</td>\n",
              "      <td>Y</td>\n",
              "      <td>0</td>\n",
              "      <td>42</td>\n",
              "      <td>0</td>\n",
              "      <td>0</td>\n",
              "      <td>0</td>\n",
              "      <td>0</td>\n",
              "      <td>NaN</td>\n",
              "      <td>NaN</td>\n",
              "      <td>NaN</td>\n",
              "      <td>0</td>\n",
              "      <td>9</td>\n",
              "      <td>2008</td>\n",
              "      <td>WD</td>\n",
              "      <td>Normal</td>\n",
              "      <td>223500.0</td>\n",
              "    </tr>\n",
              "    <tr>\n",
              "      <th>3</th>\n",
              "      <td>4</td>\n",
              "      <td>70</td>\n",
              "      <td>RL</td>\n",
              "      <td>60.0</td>\n",
              "      <td>9550</td>\n",
              "      <td>Pave</td>\n",
              "      <td>NaN</td>\n",
              "      <td>IR1</td>\n",
              "      <td>Lvl</td>\n",
              "      <td>AllPub</td>\n",
              "      <td>Corner</td>\n",
              "      <td>Gtl</td>\n",
              "      <td>Crawfor</td>\n",
              "      <td>Norm</td>\n",
              "      <td>Norm</td>\n",
              "      <td>1Fam</td>\n",
              "      <td>2Story</td>\n",
              "      <td>7</td>\n",
              "      <td>5</td>\n",
              "      <td>1915</td>\n",
              "      <td>1970</td>\n",
              "      <td>Gable</td>\n",
              "      <td>CompShg</td>\n",
              "      <td>Wd Sdng</td>\n",
              "      <td>Wd Shng</td>\n",
              "      <td>None</td>\n",
              "      <td>0.0</td>\n",
              "      <td>TA</td>\n",
              "      <td>TA</td>\n",
              "      <td>BrkTil</td>\n",
              "      <td>TA</td>\n",
              "      <td>Gd</td>\n",
              "      <td>No</td>\n",
              "      <td>ALQ</td>\n",
              "      <td>216.0</td>\n",
              "      <td>Unf</td>\n",
              "      <td>0.0</td>\n",
              "      <td>540.0</td>\n",
              "      <td>756.0</td>\n",
              "      <td>GasA</td>\n",
              "      <td>...</td>\n",
              "      <td>Y</td>\n",
              "      <td>SBrkr</td>\n",
              "      <td>961</td>\n",
              "      <td>756</td>\n",
              "      <td>0</td>\n",
              "      <td>1717</td>\n",
              "      <td>1.0</td>\n",
              "      <td>0.0</td>\n",
              "      <td>1</td>\n",
              "      <td>0</td>\n",
              "      <td>3</td>\n",
              "      <td>1</td>\n",
              "      <td>Gd</td>\n",
              "      <td>7</td>\n",
              "      <td>Typ</td>\n",
              "      <td>1</td>\n",
              "      <td>Gd</td>\n",
              "      <td>Detchd</td>\n",
              "      <td>1998.0</td>\n",
              "      <td>Unf</td>\n",
              "      <td>3.0</td>\n",
              "      <td>642.0</td>\n",
              "      <td>TA</td>\n",
              "      <td>TA</td>\n",
              "      <td>Y</td>\n",
              "      <td>0</td>\n",
              "      <td>35</td>\n",
              "      <td>272</td>\n",
              "      <td>0</td>\n",
              "      <td>0</td>\n",
              "      <td>0</td>\n",
              "      <td>NaN</td>\n",
              "      <td>NaN</td>\n",
              "      <td>NaN</td>\n",
              "      <td>0</td>\n",
              "      <td>2</td>\n",
              "      <td>2006</td>\n",
              "      <td>WD</td>\n",
              "      <td>Abnorml</td>\n",
              "      <td>140000.0</td>\n",
              "    </tr>\n",
              "    <tr>\n",
              "      <th>4</th>\n",
              "      <td>5</td>\n",
              "      <td>60</td>\n",
              "      <td>RL</td>\n",
              "      <td>84.0</td>\n",
              "      <td>14260</td>\n",
              "      <td>Pave</td>\n",
              "      <td>NaN</td>\n",
              "      <td>IR1</td>\n",
              "      <td>Lvl</td>\n",
              "      <td>AllPub</td>\n",
              "      <td>FR2</td>\n",
              "      <td>Gtl</td>\n",
              "      <td>NoRidge</td>\n",
              "      <td>Norm</td>\n",
              "      <td>Norm</td>\n",
              "      <td>1Fam</td>\n",
              "      <td>2Story</td>\n",
              "      <td>8</td>\n",
              "      <td>5</td>\n",
              "      <td>2000</td>\n",
              "      <td>2000</td>\n",
              "      <td>Gable</td>\n",
              "      <td>CompShg</td>\n",
              "      <td>VinylSd</td>\n",
              "      <td>VinylSd</td>\n",
              "      <td>BrkFace</td>\n",
              "      <td>350.0</td>\n",
              "      <td>Gd</td>\n",
              "      <td>TA</td>\n",
              "      <td>PConc</td>\n",
              "      <td>Gd</td>\n",
              "      <td>TA</td>\n",
              "      <td>Av</td>\n",
              "      <td>GLQ</td>\n",
              "      <td>655.0</td>\n",
              "      <td>Unf</td>\n",
              "      <td>0.0</td>\n",
              "      <td>490.0</td>\n",
              "      <td>1145.0</td>\n",
              "      <td>GasA</td>\n",
              "      <td>...</td>\n",
              "      <td>Y</td>\n",
              "      <td>SBrkr</td>\n",
              "      <td>1145</td>\n",
              "      <td>1053</td>\n",
              "      <td>0</td>\n",
              "      <td>2198</td>\n",
              "      <td>1.0</td>\n",
              "      <td>0.0</td>\n",
              "      <td>2</td>\n",
              "      <td>1</td>\n",
              "      <td>4</td>\n",
              "      <td>1</td>\n",
              "      <td>Gd</td>\n",
              "      <td>9</td>\n",
              "      <td>Typ</td>\n",
              "      <td>1</td>\n",
              "      <td>TA</td>\n",
              "      <td>Attchd</td>\n",
              "      <td>2000.0</td>\n",
              "      <td>RFn</td>\n",
              "      <td>3.0</td>\n",
              "      <td>836.0</td>\n",
              "      <td>TA</td>\n",
              "      <td>TA</td>\n",
              "      <td>Y</td>\n",
              "      <td>192</td>\n",
              "      <td>84</td>\n",
              "      <td>0</td>\n",
              "      <td>0</td>\n",
              "      <td>0</td>\n",
              "      <td>0</td>\n",
              "      <td>NaN</td>\n",
              "      <td>NaN</td>\n",
              "      <td>NaN</td>\n",
              "      <td>0</td>\n",
              "      <td>12</td>\n",
              "      <td>2008</td>\n",
              "      <td>WD</td>\n",
              "      <td>Normal</td>\n",
              "      <td>250000.0</td>\n",
              "    </tr>\n",
              "  </tbody>\n",
              "</table>\n",
              "<p>5 rows × 81 columns</p>\n",
              "</div>"
            ],
            "text/plain": [
              "   Id  MSSubClass MSZoning  ...  SaleType  SaleCondition SalePrice\n",
              "0   1          60       RL  ...        WD         Normal  208500.0\n",
              "1   2          20       RL  ...        WD         Normal  181500.0\n",
              "2   3          60       RL  ...        WD         Normal  223500.0\n",
              "3   4          70       RL  ...        WD        Abnorml  140000.0\n",
              "4   5          60       RL  ...        WD         Normal  250000.0\n",
              "\n",
              "[5 rows x 81 columns]"
            ]
          },
          "metadata": {
            "tags": []
          },
          "execution_count": 269
        }
      ]
    },
    {
      "cell_type": "code",
      "metadata": {
        "colab": {
          "base_uri": "https://localhost:8080/"
        },
        "id": "UaIx4lJIM-bS",
        "outputId": "bd5cbcb1-2134-491f-8490-35d2e4a4361d"
      },
      "source": [
        "df.info() "
      ],
      "execution_count": 270,
      "outputs": [
        {
          "output_type": "stream",
          "text": [
            "<class 'pandas.core.frame.DataFrame'>\n",
            "RangeIndex: 2919 entries, 0 to 2918\n",
            "Data columns (total 81 columns):\n",
            " #   Column         Non-Null Count  Dtype  \n",
            "---  ------         --------------  -----  \n",
            " 0   Id             2919 non-null   int64  \n",
            " 1   MSSubClass     2919 non-null   int64  \n",
            " 2   MSZoning       2915 non-null   object \n",
            " 3   LotFrontage    2433 non-null   float64\n",
            " 4   LotArea        2919 non-null   int64  \n",
            " 5   Street         2919 non-null   object \n",
            " 6   Alley          198 non-null    object \n",
            " 7   LotShape       2919 non-null   object \n",
            " 8   LandContour    2919 non-null   object \n",
            " 9   Utilities      2917 non-null   object \n",
            " 10  LotConfig      2919 non-null   object \n",
            " 11  LandSlope      2919 non-null   object \n",
            " 12  Neighborhood   2919 non-null   object \n",
            " 13  Condition1     2919 non-null   object \n",
            " 14  Condition2     2919 non-null   object \n",
            " 15  BldgType       2919 non-null   object \n",
            " 16  HouseStyle     2919 non-null   object \n",
            " 17  OverallQual    2919 non-null   int64  \n",
            " 18  OverallCond    2919 non-null   int64  \n",
            " 19  YearBuilt      2919 non-null   int64  \n",
            " 20  YearRemodAdd   2919 non-null   int64  \n",
            " 21  RoofStyle      2919 non-null   object \n",
            " 22  RoofMatl       2919 non-null   object \n",
            " 23  Exterior1st    2918 non-null   object \n",
            " 24  Exterior2nd    2918 non-null   object \n",
            " 25  MasVnrType     2895 non-null   object \n",
            " 26  MasVnrArea     2896 non-null   float64\n",
            " 27  ExterQual      2919 non-null   object \n",
            " 28  ExterCond      2919 non-null   object \n",
            " 29  Foundation     2919 non-null   object \n",
            " 30  BsmtQual       2838 non-null   object \n",
            " 31  BsmtCond       2837 non-null   object \n",
            " 32  BsmtExposure   2837 non-null   object \n",
            " 33  BsmtFinType1   2840 non-null   object \n",
            " 34  BsmtFinSF1     2918 non-null   float64\n",
            " 35  BsmtFinType2   2839 non-null   object \n",
            " 36  BsmtFinSF2     2918 non-null   float64\n",
            " 37  BsmtUnfSF      2918 non-null   float64\n",
            " 38  TotalBsmtSF    2918 non-null   float64\n",
            " 39  Heating        2919 non-null   object \n",
            " 40  HeatingQC      2919 non-null   object \n",
            " 41  CentralAir     2919 non-null   object \n",
            " 42  Electrical     2918 non-null   object \n",
            " 43  1stFlrSF       2919 non-null   int64  \n",
            " 44  2ndFlrSF       2919 non-null   int64  \n",
            " 45  LowQualFinSF   2919 non-null   int64  \n",
            " 46  GrLivArea      2919 non-null   int64  \n",
            " 47  BsmtFullBath   2917 non-null   float64\n",
            " 48  BsmtHalfBath   2917 non-null   float64\n",
            " 49  FullBath       2919 non-null   int64  \n",
            " 50  HalfBath       2919 non-null   int64  \n",
            " 51  BedroomAbvGr   2919 non-null   int64  \n",
            " 52  KitchenAbvGr   2919 non-null   int64  \n",
            " 53  KitchenQual    2918 non-null   object \n",
            " 54  TotRmsAbvGrd   2919 non-null   int64  \n",
            " 55  Functional     2917 non-null   object \n",
            " 56  Fireplaces     2919 non-null   int64  \n",
            " 57  FireplaceQu    1499 non-null   object \n",
            " 58  GarageType     2762 non-null   object \n",
            " 59  GarageYrBlt    2760 non-null   float64\n",
            " 60  GarageFinish   2760 non-null   object \n",
            " 61  GarageCars     2918 non-null   float64\n",
            " 62  GarageArea     2918 non-null   float64\n",
            " 63  GarageQual     2760 non-null   object \n",
            " 64  GarageCond     2760 non-null   object \n",
            " 65  PavedDrive     2919 non-null   object \n",
            " 66  WoodDeckSF     2919 non-null   int64  \n",
            " 67  OpenPorchSF    2919 non-null   int64  \n",
            " 68  EnclosedPorch  2919 non-null   int64  \n",
            " 69  3SsnPorch      2919 non-null   int64  \n",
            " 70  ScreenPorch    2919 non-null   int64  \n",
            " 71  PoolArea       2919 non-null   int64  \n",
            " 72  PoolQC         10 non-null     object \n",
            " 73  Fence          571 non-null    object \n",
            " 74  MiscFeature    105 non-null    object \n",
            " 75  MiscVal        2919 non-null   int64  \n",
            " 76  MoSold         2919 non-null   int64  \n",
            " 77  YrSold         2919 non-null   int64  \n",
            " 78  SaleType       2918 non-null   object \n",
            " 79  SaleCondition  2919 non-null   object \n",
            " 80  SalePrice      1460 non-null   float64\n",
            "dtypes: float64(12), int64(26), object(43)\n",
            "memory usage: 1.8+ MB\n"
          ],
          "name": "stdout"
        }
      ]
    },
    {
      "cell_type": "markdown",
      "metadata": {
        "id": "R6Lgu5IpeSZf"
      },
      "source": [
        "##2) Basic feature selection\n"
      ]
    },
    {
      "cell_type": "code",
      "metadata": {
        "id": "NRms_kAzQPpC"
      },
      "source": [
        "df.drop(['Alley','PoolQC','Fence','MiscFeature','FireplaceQu','Id'],axis=1,inplace=True) #features with too little data(logical thinking) #Surprisingly all data were meaningful by own meaning"
      ],
      "execution_count": 271,
      "outputs": []
    },
    {
      "cell_type": "markdown",
      "metadata": {
        "id": "6eIXTVPueShH"
      },
      "source": [
        "#2.Preprocessing"
      ]
    },
    {
      "cell_type": "code",
      "metadata": {
        "colab": {
          "base_uri": "https://localhost:8080/"
        },
        "id": "FfCIgZuG5iJR",
        "outputId": "bc5d94d6-ec45-4ce0-d517-75f9303260ac"
      },
      "source": [
        "discrete=[var for var in df.columns if df[var].dtype!='object' and var!='SalePrice' and df[var].nunique()<10] \n",
        "continuous=[var for var in df.columns if df[var].dtype!='object' and var!='SalePrice' and var not in discrete]\n",
        "categorical=[var for var in df.columns if df[var].dtype=='object'] \n",
        "print(f'discrete:{discrete}\\ncontinuous:{continuous}\\ncategorical:{categorical}')"
      ],
      "execution_count": 272,
      "outputs": [
        {
          "output_type": "stream",
          "text": [
            "discrete:['OverallCond', 'BsmtFullBath', 'BsmtHalfBath', 'FullBath', 'HalfBath', 'BedroomAbvGr', 'KitchenAbvGr', 'Fireplaces', 'GarageCars', 'YrSold']\n",
            "continuous:['MSSubClass', 'LotFrontage', 'LotArea', 'OverallQual', 'YearBuilt', 'YearRemodAdd', 'MasVnrArea', 'BsmtFinSF1', 'BsmtFinSF2', 'BsmtUnfSF', 'TotalBsmtSF', '1stFlrSF', '2ndFlrSF', 'LowQualFinSF', 'GrLivArea', 'TotRmsAbvGrd', 'GarageYrBlt', 'GarageArea', 'WoodDeckSF', 'OpenPorchSF', 'EnclosedPorch', '3SsnPorch', 'ScreenPorch', 'PoolArea', 'MiscVal', 'MoSold']\n",
            "categorical:['MSZoning', 'Street', 'LotShape', 'LandContour', 'Utilities', 'LotConfig', 'LandSlope', 'Neighborhood', 'Condition1', 'Condition2', 'BldgType', 'HouseStyle', 'RoofStyle', 'RoofMatl', 'Exterior1st', 'Exterior2nd', 'MasVnrType', 'ExterQual', 'ExterCond', 'Foundation', 'BsmtQual', 'BsmtCond', 'BsmtExposure', 'BsmtFinType1', 'BsmtFinType2', 'Heating', 'HeatingQC', 'CentralAir', 'Electrical', 'KitchenQual', 'Functional', 'GarageType', 'GarageFinish', 'GarageQual', 'GarageCond', 'PavedDrive', 'SaleType', 'SaleCondition']\n"
          ],
          "name": "stdout"
        }
      ]
    },
    {
      "cell_type": "markdown",
      "metadata": {
        "id": "D9c_Y1nYeSkR"
      },
      "source": [
        "##1) Imputation"
      ]
    },
    {
      "cell_type": "code",
      "metadata": {
        "colab": {
          "base_uri": "https://localhost:8080/"
        },
        "id": "8u4UZVgk_CH2",
        "outputId": "a50cd8ae-7cd4-4cab-d2b5-ac03dfd6361d"
      },
      "source": [
        "df.isnull().sum().sort_values(ascending=False).head(35)"
      ],
      "execution_count": 273,
      "outputs": [
        {
          "output_type": "execute_result",
          "data": {
            "text/plain": [
              "SalePrice       1459\n",
              "LotFrontage      486\n",
              "GarageCond       159\n",
              "GarageYrBlt      159\n",
              "GarageFinish     159\n",
              "GarageQual       159\n",
              "GarageType       157\n",
              "BsmtCond          82\n",
              "BsmtExposure      82\n",
              "BsmtQual          81\n",
              "BsmtFinType2      80\n",
              "BsmtFinType1      79\n",
              "MasVnrType        24\n",
              "MasVnrArea        23\n",
              "MSZoning           4\n",
              "Utilities          2\n",
              "Functional         2\n",
              "BsmtFullBath       2\n",
              "BsmtHalfBath       2\n",
              "BsmtFinSF1         1\n",
              "BsmtFinSF2         1\n",
              "Exterior2nd        1\n",
              "GarageArea         1\n",
              "TotalBsmtSF        1\n",
              "BsmtUnfSF          1\n",
              "Electrical         1\n",
              "Exterior1st        1\n",
              "KitchenQual        1\n",
              "SaleType           1\n",
              "GarageCars         1\n",
              "LotShape           0\n",
              "Street             0\n",
              "LotArea            0\n",
              "LandContour        0\n",
              "Neighborhood       0\n",
              "dtype: int64"
            ]
          },
          "metadata": {
            "tags": []
          },
          "execution_count": 273
        }
      ]
    },
    {
      "cell_type": "code",
      "metadata": {
        "colab": {
          "base_uri": "https://localhost:8080/"
        },
        "id": "rHGiXhoFCi-j",
        "outputId": "52b11fa9-b7dd-47f9-e268-e71c1eb040d3"
      },
      "source": [
        "random=['BsmtCond','BsmtExposure','BsmtQual','BsmtFinType2','BsmtFinType1','MasVnrType','MasVnrArea','MSZoning','Utilities','Functional','BsmtFullBath','BsmtHalfBath','BsmtFinSF1','BsmtFinSF2','Exterior2nd','GarageArea','TotalBsmtSF','BsmtUnfSF','Electrical','Exterior1st','KitchenQual','SaleType','GarageCars']\n",
        "imputer=SimpleImputer(strategy='most_frequent')\n",
        "df[random]=imputer.fit_transform(df[random])\n",
        "df.isnull().sum().sort_values(ascending=False).head(10) "
      ],
      "execution_count": 274,
      "outputs": [
        {
          "output_type": "execute_result",
          "data": {
            "text/plain": [
              "SalePrice       1459\n",
              "LotFrontage      486\n",
              "GarageYrBlt      159\n",
              "GarageFinish     159\n",
              "GarageQual       159\n",
              "GarageCond       159\n",
              "GarageType       157\n",
              "MasVnrType         0\n",
              "RoofStyle          0\n",
              "RoofMatl           0\n",
              "dtype: int64"
            ]
          },
          "metadata": {
            "tags": []
          },
          "execution_count": 274
        }
      ]
    },
    {
      "cell_type": "markdown",
      "metadata": {
        "id": "bsKhdQ5-eSd_"
      },
      "source": [
        "##2) Encoding\n",
        "Further imputation needs encoding"
      ]
    },
    {
      "cell_type": "code",
      "metadata": {
        "colab": {
          "base_uri": "https://localhost:8080/"
        },
        "id": "IeTfgJix_ygp",
        "outputId": "78ff41ad-b88e-4dfe-dc03-666f7d3dfd80"
      },
      "source": [
        "for var in categorical:\n",
        "  print(var,':',df[var].nunique())"
      ],
      "execution_count": 275,
      "outputs": [
        {
          "output_type": "stream",
          "text": [
            "MSZoning : 5\n",
            "Street : 2\n",
            "LotShape : 4\n",
            "LandContour : 4\n",
            "Utilities : 2\n",
            "LotConfig : 5\n",
            "LandSlope : 3\n",
            "Neighborhood : 25\n",
            "Condition1 : 9\n",
            "Condition2 : 8\n",
            "BldgType : 5\n",
            "HouseStyle : 8\n",
            "RoofStyle : 6\n",
            "RoofMatl : 8\n",
            "Exterior1st : 15\n",
            "Exterior2nd : 16\n",
            "MasVnrType : 4\n",
            "ExterQual : 4\n",
            "ExterCond : 5\n",
            "Foundation : 6\n",
            "BsmtQual : 4\n",
            "BsmtCond : 4\n",
            "BsmtExposure : 4\n",
            "BsmtFinType1 : 6\n",
            "BsmtFinType2 : 6\n",
            "Heating : 6\n",
            "HeatingQC : 5\n",
            "CentralAir : 2\n",
            "Electrical : 5\n",
            "KitchenQual : 4\n",
            "Functional : 7\n",
            "GarageType : 6\n",
            "GarageFinish : 3\n",
            "GarageQual : 5\n",
            "GarageCond : 5\n",
            "PavedDrive : 3\n",
            "SaleType : 9\n",
            "SaleCondition : 6\n"
          ],
          "name": "stdout"
        }
      ]
    },
    {
      "cell_type": "code",
      "metadata": {
        "id": "LFlZ49T5Buq0"
      },
      "source": [
        "ordinal=['Street','LotShape','LandContour','Utilities','LandSlope','ExterQual','ExterCond','BsmtQual','BsmtCond','BsmtExposure','BsmtFinType1','BsmtFinType2','HeatingQC','CentralAir','Electrical','KitchenQual','Functional','GarageFinish','GarageQual','GarageCond','PavedDrive']\n",
        "nominal=[var for var in categorical if var not in ordinal] #sorted by reading explanation"
      ],
      "execution_count": 276,
      "outputs": []
    },
    {
      "cell_type": "code",
      "metadata": {
        "colab": {
          "base_uri": "https://localhost:8080/"
        },
        "id": "LqdLk2nYQC-r",
        "outputId": "1fe8cd43-5ae7-4d7f-e104-dd6464b9ca59"
      },
      "source": [
        "for var in ordinal:\n",
        "  print(var,df[var].unique())"
      ],
      "execution_count": 278,
      "outputs": [
        {
          "output_type": "stream",
          "text": [
            "Street ['Pave' 'Grvl']\n",
            "LotShape ['Reg' 'IR1' 'IR2' 'IR3']\n",
            "LandContour ['Lvl' 'Bnk' 'Low' 'HLS']\n",
            "Utilities ['AllPub' 'NoSeWa']\n",
            "LandSlope ['Gtl' 'Mod' 'Sev']\n",
            "ExterQual ['Gd' 'TA' 'Ex' 'Fa']\n",
            "ExterCond ['TA' 'Gd' 'Fa' 'Po' 'Ex']\n",
            "BsmtQual ['Gd' 'TA' 'Ex' 'Fa']\n",
            "BsmtCond ['TA' 'Gd' 'Fa' 'Po']\n",
            "BsmtExposure ['No' 'Gd' 'Mn' 'Av']\n",
            "BsmtFinType1 ['GLQ' 'ALQ' 'Unf' 'Rec' 'BLQ' 'LwQ']\n",
            "BsmtFinType2 ['Unf' 'BLQ' 'ALQ' 'Rec' 'LwQ' 'GLQ']\n",
            "HeatingQC ['Ex' 'Gd' 'TA' 'Fa' 'Po']\n",
            "CentralAir ['Y' 'N']\n",
            "Electrical ['SBrkr' 'FuseF' 'FuseA' 'FuseP' 'Mix']\n",
            "KitchenQual ['Gd' 'TA' 'Ex' 'Fa']\n",
            "Functional ['Typ' 'Min1' 'Maj1' 'Min2' 'Mod' 'Maj2' 'Sev']\n",
            "GarageFinish ['RFn' 'Unf' 'Fin' nan]\n",
            "GarageQual ['TA' 'Fa' 'Gd' nan 'Ex' 'Po']\n",
            "GarageCond ['TA' 'Fa' nan 'Gd' 'Po' 'Ex']\n",
            "PavedDrive ['Y' 'N' 'P']\n"
          ],
          "name": "stdout"
        }
      ]
    },
    {
      "cell_type": "code",
      "metadata": {
        "colab": {
          "base_uri": "https://localhost:8080/"
        },
        "id": "Bicw0WK4OdtH",
        "outputId": "a3896fe1-77d7-4e85-8e97-3fdc88d09631"
      },
      "source": [
        "df['LotShape'].replace({Reg:0,})\n",
        "df['LandContour'].replace({})\n",
        "df['LandSlope'].replace({})\n",
        "df['ExterQual'].replace({})\n",
        "df['ExterCond'].replace({})\n",
        "df['BsmtQual'].replace({})\n",
        "df['BsmtCond'].replace({})\n",
        "df['BsmtExposure'].replace({})\n",
        "df['BsmtFinType1'].replace({})\n",
        "df['BsmtFinType2'].replace({})\n",
        "df['HeatingQC'].replace({})\n",
        "df['Electrical'].replace({})\n",
        "df['KitchenQual'].replace({})\n",
        "df['Functional'].replace({})\n",
        "df['GarageFinish'].replace({})\n",
        "df['GarageQual'].replace({})\n",
        "df['GarageCond'].replace({})\n",
        "df['PavedDrive'].replace({})"
      ],
      "execution_count": 263,
      "outputs": [
        {
          "output_type": "execute_result",
          "data": {
            "text/plain": [
              "0       3\n",
              "1       3\n",
              "2       0\n",
              "3       0\n",
              "4       0\n",
              "       ..\n",
              "2914    3\n",
              "2915    3\n",
              "2916    3\n",
              "2917    3\n",
              "2918    3\n",
              "Name: LotShape, Length: 2919, dtype: int64"
            ]
          },
          "metadata": {
            "tags": []
          },
          "execution_count": 263
        }
      ]
    },
    {
      "cell_type": "code",
      "metadata": {
        "colab": {
          "base_uri": "https://localhost:8080/"
        },
        "id": "coDdRvUSJ5-v",
        "outputId": "78541d55-26ff-40c3-9fb9-038c59782649"
      },
      "source": [
        "for var in ordinal:\n",
        "  le=LabelEncoder().fit_transform(df[var].astype(str))\n",
        "  df[var]=pd.Series(le)\n",
        "  print(df[var].unique())"
      ],
      "execution_count": 262,
      "outputs": [
        {
          "output_type": "stream",
          "text": [
            "[1 0]\n",
            "[3 0 1 2]\n",
            "[3 0 2 1]\n",
            "[0 1]\n",
            "[0 1 2]\n",
            "[2 3 0 1]\n",
            "[4 2 1 3 0]\n",
            "[2 3 0 1]\n",
            "[3 1 0 2]\n",
            "[3 1 2 0]\n",
            "[2 0 5 4 1 3]\n",
            "[5 1 0 4 3 2]\n",
            "[0 2 4 1 3]\n",
            "[1 0]\n",
            "[4 1 0 2 3]\n",
            "[2 3 0 1]\n",
            "[6 2 0 3 4 1 5]\n",
            "[1 2 0 3]\n",
            "[4 1 2 5 0 3]\n",
            "[4 1 5 2 3 0]\n",
            "[2 0 1]\n"
          ],
          "name": "stdout"
        }
      ]
    },
    {
      "cell_type": "code",
      "metadata": {
        "id": "bp5r13OHFhE-"
      },
      "source": [
        "garage=df[['GarageCars','GarageArea','GarageYrBlt','GarageFinish','GarageQual','GarageCond','GarageType']]#5 out of 6 missing data were related to garage(7garagecolumns)\n",
        "lot=df[['LotFrontage','LotArea','LotShape','LotConfig']]"
      ],
      "execution_count": 239,
      "outputs": []
    },
    {
      "cell_type": "code",
      "metadata": {
        "colab": {
          "base_uri": "https://localhost:8080/"
        },
        "id": "2UdzKPN381pj",
        "outputId": "a059f3ea-af83-4eb3-a2d5-21917ff447cc"
      },
      "source": [
        "df.groupby('LotShape')['LotFrontage'].median()"
      ],
      "execution_count": 240,
      "outputs": [
        {
          "output_type": "execute_result",
          "data": {
            "text/plain": [
              "LotShape\n",
              "0    74.0\n",
              "1    57.0\n",
              "2    90.0\n",
              "3    65.0\n",
              "Name: LotFrontage, dtype: float64"
            ]
          },
          "metadata": {
            "tags": []
          },
          "execution_count": 240
        }
      ]
    },
    {
      "cell_type": "code",
      "metadata": {
        "colab": {
          "base_uri": "https://localhost:8080/"
        },
        "id": "bMsl7uzY9F65",
        "outputId": "dddc0c0e-88fd-4656-acb2-e98b8cab4d43"
      },
      "source": [
        "df.groupby('LotConfig')['LotFrontage'].median()"
      ],
      "execution_count": 241,
      "outputs": [
        {
          "output_type": "execute_result",
          "data": {
            "text/plain": [
              "LotConfig\n",
              "Corner     80.0\n",
              "CulDSac    50.0\n",
              "FR2        62.0\n",
              "FR3        66.0\n",
              "Inside     66.0\n",
              "Name: LotFrontage, dtype: float64"
            ]
          },
          "metadata": {
            "tags": []
          },
          "execution_count": 241
        }
      ]
    },
    {
      "cell_type": "code",
      "metadata": {
        "colab": {
          "base_uri": "https://localhost:8080/",
          "height": 614
        },
        "id": "YmxyP0ZaI6E1",
        "outputId": "c0b43779-5969-47e0-bef7-8cbe597e8bd5"
      },
      "source": [
        "fig=plt.figure(figsize=(10,10))\n",
        "sns.heatmap(lot.corr(),cmap='Blues',annot=True)"
      ],
      "execution_count": 242,
      "outputs": [
        {
          "output_type": "execute_result",
          "data": {
            "text/plain": [
              "<matplotlib.axes._subplots.AxesSubplot at 0x7f2c7a556b50>"
            ]
          },
          "metadata": {
            "tags": []
          },
          "execution_count": 242
        },
        {
          "output_type": "display_data",
          "data": {
            "image/png": "[encoded data removed]",
            "text/plain": [
              "<Figure size 720x720 with 2 Axes>"
            ]
          },
          "metadata": {
            "tags": [],
            "needs_background": "light"
          }
        }
      ]
    },
    {
      "cell_type": "markdown",
      "metadata": {
        "id": "FrClhaqzeSm2"
      },
      "source": [
        "##3) Discretization&Scaling"
      ]
    },
    {
      "cell_type": "code",
      "metadata": {
        "colab": {
          "base_uri": "https://localhost:8080/"
        },
        "id": "PuSjD7jn__Sa",
        "outputId": "3591bfd9-53a3-47dc-d222-9db4c6833759"
      },
      "source": [
        "for var in continuous:\n",
        "  print(var,':',df[var].nunique())"
      ],
      "execution_count": 243,
      "outputs": [
        {
          "output_type": "stream",
          "text": [
            "MSSubClass : 16\n",
            "LotFrontage : 128\n",
            "LotArea : 1951\n",
            "OverallQual : 10\n",
            "YearBuilt : 118\n",
            "YearRemodAdd : 61\n",
            "MasVnrArea : 444\n",
            "BsmtFinSF1 : 991\n",
            "BsmtFinSF2 : 272\n",
            "BsmtUnfSF : 1135\n",
            "TotalBsmtSF : 1058\n",
            "1stFlrSF : 1083\n",
            "2ndFlrSF : 635\n",
            "LowQualFinSF : 36\n",
            "GrLivArea : 1292\n",
            "TotRmsAbvGrd : 14\n",
            "GarageYrBlt : 103\n",
            "GarageArea : 603\n",
            "WoodDeckSF : 379\n",
            "OpenPorchSF : 252\n",
            "EnclosedPorch : 183\n",
            "3SsnPorch : 31\n",
            "ScreenPorch : 121\n",
            "PoolArea : 14\n",
            "MiscVal : 38\n",
            "MoSold : 12\n"
          ],
          "name": "stdout"
        }
      ]
    },
    {
      "cell_type": "markdown",
      "metadata": {
        "id": "OfolJQYaljZn"
      },
      "source": [
        "##4) feature selection"
      ]
    },
    {
      "cell_type": "markdown",
      "metadata": {
        "id": "QH2fSRiSeSpW"
      },
      "source": [
        "#3.Modeling"
      ]
    },
    {
      "cell_type": "code",
      "metadata": {
        "id": "P9LYlCc8-kcf"
      },
      "source": [
        "test_df=df[df['SalePrice'].isna()!=0]\n",
        "train_df=df[df['SalePrice'].isna()==0]\n",
        "target_df=train_df['SalePrice']\n",
        "feature_df=train_df.drop(['SalePrice'],axis=1,inplace=False)\n",
        "X_train,X_test,y_train,y_test=train_test_split(feature_df,target_df,test_size=0.2,random_state=42)"
      ],
      "execution_count": 244,
      "outputs": []
    },
    {
      "cell_type": "code",
      "metadata": {
        "id": "Ib8cWZZMEb5y"
      },
      "source": [
        "def get_eval(real,pred):\n",
        "  eval=np.sqrt(mean_squred_error(np.log1p(real),pred)) #mse is embedded metric #only targetdata is logscaled \n",
        "  print('RMSLE:',eval)"
      ],
      "execution_count": 245,
      "outputs": []
    },
    {
      "cell_type": "code",
      "metadata": {
        "id": "fzm3V6BR_NhQ",
        "colab": {
          "base_uri": "https://localhost:8080/",
          "height": 394
        },
        "outputId": "44918ece-c08b-43df-f4fd-631c315eb0cb"
      },
      "source": [
        "lr_reg=LinearRegression()\n",
        "lr_reg.fit(X_train,y_train)\n",
        "pred1=lr_reg.predict(X_test)\n",
        "ridge_reg=Ridge()\n",
        "ridge_reg.fit(X_train,y_train)\n",
        "pred2=ridge_reg.predict(X_test)\n",
        "lasso_reg=Lasso()\n",
        "lasso_reg.fit(X_train,y_train)\n",
        "pred3=lasso_reg.predict(X_test)"
      ],
      "execution_count": 246,
      "outputs": [
        {
          "output_type": "error",
          "ename": "ValueError",
          "evalue": "ignored",
          "traceback": [
            "\u001b[0;31m---------------------------------------------------------------------------\u001b[0m",
            "\u001b[0;31mValueError\u001b[0m                                Traceback (most recent call last)",
            "\u001b[0;32m<ipython-input-246-c00ff6986a70>\u001b[0m in \u001b[0;36m<module>\u001b[0;34m()\u001b[0m\n\u001b[1;32m      1\u001b[0m \u001b[0mlr_reg\u001b[0m\u001b[0;34m=\u001b[0m\u001b[0mLinearRegression\u001b[0m\u001b[0;34m(\u001b[0m\u001b[0;34m)\u001b[0m\u001b[0;34m\u001b[0m\u001b[0;34m\u001b[0m\u001b[0m\n\u001b[0;32m----> 2\u001b[0;31m \u001b[0mlr_reg\u001b[0m\u001b[0;34m.\u001b[0m\u001b[0mfit\u001b[0m\u001b[0;34m(\u001b[0m\u001b[0mX_train\u001b[0m\u001b[0;34m,\u001b[0m\u001b[0my_train\u001b[0m\u001b[0;34m)\u001b[0m\u001b[0;34m\u001b[0m\u001b[0;34m\u001b[0m\u001b[0m\n\u001b[0m\u001b[1;32m      3\u001b[0m \u001b[0mpred1\u001b[0m\u001b[0;34m=\u001b[0m\u001b[0mlr_reg\u001b[0m\u001b[0;34m.\u001b[0m\u001b[0mpredict\u001b[0m\u001b[0;34m(\u001b[0m\u001b[0mX_test\u001b[0m\u001b[0;34m)\u001b[0m\u001b[0;34m\u001b[0m\u001b[0;34m\u001b[0m\u001b[0m\n\u001b[1;32m      4\u001b[0m \u001b[0mridge_reg\u001b[0m\u001b[0;34m=\u001b[0m\u001b[0mRidge\u001b[0m\u001b[0;34m(\u001b[0m\u001b[0;34m)\u001b[0m\u001b[0;34m\u001b[0m\u001b[0;34m\u001b[0m\u001b[0m\n\u001b[1;32m      5\u001b[0m \u001b[0mridge_reg\u001b[0m\u001b[0;34m.\u001b[0m\u001b[0mfit\u001b[0m\u001b[0;34m(\u001b[0m\u001b[0mX_train\u001b[0m\u001b[0;34m,\u001b[0m\u001b[0my_train\u001b[0m\u001b[0;34m)\u001b[0m\u001b[0;34m\u001b[0m\u001b[0;34m\u001b[0m\u001b[0m\n",
            "\u001b[0;32m/usr/local/lib/python3.7/dist-packages/sklearn/linear_model/_base.py\u001b[0m in \u001b[0;36mfit\u001b[0;34m(self, X, y, sample_weight)\u001b[0m\n\u001b[1;32m    490\u001b[0m         \u001b[0mn_jobs_\u001b[0m \u001b[0;34m=\u001b[0m \u001b[0mself\u001b[0m\u001b[0;34m.\u001b[0m\u001b[0mn_jobs\u001b[0m\u001b[0;34m\u001b[0m\u001b[0;34m\u001b[0m\u001b[0m\n\u001b[1;32m    491\u001b[0m         X, y = check_X_y(X, y, accept_sparse=['csr', 'csc', 'coo'],\n\u001b[0;32m--> 492\u001b[0;31m                          y_numeric=True, multi_output=True)\n\u001b[0m\u001b[1;32m    493\u001b[0m \u001b[0;34m\u001b[0m\u001b[0m\n\u001b[1;32m    494\u001b[0m         \u001b[0;32mif\u001b[0m \u001b[0msample_weight\u001b[0m \u001b[0;32mis\u001b[0m \u001b[0;32mnot\u001b[0m \u001b[0;32mNone\u001b[0m\u001b[0;34m:\u001b[0m\u001b[0;34m\u001b[0m\u001b[0;34m\u001b[0m\u001b[0m\n",
            "\u001b[0;32m/usr/local/lib/python3.7/dist-packages/sklearn/utils/validation.py\u001b[0m in \u001b[0;36mcheck_X_y\u001b[0;34m(X, y, accept_sparse, accept_large_sparse, dtype, order, copy, force_all_finite, ensure_2d, allow_nd, multi_output, ensure_min_samples, ensure_min_features, y_numeric, warn_on_dtype, estimator)\u001b[0m\n\u001b[1;32m    753\u001b[0m                     \u001b[0mensure_min_features\u001b[0m\u001b[0;34m=\u001b[0m\u001b[0mensure_min_features\u001b[0m\u001b[0;34m,\u001b[0m\u001b[0;34m\u001b[0m\u001b[0;34m\u001b[0m\u001b[0m\n\u001b[1;32m    754\u001b[0m                     \u001b[0mwarn_on_dtype\u001b[0m\u001b[0;34m=\u001b[0m\u001b[0mwarn_on_dtype\u001b[0m\u001b[0;34m,\u001b[0m\u001b[0;34m\u001b[0m\u001b[0;34m\u001b[0m\u001b[0m\n\u001b[0;32m--> 755\u001b[0;31m                     estimator=estimator)\n\u001b[0m\u001b[1;32m    756\u001b[0m     \u001b[0;32mif\u001b[0m \u001b[0mmulti_output\u001b[0m\u001b[0;34m:\u001b[0m\u001b[0;34m\u001b[0m\u001b[0;34m\u001b[0m\u001b[0m\n\u001b[1;32m    757\u001b[0m         y = check_array(y, 'csr', force_all_finite=True, ensure_2d=False,\n",
            "\u001b[0;32m/usr/local/lib/python3.7/dist-packages/sklearn/utils/validation.py\u001b[0m in \u001b[0;36mcheck_array\u001b[0;34m(array, accept_sparse, accept_large_sparse, dtype, order, copy, force_all_finite, ensure_2d, allow_nd, ensure_min_samples, ensure_min_features, warn_on_dtype, estimator)\u001b[0m\n\u001b[1;32m    529\u001b[0m                     \u001b[0marray\u001b[0m \u001b[0;34m=\u001b[0m \u001b[0marray\u001b[0m\u001b[0;34m.\u001b[0m\u001b[0mastype\u001b[0m\u001b[0;34m(\u001b[0m\u001b[0mdtype\u001b[0m\u001b[0;34m,\u001b[0m \u001b[0mcasting\u001b[0m\u001b[0;34m=\u001b[0m\u001b[0;34m\"unsafe\"\u001b[0m\u001b[0;34m,\u001b[0m \u001b[0mcopy\u001b[0m\u001b[0;34m=\u001b[0m\u001b[0;32mFalse\u001b[0m\u001b[0;34m)\u001b[0m\u001b[0;34m\u001b[0m\u001b[0;34m\u001b[0m\u001b[0m\n\u001b[1;32m    530\u001b[0m                 \u001b[0;32melse\u001b[0m\u001b[0;34m:\u001b[0m\u001b[0;34m\u001b[0m\u001b[0;34m\u001b[0m\u001b[0m\n\u001b[0;32m--> 531\u001b[0;31m                     \u001b[0marray\u001b[0m \u001b[0;34m=\u001b[0m \u001b[0mnp\u001b[0m\u001b[0;34m.\u001b[0m\u001b[0masarray\u001b[0m\u001b[0;34m(\u001b[0m\u001b[0marray\u001b[0m\u001b[0;34m,\u001b[0m \u001b[0morder\u001b[0m\u001b[0;34m=\u001b[0m\u001b[0morder\u001b[0m\u001b[0;34m,\u001b[0m \u001b[0mdtype\u001b[0m\u001b[0;34m=\u001b[0m\u001b[0mdtype\u001b[0m\u001b[0;34m)\u001b[0m\u001b[0;34m\u001b[0m\u001b[0;34m\u001b[0m\u001b[0m\n\u001b[0m\u001b[1;32m    532\u001b[0m             \u001b[0;32mexcept\u001b[0m \u001b[0mComplexWarning\u001b[0m\u001b[0;34m:\u001b[0m\u001b[0;34m\u001b[0m\u001b[0;34m\u001b[0m\u001b[0m\n\u001b[1;32m    533\u001b[0m                 raise ValueError(\"Complex data not supported\\n\"\n",
            "\u001b[0;32m/usr/local/lib/python3.7/dist-packages/numpy/core/_asarray.py\u001b[0m in \u001b[0;36masarray\u001b[0;34m(a, dtype, order)\u001b[0m\n\u001b[1;32m     81\u001b[0m \u001b[0;34m\u001b[0m\u001b[0m\n\u001b[1;32m     82\u001b[0m     \"\"\"\n\u001b[0;32m---> 83\u001b[0;31m     \u001b[0;32mreturn\u001b[0m \u001b[0marray\u001b[0m\u001b[0;34m(\u001b[0m\u001b[0ma\u001b[0m\u001b[0;34m,\u001b[0m \u001b[0mdtype\u001b[0m\u001b[0;34m,\u001b[0m \u001b[0mcopy\u001b[0m\u001b[0;34m=\u001b[0m\u001b[0;32mFalse\u001b[0m\u001b[0;34m,\u001b[0m \u001b[0morder\u001b[0m\u001b[0;34m=\u001b[0m\u001b[0morder\u001b[0m\u001b[0;34m)\u001b[0m\u001b[0;34m\u001b[0m\u001b[0;34m\u001b[0m\u001b[0m\n\u001b[0m\u001b[1;32m     84\u001b[0m \u001b[0;34m\u001b[0m\u001b[0m\n\u001b[1;32m     85\u001b[0m \u001b[0;34m\u001b[0m\u001b[0m\n",
            "\u001b[0;32m/usr/local/lib/python3.7/dist-packages/pandas/core/generic.py\u001b[0m in \u001b[0;36m__array__\u001b[0;34m(self, dtype)\u001b[0m\n\u001b[1;32m   1779\u001b[0m \u001b[0;34m\u001b[0m\u001b[0m\n\u001b[1;32m   1780\u001b[0m     \u001b[0;32mdef\u001b[0m \u001b[0m__array__\u001b[0m\u001b[0;34m(\u001b[0m\u001b[0mself\u001b[0m\u001b[0;34m,\u001b[0m \u001b[0mdtype\u001b[0m\u001b[0;34m=\u001b[0m\u001b[0;32mNone\u001b[0m\u001b[0;34m)\u001b[0m \u001b[0;34m->\u001b[0m \u001b[0mnp\u001b[0m\u001b[0;34m.\u001b[0m\u001b[0mndarray\u001b[0m\u001b[0;34m:\u001b[0m\u001b[0;34m\u001b[0m\u001b[0;34m\u001b[0m\u001b[0m\n\u001b[0;32m-> 1781\u001b[0;31m         \u001b[0;32mreturn\u001b[0m \u001b[0mnp\u001b[0m\u001b[0;34m.\u001b[0m\u001b[0masarray\u001b[0m\u001b[0;34m(\u001b[0m\u001b[0mself\u001b[0m\u001b[0;34m.\u001b[0m\u001b[0m_values\u001b[0m\u001b[0;34m,\u001b[0m \u001b[0mdtype\u001b[0m\u001b[0;34m=\u001b[0m\u001b[0mdtype\u001b[0m\u001b[0;34m)\u001b[0m\u001b[0;34m\u001b[0m\u001b[0;34m\u001b[0m\u001b[0m\n\u001b[0m\u001b[1;32m   1782\u001b[0m \u001b[0;34m\u001b[0m\u001b[0m\n\u001b[1;32m   1783\u001b[0m     \u001b[0;32mdef\u001b[0m \u001b[0m__array_wrap__\u001b[0m\u001b[0;34m(\u001b[0m\u001b[0mself\u001b[0m\u001b[0;34m,\u001b[0m \u001b[0mresult\u001b[0m\u001b[0;34m,\u001b[0m \u001b[0mcontext\u001b[0m\u001b[0;34m=\u001b[0m\u001b[0;32mNone\u001b[0m\u001b[0;34m)\u001b[0m\u001b[0;34m:\u001b[0m\u001b[0;34m\u001b[0m\u001b[0;34m\u001b[0m\u001b[0m\n",
            "\u001b[0;32m/usr/local/lib/python3.7/dist-packages/numpy/core/_asarray.py\u001b[0m in \u001b[0;36masarray\u001b[0;34m(a, dtype, order)\u001b[0m\n\u001b[1;32m     81\u001b[0m \u001b[0;34m\u001b[0m\u001b[0m\n\u001b[1;32m     82\u001b[0m     \"\"\"\n\u001b[0;32m---> 83\u001b[0;31m     \u001b[0;32mreturn\u001b[0m \u001b[0marray\u001b[0m\u001b[0;34m(\u001b[0m\u001b[0ma\u001b[0m\u001b[0;34m,\u001b[0m \u001b[0mdtype\u001b[0m\u001b[0;34m,\u001b[0m \u001b[0mcopy\u001b[0m\u001b[0;34m=\u001b[0m\u001b[0;32mFalse\u001b[0m\u001b[0;34m,\u001b[0m \u001b[0morder\u001b[0m\u001b[0;34m=\u001b[0m\u001b[0morder\u001b[0m\u001b[0;34m)\u001b[0m\u001b[0;34m\u001b[0m\u001b[0;34m\u001b[0m\u001b[0m\n\u001b[0m\u001b[1;32m     84\u001b[0m \u001b[0;34m\u001b[0m\u001b[0m\n\u001b[1;32m     85\u001b[0m \u001b[0;34m\u001b[0m\u001b[0m\n",
            "\u001b[0;31mValueError\u001b[0m: could not convert string to float: 'RL'"
          ]
        }
      ]
    },
    {
      "cell_type": "code",
      "metadata": {
        "id": "9XVMafv-H29e"
      },
      "source": [
        "get_eval(y_test,pred1)\n",
        "get_eval(y_test,pred2)\n",
        "get_eval(y_test,pred3)"
      ],
      "execution_count": null,
      "outputs": []
    },
    {
      "cell_type": "markdown",
      "metadata": {
        "id": "Uir1DtRsvCiA"
      },
      "source": [
        "#Uploading"
      ]
    },
    {
      "cell_type": "markdown",
      "metadata": {
        "id": "IdK5veUvvFk9"
      },
      "source": [
        "#1) Feedback"
      ]
    },
    {
      "cell_type": "markdown",
      "metadata": {
        "id": "jsyBqzINvIid"
      },
      "source": [
        "#2) Afterwords\n"
      ]
    }
  ]
}